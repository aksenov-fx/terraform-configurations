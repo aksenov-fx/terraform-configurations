{
 "cells": [
  {
   "cell_type": "markdown",
   "metadata": {},
   "source": [
    "#### Initialize ####"
   ]
  },
  {
   "cell_type": "code",
   "execution_count": 23,
   "metadata": {
    "dotnet_interactive": {
     "language": "pwsh"
    },
    "polyglot_notebook": {
     "kernelName": "pwsh"
    }
   },
   "outputs": [],
   "source": [
    "function tf {aws-vault exec terraform_user -- terraform $args}\n",
    "\n",
    "function prompt_to_confirm { \n",
    "    $user_response = Read-host \"Continue? y/n or 1/0\"\n",
    "    if ($user_response -ne \"y\" -and $user_response -ne 1) {break}\n",
    "}"
   ]
  },
  {
   "cell_type": "code",
   "execution_count": 24,
   "metadata": {
    "dotnet_interactive": {
     "language": "pwsh"
    },
    "polyglot_notebook": {
     "kernelName": "pwsh"
    }
   },
   "outputs": [],
   "source": [
    "$aws_region = \"us-east-2\"\n",
    "$env:AWS_REGION=$aws_region #for aws_vault\n",
    "$env:TF_VAR_aws_region=$aws_region #for terraform"
   ]
  },
  {
   "cell_type": "code",
   "execution_count": 34,
   "metadata": {
    "dotnet_interactive": {
     "language": "pwsh"
    },
    "polyglot_notebook": {
     "kernelName": "pwsh"
    }
   },
   "outputs": [
    {
     "name": "stdout",
     "output_type": "stream",
     "text": [
      "\u001b[0m\u001b[1mInitializing the backend...\u001b[0m\n",
      "\u001b[0m\u001b[1mInitializing modules...\u001b[0m\n",
      "Downloading git::https://github.com/aksenov-fx/terraform-modules.git for one_webserver...\n",
      "- one_webserver in .terraform\\modules\\one_webserver\\configurations_modules\\one_webserver\n",
      "\u001b[0m\u001b[1mInitializing provider plugins...\u001b[0m\n",
      "- Reusing previous version of hashicorp/local from the dependency lock file\n",
      "- Reusing previous version of hashicorp/tls from the dependency lock file\n",
      "- Reusing previous version of hashicorp/aws from the dependency lock file\n",
      "- Using previously-installed hashicorp/local v2.5.2\n",
      "- Using previously-installed hashicorp/tls v4.0.6\n",
      "- Using previously-installed hashicorp/aws v5.70.0\n",
      "\n",
      "\u001b[0m\u001b[1m\u001b[32mTerraform has been successfully initialized!\u001b[0m\u001b[32m\u001b[0m\n",
      "\u001b[0m\u001b[32m\n",
      "You may now begin working with Terraform. Try running \"terraform plan\" to see\n",
      "any changes that are required for your infrastructure. All Terraform commands\n",
      "should now work.\n",
      "\n",
      "If you ever set or change modules or backend configuration for Terraform,\n",
      "rerun this command to reinitialize your working directory. If you forget, other\n",
      "commands will detect it and remind you to do so if necessary.\u001b[0m\n"
     ]
    }
   ],
   "source": [
    "terraform init #-upgrade"
   ]
  },
  {
   "cell_type": "markdown",
   "metadata": {},
   "source": [
    "#### Workflow ####"
   ]
  },
  {
   "cell_type": "code",
   "execution_count": 26,
   "metadata": {
    "dotnet_interactive": {
     "language": "pwsh"
    },
    "polyglot_notebook": {
     "kernelName": "pwsh"
    }
   },
   "outputs": [],
   "source": [
    "terraform fmt"
   ]
  },
  {
   "cell_type": "code",
   "execution_count": 27,
   "metadata": {
    "dotnet_interactive": {
     "language": "pwsh"
    },
    "polyglot_notebook": {
     "kernelName": "pwsh"
    }
   },
   "outputs": [
    {
     "name": "stdout",
     "output_type": "stream",
     "text": [
      "\u001b[32m\u001b[1mSuccess!\u001b[0m The configuration is valid.\n",
      "\u001b[0m\n"
     ]
    }
   ],
   "source": [
    "terraform validate"
   ]
  },
  {
   "cell_type": "code",
   "execution_count": 28,
   "metadata": {
    "dotnet_interactive": {
     "language": "pwsh"
    },
    "polyglot_notebook": {
     "kernelName": "pwsh"
    }
   },
   "outputs": [],
   "source": [
    "$keyname = \"ssh_key\"\n",
    "$env:TF_VAR_ssh_keyname=$keyname\n",
    "#ssh-keygen -t rsa -b 4096 -f $keyname -N \"\" -C $keyname.pem"
   ]
  },
  {
   "cell_type": "code",
   "execution_count": 38,
   "metadata": {
    "dotnet_interactive": {
     "language": "pwsh"
    },
    "polyglot_notebook": {
     "kernelName": "pwsh"
    }
   },
   "outputs": [
    {
     "name": "stdout",
     "output_type": "stream",
     "text": [
      "\u001b[0m\u001b[1mdata.aws_ami.ami: Reading...\u001b[0m\u001b[0m\n",
      "\u001b[0m\u001b[1mmodule.one_webserver.data.aws_subnet.public_subnet: Reading...\u001b[0m\u001b[0m\n",
      "\u001b[0m\u001b[1mmodule.one_webserver.data.aws_vpc.existing_vpc: Reading...\u001b[0m\u001b[0m\n",
      "\u001b[0m\u001b[1mdata.aws_ami.ami: Read complete after 1s [id=ami-09da212cf18033880]\u001b[0m\n",
      "\u001b[0m\u001b[1mmodule.one_webserver.data.aws_subnet.public_subnet: Read complete after 1s [id=subnet-0c13b6812ab6e3f89]\u001b[0m\n",
      "\u001b[0m\u001b[1mmodule.one_webserver.data.aws_vpc.existing_vpc: Read complete after 2s [id=vpc-0a4860611e96d1d85]\u001b[0m\n",
      "\n",
      "Terraform used the selected providers to generate the following execution\n",
      "plan. Resource actions are indicated with the following symbols:\n",
      "  \u001b[32m+\u001b[0m create\u001b[0m\n",
      "\n",
      "Terraform will perform the following actions:\n",
      "\n",
      "\u001b[1m  # local_file.private_key\u001b[0m will be created\n",
      "\u001b[0m  \u001b[32m+\u001b[0m\u001b[0m resource \"local_file\" \"private_key\" {\n",
      "      \u001b[32m+\u001b[0m\u001b[0m content              = (sensitive value)\n",
      "      \u001b[32m+\u001b[0m\u001b[0m content_base64sha256 = (known after apply)\n",
      "      \u001b[32m+\u001b[0m\u001b[0m content_base64sha512 = (known after apply)\n",
      "      \u001b[32m+\u001b[0m\u001b[0m content_md5          = (known after apply)\n",
      "      \u001b[32m+\u001b[0m\u001b[0m content_sha1         = (known after apply)\n",
      "      \u001b[32m+\u001b[0m\u001b[0m content_sha256       = (known after apply)\n",
      "      \u001b[32m+\u001b[0m\u001b[0m content_sha512       = (known after apply)\n",
      "      \u001b[32m+\u001b[0m\u001b[0m directory_permission = \"0777\"\n",
      "      \u001b[32m+\u001b[0m\u001b[0m file_permission      = \"0777\"\n",
      "      \u001b[32m+\u001b[0m\u001b[0m filename             = \"./ssh_key.pem\"\n",
      "      \u001b[32m+\u001b[0m\u001b[0m id                   = (known after apply)\n",
      "    }\n",
      "\n",
      "\u001b[1m  # module.one_webserver.aws_instance.example\u001b[0m will be created\n",
      "\u001b[0m  \u001b[32m+\u001b[0m\u001b[0m resource \"aws_instance\" \"example\" {\n",
      "      \u001b[32m+\u001b[0m\u001b[0m ami                                  = \"ami-09da212cf18033880\"\n",
      "      \u001b[32m+\u001b[0m\u001b[0m arn                                  = (known after apply)\n",
      "      \u001b[32m+\u001b[0m\u001b[0m associate_public_ip_address          = true\n",
      "      \u001b[32m+\u001b[0m\u001b[0m availability_zone                    = (known after apply)\n",
      "      \u001b[32m+\u001b[0m\u001b[0m cpu_core_count                       = (known after apply)\n",
      "      \u001b[32m+\u001b[0m\u001b[0m cpu_threads_per_core                 = (known after apply)\n",
      "      \u001b[32m+\u001b[0m\u001b[0m disable_api_stop                     = (known after apply)\n",
      "      \u001b[32m+\u001b[0m\u001b[0m disable_api_termination              = (known after apply)\n",
      "      \u001b[32m+\u001b[0m\u001b[0m ebs_optimized                        = (known after apply)\n",
      "      \u001b[32m+\u001b[0m\u001b[0m get_password_data                    = false\n",
      "      \u001b[32m+\u001b[0m\u001b[0m host_id                              = (known after apply)\n",
      "      \u001b[32m+\u001b[0m\u001b[0m host_resource_group_arn              = (known after apply)\n",
      "      \u001b[32m+\u001b[0m\u001b[0m iam_instance_profile                 = (known after apply)\n",
      "      \u001b[32m+\u001b[0m\u001b[0m id                                   = (known after apply)\n",
      "      \u001b[32m+\u001b[0m\u001b[0m instance_initiated_shutdown_behavior = (known after apply)\n",
      "      \u001b[32m+\u001b[0m\u001b[0m instance_lifecycle                   = (known after apply)\n",
      "      \u001b[32m+\u001b[0m\u001b[0m instance_state                       = (known after apply)\n",
      "      \u001b[32m+\u001b[0m\u001b[0m instance_type                        = \"t2.micro\"\n",
      "      \u001b[32m+\u001b[0m\u001b[0m ipv6_address_count                   = (known after apply)\n",
      "      \u001b[32m+\u001b[0m\u001b[0m ipv6_addresses                       = (known after apply)\n",
      "      \u001b[32m+\u001b[0m\u001b[0m key_name                             = \"my-key-pair\"\n",
      "      \u001b[32m+\u001b[0m\u001b[0m monitoring                           = (known after apply)\n",
      "      \u001b[32m+\u001b[0m\u001b[0m outpost_arn                          = (known after apply)\n",
      "      \u001b[32m+\u001b[0m\u001b[0m password_data                        = (known after apply)\n",
      "      \u001b[32m+\u001b[0m\u001b[0m placement_group                      = (known after apply)\n",
      "      \u001b[32m+\u001b[0m\u001b[0m placement_partition_number           = (known after apply)\n",
      "      \u001b[32m+\u001b[0m\u001b[0m primary_network_interface_id         = (known after apply)\n",
      "      \u001b[32m+\u001b[0m\u001b[0m private_dns                          = (known after apply)\n",
      "      \u001b[32m+\u001b[0m\u001b[0m private_ip                           = (known after apply)\n",
      "      \u001b[32m+\u001b[0m\u001b[0m public_dns                           = (known after apply)\n",
      "      \u001b[32m+\u001b[0m\u001b[0m public_ip                            = (known after apply)\n",
      "      \u001b[32m+\u001b[0m\u001b[0m secondary_private_ips                = (known after apply)\n",
      "      \u001b[32m+\u001b[0m\u001b[0m security_groups                      = (known after apply)\n",
      "      \u001b[32m+\u001b[0m\u001b[0m source_dest_check                    = true\n",
      "      \u001b[32m+\u001b[0m\u001b[0m spot_instance_request_id             = (known after apply)\n",
      "      \u001b[32m+\u001b[0m\u001b[0m subnet_id                            = \"subnet-0c13b6812ab6e3f89\"\n",
      "      \u001b[32m+\u001b[0m\u001b[0m tags                                 = {\n",
      "          \u001b[32m+\u001b[0m\u001b[0m \"first_tag\" = \"first_tag_value\"\n",
      "          \u001b[32m+\u001b[0m\u001b[0m \"name\"      = \"one_webserver-prod\"\n",
      "        }\n",
      "      \u001b[32m+\u001b[0m\u001b[0m tags_all                             = {\n",
      "          \u001b[32m+\u001b[0m\u001b[0m \"first_tag\" = \"first_tag_value\"\n",
      "          \u001b[32m+\u001b[0m\u001b[0m \"name\"      = \"one_webserver-prod\"\n",
      "        }\n",
      "      \u001b[32m+\u001b[0m\u001b[0m tenancy                              = (known after apply)\n",
      "      \u001b[32m+\u001b[0m\u001b[0m user_data                            = \"13055cb6588562f735cc9e92e2fdf3c33548e1f0\"\n",
      "      \u001b[32m+\u001b[0m\u001b[0m user_data_base64                     = (known after apply)\n",
      "      \u001b[32m+\u001b[0m\u001b[0m user_data_replace_on_change          = true\n",
      "      \u001b[32m+\u001b[0m\u001b[0m vpc_security_group_ids               = (known after apply)\n",
      "\n",
      "      \u001b[32m+\u001b[0m\u001b[0m capacity_reservation_specification (known after apply)\n",
      "\n",
      "      \u001b[32m+\u001b[0m\u001b[0m cpu_options (known after apply)\n",
      "\n",
      "      \u001b[32m+\u001b[0m\u001b[0m ebs_block_device (known after apply)\n",
      "\n",
      "      \u001b[32m+\u001b[0m\u001b[0m enclave_options (known after apply)\n",
      "\n",
      "      \u001b[32m+\u001b[0m\u001b[0m ephemeral_block_device (known after apply)\n",
      "\n",
      "      \u001b[32m+\u001b[0m\u001b[0m instance_market_options (known after apply)\n",
      "\n",
      "      \u001b[32m+\u001b[0m\u001b[0m maintenance_options (known after apply)\n",
      "\n",
      "      \u001b[32m+\u001b[0m\u001b[0m metadata_options (known after apply)\n",
      "\n",
      "      \u001b[32m+\u001b[0m\u001b[0m network_interface (known after apply)\n",
      "\n",
      "      \u001b[32m+\u001b[0m\u001b[0m private_dns_name_options (known after apply)\n",
      "\n",
      "      \u001b[32m+\u001b[0m\u001b[0m root_block_device (known after apply)\n",
      "    }\n",
      "\n",
      "\u001b[1m  # module.one_webserver.aws_key_pair.generated_key\u001b[0m will be created\n",
      "\u001b[0m  \u001b[32m+\u001b[0m\u001b[0m resource \"aws_key_pair\" \"generated_key\" {\n",
      "      \u001b[32m+\u001b[0m\u001b[0m arn             = (known after apply)\n",
      "      \u001b[32m+\u001b[0m\u001b[0m fingerprint     = (known after apply)\n",
      "      \u001b[32m+\u001b[0m\u001b[0m id              = (known after apply)\n",
      "      \u001b[32m+\u001b[0m\u001b[0m key_name        = \"my-key-pair\"\n",
      "      \u001b[32m+\u001b[0m\u001b[0m key_name_prefix = (known after apply)\n",
      "      \u001b[32m+\u001b[0m\u001b[0m key_pair_id     = (known after apply)\n",
      "      \u001b[32m+\u001b[0m\u001b[0m key_type        = (known after apply)\n",
      "      \u001b[32m+\u001b[0m\u001b[0m public_key      = (known after apply)\n",
      "      \u001b[32m+\u001b[0m\u001b[0m tags_all        = (known after apply)\n",
      "    }\n",
      "\n",
      "\u001b[1m  # module.one_webserver.aws_security_group.instance\u001b[0m will be created\n",
      "\u001b[0m  \u001b[32m+\u001b[0m\u001b[0m resource \"aws_security_group\" \"instance\" {\n",
      "      \u001b[32m+\u001b[0m\u001b[0m arn                    = (known after apply)\n",
      "      \u001b[32m+\u001b[0m\u001b[0m description            = \"Managed by Terraform\"\n",
      "      \u001b[32m+\u001b[0m\u001b[0m egress                 = (known after apply)\n",
      "      \u001b[32m+\u001b[0m\u001b[0m id                     = (known after apply)\n",
      "      \u001b[32m+\u001b[0m\u001b[0m ingress                = (known after apply)\n",
      "      \u001b[32m+\u001b[0m\u001b[0m name                   = \"example_security_group\"\n",
      "      \u001b[32m+\u001b[0m\u001b[0m name_prefix            = (known after apply)\n",
      "      \u001b[32m+\u001b[0m\u001b[0m owner_id               = (known after apply)\n",
      "      \u001b[32m+\u001b[0m\u001b[0m revoke_rules_on_delete = false\n",
      "      \u001b[32m+\u001b[0m\u001b[0m tags_all               = (known after apply)\n",
      "      \u001b[32m+\u001b[0m\u001b[0m vpc_id                 = \"vpc-0a4860611e96d1d85\"\n",
      "    }\n",
      "\n",
      "\u001b[1m  # module.one_webserver.aws_security_group_rule.allow_8080\u001b[0m will be created\n",
      "\u001b[0m  \u001b[32m+\u001b[0m\u001b[0m resource \"aws_security_group_rule\" \"allow_8080\" {\n",
      "      \u001b[32m+\u001b[0m\u001b[0m cidr_blocks              = [\n",
      "          \u001b[32m+\u001b[0m\u001b[0m \"0.0.0.0/0\",\n",
      "        ]\n",
      "      \u001b[32m+\u001b[0m\u001b[0m from_port                = 8080\n",
      "      \u001b[32m+\u001b[0m\u001b[0m id                       = (known after apply)\n",
      "      \u001b[32m+\u001b[0m\u001b[0m protocol                 = \"tcp\"\n",
      "      \u001b[32m+\u001b[0m\u001b[0m security_group_id        = (known after apply)\n",
      "      \u001b[32m+\u001b[0m\u001b[0m security_group_rule_id   = (known after apply)\n",
      "      \u001b[32m+\u001b[0m\u001b[0m self                     = false\n",
      "      \u001b[32m+\u001b[0m\u001b[0m source_security_group_id = (known after apply)\n",
      "      \u001b[32m+\u001b[0m\u001b[0m to_port                  = 8080\n",
      "      \u001b[32m+\u001b[0m\u001b[0m type                     = \"ingress\"\n",
      "    }\n",
      "\n",
      "\u001b[1m  # module.one_webserver.aws_security_group_rule.allow_all_egress\u001b[0m will be created\n",
      "\u001b[0m  \u001b[32m+\u001b[0m\u001b[0m resource \"aws_security_group_rule\" \"allow_all_egress\" {\n",
      "      \u001b[32m+\u001b[0m\u001b[0m cidr_blocks              = [\n",
      "          \u001b[32m+\u001b[0m\u001b[0m \"0.0.0.0/0\",\n",
      "        ]\n",
      "      \u001b[32m+\u001b[0m\u001b[0m description              = \"Allow all outbound traffic\"\n",
      "      \u001b[32m+\u001b[0m\u001b[0m from_port                = 0\n",
      "      \u001b[32m+\u001b[0m\u001b[0m id                       = (known after apply)\n",
      "      \u001b[32m+\u001b[0m\u001b[0m protocol                 = \"-1\"\n",
      "      \u001b[32m+\u001b[0m\u001b[0m security_group_id        = (known after apply)\n",
      "      \u001b[32m+\u001b[0m\u001b[0m security_group_rule_id   = (known after apply)\n",
      "      \u001b[32m+\u001b[0m\u001b[0m self                     = false\n",
      "      \u001b[32m+\u001b[0m\u001b[0m source_security_group_id = (known after apply)\n",
      "      \u001b[32m+\u001b[0m\u001b[0m to_port                  = 0\n",
      "      \u001b[32m+\u001b[0m\u001b[0m type                     = \"egress\"\n",
      "    }\n",
      "\n",
      "\u001b[1m  # module.one_webserver.aws_security_group_rule.allow_ssh\u001b[0m will be created\n",
      "\u001b[0m  \u001b[32m+\u001b[0m\u001b[0m resource \"aws_security_group_rule\" \"allow_ssh\" {\n",
      "      \u001b[32m+\u001b[0m\u001b[0m cidr_blocks              = [\n",
      "          \u001b[32m+\u001b[0m\u001b[0m \"0.0.0.0/0\",\n",
      "        ]\n",
      "      \u001b[32m+\u001b[0m\u001b[0m description              = \"Allow SSH traffic from all IPs\"\n",
      "      \u001b[32m+\u001b[0m\u001b[0m from_port                = 22\n",
      "      \u001b[32m+\u001b[0m\u001b[0m id                       = (known after apply)\n",
      "      \u001b[32m+\u001b[0m\u001b[0m protocol                 = \"tcp\"\n",
      "      \u001b[32m+\u001b[0m\u001b[0m security_group_id        = (known after apply)\n",
      "      \u001b[32m+\u001b[0m\u001b[0m security_group_rule_id   = (known after apply)\n",
      "      \u001b[32m+\u001b[0m\u001b[0m self                     = false\n",
      "      \u001b[32m+\u001b[0m\u001b[0m source_security_group_id = (known after apply)\n",
      "      \u001b[32m+\u001b[0m\u001b[0m to_port                  = 22\n",
      "      \u001b[32m+\u001b[0m\u001b[0m type                     = \"ingress\"\n",
      "    }\n",
      "\n",
      "\u001b[1m  # module.one_webserver.tls_private_key.ssh_key\u001b[0m will be created\n",
      "\u001b[0m  \u001b[32m+\u001b[0m\u001b[0m resource \"tls_private_key\" \"ssh_key\" {\n",
      "      \u001b[32m+\u001b[0m\u001b[0m algorithm                     = \"RSA\"\n",
      "      \u001b[32m+\u001b[0m\u001b[0m ecdsa_curve                   = \"P224\"\n",
      "      \u001b[32m+\u001b[0m\u001b[0m id                            = (known after apply)\n",
      "      \u001b[32m+\u001b[0m\u001b[0m private_key_openssh           = (sensitive value)\n",
      "      \u001b[32m+\u001b[0m\u001b[0m private_key_pem               = (sensitive value)\n",
      "      \u001b[32m+\u001b[0m\u001b[0m private_key_pem_pkcs8         = (sensitive value)\n",
      "      \u001b[32m+\u001b[0m\u001b[0m public_key_fingerprint_md5    = (known after apply)\n",
      "      \u001b[32m+\u001b[0m\u001b[0m public_key_fingerprint_sha256 = (known after apply)\n",
      "      \u001b[32m+\u001b[0m\u001b[0m public_key_openssh            = (known after apply)\n",
      "      \u001b[32m+\u001b[0m\u001b[0m public_key_pem                = (known after apply)\n",
      "      \u001b[32m+\u001b[0m\u001b[0m rsa_bits                      = 4096\n",
      "    }\n",
      "\n",
      "\u001b[1mPlan:\u001b[0m 8 to add, 0 to change, 0 to destroy.\n",
      "\u001b[0m\n",
      "Changes to Outputs:\n",
      "  \u001b[32m+\u001b[0m\u001b[0m http_port = 8080\n",
      "  \u001b[32m+\u001b[0m\u001b[0m public_ip = (known after apply)\n",
      "\u001b[90m\n",
      "─────────────────────────────────────────────────────────────────────────────\u001b[0m\n",
      "\n",
      "Saved the plan to: tfplan\n",
      "\n",
      "To perform exactly these actions, run the following command to apply:\n",
      "    terraform apply \"tfplan\"\n",
      "\n",
      "Tuesday, October 15, 2024 3:21:35 PM\n",
      "\n"
     ]
    }
   ],
   "source": [
    "###      ###\n",
    "### PLAN ###\n",
    "###      ###\n",
    "\n",
    "tf plan -out=tfplan\n",
    "terraform show -json tfplan > plan.json\n",
    "Get-Date"
   ]
  },
  {
   "cell_type": "code",
   "execution_count": 39,
   "metadata": {
    "dotnet_interactive": {
     "language": "pwsh"
    },
    "polyglot_notebook": {
     "kernelName": "pwsh"
    }
   },
   "outputs": [
    {
     "name": "stdout",
     "output_type": "stream",
     "text": [
      "Type: local_file\n",
      "TF name: private_key\n",
      "Cloud name: \n",
      "Name tag: \n",
      "\n",
      "Type: aws_instance\n",
      "TF name: example\n",
      "Cloud name: \n",
      "Name tag: one_webserver-prod\n",
      "\n",
      "Type: aws_key_pair\n",
      "TF name: generated_key\n",
      "Cloud name: \n",
      "Name tag: \n",
      "\n",
      "Type: aws_security_group\n",
      "TF name: instance\n",
      "Cloud name: example_security_group\n",
      "Name tag: \n",
      "\n",
      "Type: aws_security_group_rule\n",
      "TF name: allow_8080\n",
      "Cloud name: \n",
      "Name tag: \n",
      "\n",
      "Type: aws_security_group_rule\n",
      "TF name: allow_all_egress\n",
      "Cloud name: \n",
      "Name tag: \n",
      "\n",
      "Type: aws_security_group_rule\n",
      "TF name: allow_ssh\n",
      "Cloud name: \n",
      "Name tag: \n",
      "\n",
      "Type: tls_private_key\n",
      "TF name: ssh_key\n",
      "Cloud name: \n",
      "Name tag: \n",
      "\n",
      "\n",
      "Tuesday, October 15, 2024 3:21:45 PM\n",
      "\n"
     ]
    }
   ],
   "source": [
    "#Output planned resource addresses and their names in the cloud\n",
    "\n",
    "$plan = Get-Content -Raw -Path \"plan.json\" | ConvertFrom-Json\n",
    "\n",
    "$resourcesToDeploy = $plan.resource_changes | Where-Object { \n",
    "    $_.change.actions -contains \"create\" -or $_.change.actions -contains \"update\" \n",
    "} | ForEach-Object { \n",
    "    \"Type: \" + $_.type\n",
    "    \"TF name: \" + $_.name\n",
    "    \"Cloud name: \" + $_.change.after.name\n",
    "    \"Name tag: \" + $_.change.after.tags_all.name\n",
    "    \"\"\n",
    "}\n",
    "\n",
    "$resourcesToDeploy\n",
    "Get-Date"
   ]
  },
  {
   "cell_type": "code",
   "execution_count": 40,
   "metadata": {
    "dotnet_interactive": {
     "language": "pwsh"
    },
    "polyglot_notebook": {
     "kernelName": "pwsh"
    }
   },
   "outputs": [
    {
     "name": "stdout",
     "output_type": "stream",
     "text": [
      "\u001b[0m\u001b[1mmodule.one_webserver.data.aws_vpc.existing_vpc: Reading...\u001b[0m\u001b[0m\n",
      "\u001b[0m\u001b[1mmodule.one_webserver.data.aws_subnet.public_subnet: Reading...\u001b[0m\u001b[0m\n",
      "\u001b[0m\u001b[1mdata.aws_ami.ami: Reading...\u001b[0m\u001b[0m\n",
      "\u001b[0m\u001b[1mmodule.one_webserver.data.aws_subnet.public_subnet: Read complete after 1s [id=subnet-0c13b6812ab6e3f89]\u001b[0m\n",
      "\u001b[0m\u001b[1mdata.aws_ami.ami: Read complete after 1s [id=ami-09da212cf18033880]\u001b[0m\n",
      "\u001b[0m\u001b[1mmodule.one_webserver.data.aws_vpc.existing_vpc: Read complete after 2s [id=vpc-0a4860611e96d1d85]\u001b[0m\n",
      "\n",
      "Terraform used the selected providers to generate the following execution\n",
      "plan. Resource actions are indicated with the following symbols:\n",
      "  \u001b[32m+\u001b[0m create\u001b[0m\n",
      "\n",
      "Terraform will perform the following actions:\n",
      "\n",
      "\u001b[1m  # local_file.private_key\u001b[0m will be created\n",
      "\u001b[0m  \u001b[32m+\u001b[0m\u001b[0m resource \"local_file\" \"private_key\" {\n",
      "      \u001b[32m+\u001b[0m\u001b[0m content              = (sensitive value)\n",
      "      \u001b[32m+\u001b[0m\u001b[0m content_base64sha256 = (known after apply)\n",
      "      \u001b[32m+\u001b[0m\u001b[0m content_base64sha512 = (known after apply)\n",
      "      \u001b[32m+\u001b[0m\u001b[0m content_md5          = (known after apply)\n",
      "      \u001b[32m+\u001b[0m\u001b[0m content_sha1         = (known after apply)\n",
      "      \u001b[32m+\u001b[0m\u001b[0m content_sha256       = (known after apply)\n",
      "      \u001b[32m+\u001b[0m\u001b[0m content_sha512       = (known after apply)\n",
      "      \u001b[32m+\u001b[0m\u001b[0m directory_permission = \"0777\"\n",
      "      \u001b[32m+\u001b[0m\u001b[0m file_permission      = \"0777\"\n",
      "      \u001b[32m+\u001b[0m\u001b[0m filename             = \"./ssh_key.pem\"\n",
      "      \u001b[32m+\u001b[0m\u001b[0m id                   = (known after apply)\n",
      "    }\n",
      "\n",
      "\u001b[1m  # module.one_webserver.aws_instance.example\u001b[0m will be created\n",
      "\u001b[0m  \u001b[32m+\u001b[0m\u001b[0m resource \"aws_instance\" \"example\" {\n",
      "      \u001b[32m+\u001b[0m\u001b[0m ami                                  = \"ami-09da212cf18033880\"\n",
      "      \u001b[32m+\u001b[0m\u001b[0m arn                                  = (known after apply)\n",
      "      \u001b[32m+\u001b[0m\u001b[0m associate_public_ip_address          = true\n",
      "      \u001b[32m+\u001b[0m\u001b[0m availability_zone                    = (known after apply)\n",
      "      \u001b[32m+\u001b[0m\u001b[0m cpu_core_count                       = (known after apply)\n",
      "      \u001b[32m+\u001b[0m\u001b[0m cpu_threads_per_core                 = (known after apply)\n",
      "      \u001b[32m+\u001b[0m\u001b[0m disable_api_stop                     = (known after apply)\n",
      "      \u001b[32m+\u001b[0m\u001b[0m disable_api_termination              = (known after apply)\n",
      "      \u001b[32m+\u001b[0m\u001b[0m ebs_optimized                        = (known after apply)\n",
      "      \u001b[32m+\u001b[0m\u001b[0m get_password_data                    = false\n",
      "      \u001b[32m+\u001b[0m\u001b[0m host_id                              = (known after apply)\n",
      "      \u001b[32m+\u001b[0m\u001b[0m host_resource_group_arn              = (known after apply)\n",
      "      \u001b[32m+\u001b[0m\u001b[0m iam_instance_profile                 = (known after apply)\n",
      "      \u001b[32m+\u001b[0m\u001b[0m id                                   = (known after apply)\n",
      "      \u001b[32m+\u001b[0m\u001b[0m instance_initiated_shutdown_behavior = (known after apply)\n",
      "      \u001b[32m+\u001b[0m\u001b[0m instance_lifecycle                   = (known after apply)\n",
      "      \u001b[32m+\u001b[0m\u001b[0m instance_state                       = (known after apply)\n",
      "      \u001b[32m+\u001b[0m\u001b[0m instance_type                        = \"t2.micro\"\n",
      "      \u001b[32m+\u001b[0m\u001b[0m ipv6_address_count                   = (known after apply)\n",
      "      \u001b[32m+\u001b[0m\u001b[0m ipv6_addresses                       = (known after apply)\n",
      "      \u001b[32m+\u001b[0m\u001b[0m key_name                             = \"my-key-pair\"\n",
      "      \u001b[32m+\u001b[0m\u001b[0m monitoring                           = (known after apply)\n",
      "      \u001b[32m+\u001b[0m\u001b[0m outpost_arn                          = (known after apply)\n",
      "      \u001b[32m+\u001b[0m\u001b[0m password_data                        = (known after apply)\n",
      "      \u001b[32m+\u001b[0m\u001b[0m placement_group                      = (known after apply)\n",
      "      \u001b[32m+\u001b[0m\u001b[0m placement_partition_number           = (known after apply)\n",
      "      \u001b[32m+\u001b[0m\u001b[0m primary_network_interface_id         = (known after apply)\n",
      "      \u001b[32m+\u001b[0m\u001b[0m private_dns                          = (known after apply)\n",
      "      \u001b[32m+\u001b[0m\u001b[0m private_ip                           = (known after apply)\n",
      "      \u001b[32m+\u001b[0m\u001b[0m public_dns                           = (known after apply)\n",
      "      \u001b[32m+\u001b[0m\u001b[0m public_ip                            = (known after apply)\n",
      "      \u001b[32m+\u001b[0m\u001b[0m secondary_private_ips                = (known after apply)\n",
      "      \u001b[32m+\u001b[0m\u001b[0m security_groups                      = (known after apply)\n",
      "      \u001b[32m+\u001b[0m\u001b[0m source_dest_check                    = true\n",
      "      \u001b[32m+\u001b[0m\u001b[0m spot_instance_request_id             = (known after apply)\n",
      "      \u001b[32m+\u001b[0m\u001b[0m subnet_id                            = \"subnet-0c13b6812ab6e3f89\"\n",
      "      \u001b[32m+\u001b[0m\u001b[0m tags                                 = {\n",
      "          \u001b[32m+\u001b[0m\u001b[0m \"first_tag\" = \"first_tag_value\"\n",
      "          \u001b[32m+\u001b[0m\u001b[0m \"name\"      = \"one_webserver-prod\"\n",
      "        }\n",
      "      \u001b[32m+\u001b[0m\u001b[0m tags_all                             = {\n",
      "          \u001b[32m+\u001b[0m\u001b[0m \"first_tag\" = \"first_tag_value\"\n",
      "          \u001b[32m+\u001b[0m\u001b[0m \"name\"      = \"one_webserver-prod\"\n",
      "        }\n",
      "      \u001b[32m+\u001b[0m\u001b[0m tenancy                              = (known after apply)\n",
      "      \u001b[32m+\u001b[0m\u001b[0m user_data                            = \"13055cb6588562f735cc9e92e2fdf3c33548e1f0\"\n",
      "      \u001b[32m+\u001b[0m\u001b[0m user_data_base64                     = (known after apply)\n",
      "      \u001b[32m+\u001b[0m\u001b[0m user_data_replace_on_change          = true\n",
      "      \u001b[32m+\u001b[0m\u001b[0m vpc_security_group_ids               = (known after apply)\n",
      "\n",
      "      \u001b[32m+\u001b[0m\u001b[0m capacity_reservation_specification (known after apply)\n",
      "\n",
      "      \u001b[32m+\u001b[0m\u001b[0m cpu_options (known after apply)\n",
      "\n",
      "      \u001b[32m+\u001b[0m\u001b[0m ebs_block_device (known after apply)\n",
      "\n",
      "      \u001b[32m+\u001b[0m\u001b[0m enclave_options (known after apply)\n",
      "\n",
      "      \u001b[32m+\u001b[0m\u001b[0m ephemeral_block_device (known after apply)\n",
      "\n",
      "      \u001b[32m+\u001b[0m\u001b[0m instance_market_options (known after apply)\n",
      "\n",
      "      \u001b[32m+\u001b[0m\u001b[0m maintenance_options (known after apply)\n",
      "\n",
      "      \u001b[32m+\u001b[0m\u001b[0m metadata_options (known after apply)\n",
      "\n",
      "      \u001b[32m+\u001b[0m\u001b[0m network_interface (known after apply)\n",
      "\n",
      "      \u001b[32m+\u001b[0m\u001b[0m private_dns_name_options (known after apply)\n",
      "\n",
      "      \u001b[32m+\u001b[0m\u001b[0m root_block_device (known after apply)\n",
      "    }\n",
      "\n",
      "\u001b[1m  # module.one_webserver.aws_key_pair.generated_key\u001b[0m will be created\n",
      "\u001b[0m  \u001b[32m+\u001b[0m\u001b[0m resource \"aws_key_pair\" \"generated_key\" {\n",
      "      \u001b[32m+\u001b[0m\u001b[0m arn             = (known after apply)\n",
      "      \u001b[32m+\u001b[0m\u001b[0m fingerprint     = (known after apply)\n",
      "      \u001b[32m+\u001b[0m\u001b[0m id              = (known after apply)\n",
      "      \u001b[32m+\u001b[0m\u001b[0m key_name        = \"my-key-pair\"\n",
      "      \u001b[32m+\u001b[0m\u001b[0m key_name_prefix = (known after apply)\n",
      "      \u001b[32m+\u001b[0m\u001b[0m key_pair_id     = (known after apply)\n",
      "      \u001b[32m+\u001b[0m\u001b[0m key_type        = (known after apply)\n",
      "      \u001b[32m+\u001b[0m\u001b[0m public_key      = (known after apply)\n",
      "      \u001b[32m+\u001b[0m\u001b[0m tags_all        = (known after apply)\n",
      "    }\n",
      "\n",
      "\u001b[1m  # module.one_webserver.aws_security_group.instance\u001b[0m will be created\n",
      "\u001b[0m  \u001b[32m+\u001b[0m\u001b[0m resource \"aws_security_group\" \"instance\" {\n",
      "      \u001b[32m+\u001b[0m\u001b[0m arn                    = (known after apply)\n",
      "      \u001b[32m+\u001b[0m\u001b[0m description            = \"Managed by Terraform\"\n",
      "      \u001b[32m+\u001b[0m\u001b[0m egress                 = (known after apply)\n",
      "      \u001b[32m+\u001b[0m\u001b[0m id                     = (known after apply)\n",
      "      \u001b[32m+\u001b[0m\u001b[0m ingress                = (known after apply)\n",
      "      \u001b[32m+\u001b[0m\u001b[0m name                   = \"example_security_group\"\n",
      "      \u001b[32m+\u001b[0m\u001b[0m name_prefix            = (known after apply)\n",
      "      \u001b[32m+\u001b[0m\u001b[0m owner_id               = (known after apply)\n",
      "      \u001b[32m+\u001b[0m\u001b[0m revoke_rules_on_delete = false\n",
      "      \u001b[32m+\u001b[0m\u001b[0m tags_all               = (known after apply)\n",
      "      \u001b[32m+\u001b[0m\u001b[0m vpc_id                 = \"vpc-0a4860611e96d1d85\"\n",
      "    }\n",
      "\n",
      "\u001b[1m  # module.one_webserver.aws_security_group_rule.allow_8080\u001b[0m will be created\n",
      "\u001b[0m  \u001b[32m+\u001b[0m\u001b[0m resource \"aws_security_group_rule\" \"allow_8080\" {\n",
      "      \u001b[32m+\u001b[0m\u001b[0m cidr_blocks              = [\n",
      "          \u001b[32m+\u001b[0m\u001b[0m \"0.0.0.0/0\",\n",
      "        ]\n",
      "      \u001b[32m+\u001b[0m\u001b[0m from_port                = 8080\n",
      "      \u001b[32m+\u001b[0m\u001b[0m id                       = (known after apply)\n",
      "      \u001b[32m+\u001b[0m\u001b[0m protocol                 = \"tcp\"\n",
      "      \u001b[32m+\u001b[0m\u001b[0m security_group_id        = (known after apply)\n",
      "      \u001b[32m+\u001b[0m\u001b[0m security_group_rule_id   = (known after apply)\n",
      "      \u001b[32m+\u001b[0m\u001b[0m self                     = false\n",
      "      \u001b[32m+\u001b[0m\u001b[0m source_security_group_id = (known after apply)\n",
      "      \u001b[32m+\u001b[0m\u001b[0m to_port                  = 8080\n",
      "      \u001b[32m+\u001b[0m\u001b[0m type                     = \"ingress\"\n",
      "    }\n",
      "\n",
      "\u001b[1m  # module.one_webserver.aws_security_group_rule.allow_all_egress\u001b[0m will be created\n",
      "\u001b[0m  \u001b[32m+\u001b[0m\u001b[0m resource \"aws_security_group_rule\" \"allow_all_egress\" {\n",
      "      \u001b[32m+\u001b[0m\u001b[0m cidr_blocks              = [\n",
      "          \u001b[32m+\u001b[0m\u001b[0m \"0.0.0.0/0\",\n",
      "        ]\n",
      "      \u001b[32m+\u001b[0m\u001b[0m description              = \"Allow all outbound traffic\"\n",
      "      \u001b[32m+\u001b[0m\u001b[0m from_port                = 0\n",
      "      \u001b[32m+\u001b[0m\u001b[0m id                       = (known after apply)\n",
      "      \u001b[32m+\u001b[0m\u001b[0m protocol                 = \"-1\"\n",
      "      \u001b[32m+\u001b[0m\u001b[0m security_group_id        = (known after apply)\n",
      "      \u001b[32m+\u001b[0m\u001b[0m security_group_rule_id   = (known after apply)\n",
      "      \u001b[32m+\u001b[0m\u001b[0m self                     = false\n",
      "      \u001b[32m+\u001b[0m\u001b[0m source_security_group_id = (known after apply)\n",
      "      \u001b[32m+\u001b[0m\u001b[0m to_port                  = 0\n",
      "      \u001b[32m+\u001b[0m\u001b[0m type                     = \"egress\"\n",
      "    }\n",
      "\n",
      "\u001b[1m  # module.one_webserver.aws_security_group_rule.allow_ssh\u001b[0m will be created\n",
      "\u001b[0m  \u001b[32m+\u001b[0m\u001b[0m resource \"aws_security_group_rule\" \"allow_ssh\" {\n",
      "      \u001b[32m+\u001b[0m\u001b[0m cidr_blocks              = [\n",
      "          \u001b[32m+\u001b[0m\u001b[0m \"0.0.0.0/0\",\n",
      "        ]\n",
      "      \u001b[32m+\u001b[0m\u001b[0m description              = \"Allow SSH traffic from all IPs\"\n",
      "      \u001b[32m+\u001b[0m\u001b[0m from_port                = 22\n",
      "      \u001b[32m+\u001b[0m\u001b[0m id                       = (known after apply)\n",
      "      \u001b[32m+\u001b[0m\u001b[0m protocol                 = \"tcp\"\n",
      "      \u001b[32m+\u001b[0m\u001b[0m security_group_id        = (known after apply)\n",
      "      \u001b[32m+\u001b[0m\u001b[0m security_group_rule_id   = (known after apply)\n",
      "      \u001b[32m+\u001b[0m\u001b[0m self                     = false\n",
      "      \u001b[32m+\u001b[0m\u001b[0m source_security_group_id = (known after apply)\n",
      "      \u001b[32m+\u001b[0m\u001b[0m to_port                  = 22\n",
      "      \u001b[32m+\u001b[0m\u001b[0m type                     = \"ingress\"\n",
      "    }\n",
      "\n",
      "\u001b[1m  # module.one_webserver.tls_private_key.ssh_key\u001b[0m will be created\n",
      "\u001b[0m  \u001b[32m+\u001b[0m\u001b[0m resource \"tls_private_key\" \"ssh_key\" {\n",
      "      \u001b[32m+\u001b[0m\u001b[0m algorithm                     = \"RSA\"\n",
      "      \u001b[32m+\u001b[0m\u001b[0m ecdsa_curve                   = \"P224\"\n",
      "      \u001b[32m+\u001b[0m\u001b[0m id                            = (known after apply)\n",
      "      \u001b[32m+\u001b[0m\u001b[0m private_key_openssh           = (sensitive value)\n",
      "      \u001b[32m+\u001b[0m\u001b[0m private_key_pem               = (sensitive value)\n",
      "      \u001b[32m+\u001b[0m\u001b[0m private_key_pem_pkcs8         = (sensitive value)\n",
      "      \u001b[32m+\u001b[0m\u001b[0m public_key_fingerprint_md5    = (known after apply)\n",
      "      \u001b[32m+\u001b[0m\u001b[0m public_key_fingerprint_sha256 = (known after apply)\n",
      "      \u001b[32m+\u001b[0m\u001b[0m public_key_openssh            = (known after apply)\n",
      "      \u001b[32m+\u001b[0m\u001b[0m public_key_pem                = (known after apply)\n",
      "      \u001b[32m+\u001b[0m\u001b[0m rsa_bits                      = 4096\n",
      "    }\n",
      "\n",
      "\u001b[1mPlan:\u001b[0m 8 to add, 0 to change, 0 to destroy.\n",
      "\u001b[0m\n",
      "Changes to Outputs:\n",
      "  \u001b[32m+\u001b[0m\u001b[0m http_port = 8080\n",
      "  \u001b[32m+\u001b[0m\u001b[0m public_ip = (known after apply)\n",
      "\u001b[0m\u001b[1mmodule.one_webserver.tls_private_key.ssh_key: Creating...\u001b[0m\u001b[0m\n",
      "\u001b[0m\u001b[1mmodule.one_webserver.tls_private_key.ssh_key: Creation complete after 0s [id=96748d0621f835a5285aeb1da396e64b8436f238]\u001b[0m\n",
      "\u001b[0m\u001b[1mlocal_file.private_key: Creating...\u001b[0m\u001b[0m\n",
      "\u001b[0m\u001b[1mlocal_file.private_key: Creation complete after 0s [id=bc449b34d6778abe40e658e75322393755aeb5ad]\u001b[0m\n",
      "\u001b[0m\u001b[1mmodule.one_webserver.aws_security_group.instance: Creating...\u001b[0m\u001b[0m\n",
      "\u001b[0m\u001b[1mmodule.one_webserver.aws_key_pair.generated_key: Creating...\u001b[0m\u001b[0m\n",
      "\u001b[0m\u001b[1mmodule.one_webserver.aws_key_pair.generated_key: Creation complete after 1s [id=my-key-pair]\u001b[0m\n",
      "\u001b[0m\u001b[1mmodule.one_webserver.aws_security_group.instance: Creation complete after 3s [id=sg-07e89ba0a67af1555]\u001b[0m\n",
      "\u001b[0m\u001b[1mmodule.one_webserver.aws_security_group_rule.allow_all_egress: Creating...\u001b[0m\u001b[0m\n",
      "\u001b[0m\u001b[1mmodule.one_webserver.aws_security_group_rule.allow_8080: Creating...\u001b[0m\u001b[0m\n",
      "\u001b[0m\u001b[1mmodule.one_webserver.aws_security_group_rule.allow_ssh: Creating...\u001b[0m\u001b[0m\n",
      "\u001b[0m\u001b[1mmodule.one_webserver.aws_instance.example: Creating...\u001b[0m\u001b[0m\n",
      "\u001b[0m\u001b[1mmodule.one_webserver.aws_security_group_rule.allow_8080: Creation complete after 1s [id=sgrule-3408911208]\u001b[0m\n",
      "\u001b[0m\u001b[1mmodule.one_webserver.aws_security_group_rule.allow_ssh: Creation complete after 2s [id=sgrule-3679174807]\u001b[0m\n",
      "\u001b[0m\u001b[1mmodule.one_webserver.aws_security_group_rule.allow_all_egress: Creation complete after 3s [id=sgrule-1434926813]\u001b[0m\n",
      "\u001b[0m\u001b[1mmodule.one_webserver.aws_instance.example: Still creating... [10s elapsed]\u001b[0m\u001b[0m\n",
      "\u001b[0m\u001b[1mmodule.one_webserver.aws_instance.example: Still creating... [20s elapsed]\u001b[0m\u001b[0m\n",
      "\u001b[0m\u001b[1mmodule.one_webserver.aws_instance.example: Still creating... [30s elapsed]\u001b[0m\u001b[0m\n",
      "\u001b[0m\u001b[1mmodule.one_webserver.aws_instance.example: Creation complete after 33s [id=i-0bd3882a1353edec6]\u001b[0m\n",
      "\u001b[0m\u001b[1m\u001b[32m\n",
      "Apply complete! Resources: 8 added, 0 changed, 0 destroyed.\n",
      "\u001b[0m\u001b[0m\u001b[1m\u001b[32m\n",
      "Outputs:\n",
      "\n",
      "\u001b[0mhttp_port = 8080\n",
      "public_ip = \"3.141.2.241\"\n",
      "\n",
      "Tuesday, October 15, 2024 3:22:38 PM\n",
      "\n"
     ]
    }
   ],
   "source": [
    "###       ###\n",
    "### APPLY ###\n",
    "###       ###\n",
    "\n",
    "#try {prompt_to_confirm} catch {break}\n",
    "tf apply -auto-approve\n",
    "Get-Date"
   ]
  },
  {
   "cell_type": "code",
   "execution_count": 41,
   "metadata": {
    "dotnet_interactive": {
     "language": "pwsh"
    },
    "polyglot_notebook": {
     "kernelName": "pwsh"
    }
   },
   "outputs": [],
   "source": [
    "$public_ip = terraform output -raw public_ip\n",
    "$http_port = terraform output -raw http_port"
   ]
  },
  {
   "cell_type": "code",
   "execution_count": 42,
   "metadata": {
    "dotnet_interactive": {
     "language": "pwsh"
    },
    "polyglot_notebook": {
     "kernelName": "pwsh"
    }
   },
   "outputs": [
    {
     "data": {
      "text/plain": []
     },
     "metadata": {},
     "output_type": "display_data"
    },
    {
     "name": "stdout",
     "output_type": "stream",
     "text": [
      "https://github.com/aksenov-fx/\n",
      "\r\n"
     ]
    }
   ],
   "source": [
    "(Invoke-WebRequest -Uri (\"http://\" + $public_ip + \":$http_port\")).Content"
   ]
  },
  {
   "cell_type": "code",
   "execution_count": null,
   "metadata": {
    "dotnet_interactive": {
     "language": "pwsh"
    },
    "polyglot_notebook": {
     "kernelName": "pwsh"
    }
   },
   "outputs": [],
   "source": [
    "###         ###\n",
    "### DESTROY ###\n",
    "###         ###\n",
    "\n",
    "try {prompt_to_confirm} catch {break}\n",
    "tf destroy -auto-approve\n",
    "Get-Date"
   ]
  },
  {
   "cell_type": "markdown",
   "metadata": {},
   "source": [
    "#### Info ####"
   ]
  },
  {
   "cell_type": "code",
   "execution_count": 43,
   "metadata": {
    "dotnet_interactive": {
     "language": "pwsh"
    },
    "polyglot_notebook": {
     "kernelName": "pwsh"
    }
   },
   "outputs": [
    {
     "name": "stdout",
     "output_type": "stream",
     "text": [
      "Terraform v1.9.5\n",
      "on windows_amd64\n",
      "+ provider registry.terraform.io/hashicorp/aws v5.70.0\n",
      "+ provider registry.terraform.io/hashicorp/local v2.5.2\n",
      "+ provider registry.terraform.io/hashicorp/tls v4.0.6\n",
      "\n",
      "Your version of Terraform is out of date! The latest version\n",
      "is 1.9.7. You can update by downloading from https://www.terraform.io/downloads.html\n"
     ]
    }
   ],
   "source": [
    "terraform version"
   ]
  },
  {
   "cell_type": "code",
   "execution_count": 44,
   "metadata": {
    "dotnet_interactive": {
     "language": "pwsh"
    },
    "polyglot_notebook": {
     "kernelName": "pwsh"
    }
   },
   "outputs": [
    {
     "name": "stdout",
     "output_type": "stream",
     "text": [
      "terraform {\n",
      "  required_version = \">= 1.9.5, < 2.0\"\n",
      "\n",
      "  required_providers {\n",
      "    aws = {\n",
      "      source = \"hashicorp/aws\"\n",
      "    }\n",
      "    local = {\n",
      "      source = \"hashicorp/local\"\n",
      "    }\n",
      "    tls = {\n",
      "      source = \"hashicorp/tls\"\n",
      "    }\n",
      "  }\n",
      "}\n",
      "\n",
      "provider \"aws\" {\n",
      "  region = var.aws_region\n",
      "}\n",
      "\n",
      "# --- --- --- --- --- --- --- --- --- --- #\n",
      "\n",
      "# Get ami_id\n",
      "data \"aws_ami\" \"ami\" {\n",
      "  most_recent = true\n",
      "  owners      = [\"137112412989\"] #Amazon\n",
      "  filter {\n",
      "    name   = \"name\"\n",
      "    values = [\"al2023-ami-2023.5*\"] #Amazon_Linux_2023\n",
      "  }\n",
      "}\n",
      "\n",
      "# --- --- --- --- --- --- --- --- --- --- #\n",
      "\n",
      "resource \"local_file\" \"private_key\" {\n",
      "  content  = module.one_webserver.private_key_pem\n",
      "  filename = \"./${var.ssh_keyname}.pem\"\n",
      "}\n",
      "\n",
      "# --- --- --- --- --- --- --- --- --- --- #\n",
      "\n",
      "module \"one_webserver\" {\n",
      "  source = \"git::https://github.com/aksenov-fx/terraform-modules.git//configurations_modules/one_webserver\"\n",
      "  #source = \"../../configurations_modules/one_webserver\"\n",
      "\n",
      "  ami_id        = data.aws_ami.ami.id\n",
      "  instance_type = \"t2.micro\"\n",
      "\n",
      "  vpc_name           = \"TF-VPC1\"\n",
      "  public_subnet_name = \"TF-VPC1-public-us-east-2a\"\n",
      "\n",
      "  http_port   = var.http_port\n",
      "  server_text = var.server_text\n",
      "\n",
      "  ssh_port = var.ssh_port\n",
      "\n",
      "  user_data = base64encode(templatefile(\"${path.module}/user-data.sh\", {\n",
      "    http_port   = var.http_port\n",
      "    server_text = var.server_text\n",
      "  }))\n",
      "\n",
      "  custom_tags = {\n",
      "    name      = \"${basename(path.cwd)}-${var.environment}\"\n",
      "    first_tag = \"first_tag_value\"\n",
      "  }\n",
      "\n",
      "}\n",
      "\n",
      "# --- --- --- --- --- --- --- --- --- --- #\n"
     ]
    }
   ],
   "source": [
    "#Root module configuration\n",
    "cat .\\main.tf"
   ]
  },
  {
   "cell_type": "code",
   "execution_count": 45,
   "metadata": {
    "dotnet_interactive": {
     "language": "pwsh"
    },
    "polyglot_notebook": {
     "kernelName": "pwsh"
    }
   },
   "outputs": [
    {
     "name": "stdout",
     "output_type": "stream",
     "text": [
      "data.aws_ami.ami\n",
      "local_file.private_key\n",
      "module.one_webserver.data.aws_subnet.public_subnet\n",
      "module.one_webserver.data.aws_vpc.existing_vpc\n",
      "module.one_webserver.aws_instance.example\n",
      "module.one_webserver.aws_key_pair.generated_key\n",
      "module.one_webserver.aws_security_group.instance\n",
      "module.one_webserver.aws_security_group_rule.allow_8080\n",
      "module.one_webserver.aws_security_group_rule.allow_all_egress\n",
      "module.one_webserver.aws_security_group_rule.allow_ssh\n",
      "module.one_webserver.tls_private_key.ssh_key\n"
     ]
    }
   ],
   "source": [
    "($resources = terraform state list) | Out-Host"
   ]
  },
  {
   "cell_type": "code",
   "execution_count": null,
   "metadata": {
    "dotnet_interactive": {
     "language": "pwsh"
    },
    "polyglot_notebook": {
     "kernelName": "pwsh"
    }
   },
   "outputs": [],
   "source": [
    "foreach ($resource in $resources) { terraform state show $resource }"
   ]
  },
  {
   "cell_type": "code",
   "execution_count": 46,
   "metadata": {
    "dotnet_interactive": {
     "language": "pwsh"
    },
    "polyglot_notebook": {
     "kernelName": "pwsh"
    }
   },
   "outputs": [
    {
     "name": "stdout",
     "output_type": "stream",
     "text": [
      "http_port = 8080\n",
      "public_ip = \"3.141.2.241\"\n"
     ]
    }
   ],
   "source": [
    "terraform output"
   ]
  },
  {
   "cell_type": "markdown",
   "metadata": {},
   "source": [
    "#### Remote access ####"
   ]
  },
  {
   "cell_type": "code",
   "execution_count": 47,
   "metadata": {
    "dotnet_interactive": {
     "language": "pwsh"
    },
    "polyglot_notebook": {
     "kernelName": "pwsh"
    }
   },
   "outputs": [
    {
     "data": {
      "text/plain": []
     },
     "metadata": {},
     "output_type": "display_data"
    },
    {
     "name": "stdout",
     "output_type": "stream",
     "text": [
      "\n",
      "\u001b[32;1mComputerName     : \u001b[0m3.141.2.241\n",
      "\u001b[32;1mRemoteAddress    : \u001b[0m3.141.2.241\n",
      "\u001b[32;1mRemotePort       : \u001b[0m22\n",
      "\u001b[32;1mInterfaceAlias   : \u001b[0mEthernet\n",
      "\u001b[32;1mSourceAddress    : \u001b[0m192.168.0.23\n",
      "\u001b[32;1mTcpTestSucceeded : \u001b[0mTrue\n",
      "\n"
     ]
    },
    {
     "ename": "Error",
     "evalue": "Command failed: SubmitCode: Test-NetConnection -ComputerName $public_ip -Port  ...",
     "output_type": "error",
     "traceback": [
      "Command failed: SubmitCode: Test-NetConnection -ComputerName $public_ip -Port  ..."
     ]
    }
   ],
   "source": [
    "Test-NetConnection -ComputerName $public_ip -Port 22"
   ]
  },
  {
   "cell_type": "code",
   "execution_count": 48,
   "metadata": {
    "dotnet_interactive": {
     "language": "pwsh"
    },
    "polyglot_notebook": {
     "kernelName": "pwsh"
    }
   },
   "outputs": [],
   "source": [
    "puttygen \"$keyname.pem\" -O private -o \"$keyname.ppk\""
   ]
  },
  {
   "cell_type": "code",
   "execution_count": 50,
   "metadata": {
    "dotnet_interactive": {
     "language": "pwsh"
    },
    "polyglot_notebook": {
     "kernelName": "pwsh"
    }
   },
   "outputs": [],
   "source": [
    "#Start SSH session\n",
    "\n",
    "#Start ssh -A \"ec2-user@$public_ip -i $keyname.pem\"\n",
    "Start \"plink.exe\" -A \"-ssh -i $keyname.ppk ec2-user@$public_ip\""
   ]
  },
  {
   "cell_type": "code",
   "execution_count": 52,
   "metadata": {
    "dotnet_interactive": {
     "language": "pwsh"
    },
    "polyglot_notebook": {
     "kernelName": "pwsh"
    }
   },
   "outputs": [
    {
     "name": "stdout",
     "output_type": "stream",
     "text": [
      "NAME=\"Amazon Linux\"\n",
      "VERSION=\"2023\"\n",
      "ID=\"amzn\"\n",
      "ID_LIKE=\"fedora\"\n",
      "VERSION_ID=\"2023\"\n",
      "PLATFORM_ID=\"platform:al2023\"\n",
      "PRETTY_NAME=\"Amazon Linux 2023.5.20241001\"\n",
      "ANSI_COLOR=\"0;33\"\n",
      "CPE_NAME=\"cpe:2.3:o:amazon:amazon_linux:2023\"\n",
      "HOME_URL=\"https://aws.amazon.com/linux/amazon-linux-2023/\"\n",
      "DOCUMENTATION_URL=\"https://docs.aws.amazon.com/linux/\"\n",
      "SUPPORT_URL=\"https://aws.amazon.com/premiumsupport/\"\n",
      "BUG_REPORT_URL=\"https://github.com/amazonlinux/amazon-linux-2023\"\n",
      "VENDOR_NAME=\"AWS\"\n",
      "VENDOR_URL=\"https://aws.amazon.com/\"\n",
      "SUPPORT_END=\"2028-03-15\"\n"
     ]
    }
   ],
   "source": [
    "#Execute single SSH command\n",
    "\n",
    "#ssh ec2-user@$public_ip -i \"$keyname.pem\" 'cat /etc/xattr.conf'\n",
    "plink -ssh -i \"$keyname.ppk\" \"ec2-user@$public_ip\" \"cat /etc/os-release\""
   ]
  },
  {
   "cell_type": "markdown",
   "metadata": {},
   "source": [
    "#### Troubleshooting ####"
   ]
  },
  {
   "cell_type": "code",
   "execution_count": null,
   "metadata": {
    "dotnet_interactive": {
     "language": "pwsh"
    },
    "polyglot_notebook": {
     "kernelName": "pwsh"
    }
   },
   "outputs": [],
   "source": [
    "#$env:TF_LOG = \"TRACE\"\n",
    "#$env:TF_LOG_PATH = \"log.txt\"\n",
    "#$env:TF_LOG = \"\""
   ]
  },
  {
   "cell_type": "code",
   "execution_count": null,
   "metadata": {
    "dotnet_interactive": {
     "language": "pwsh"
    },
    "polyglot_notebook": {
     "kernelName": "pwsh"
    }
   },
   "outputs": [],
   "source": [
    "tf apply -refresh-only -auto-approve"
   ]
  }
 ],
 "metadata": {
  "kernelspec": {
   "display_name": ".NET (C#)",
   "language": "C#",
   "name": ".net-csharp"
  },
  "language_info": {
   "name": "polyglot-notebook"
  },
  "polyglot_notebook": {
   "kernelInfo": {
    "defaultKernelName": "csharp",
    "items": [
     {
      "aliases": [],
      "name": "csharp"
     }
    ]
   }
  }
 },
 "nbformat": 4,
 "nbformat_minor": 2
}
