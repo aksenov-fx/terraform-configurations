{
 "cells": [
  {
   "cell_type": "markdown",
   "metadata": {},
   "source": [
    "#### Initialize ####"
   ]
  },
  {
   "cell_type": "code",
   "execution_count": 1,
   "metadata": {
    "dotnet_interactive": {
     "language": "pwsh"
    },
    "polyglot_notebook": {
     "kernelName": "pwsh"
    }
   },
   "outputs": [],
   "source": [
    "function tf {aws-vault exec terraform_user -- terraform $args}\n",
    "\n",
    "function prompt_to_confirm { \n",
    "    $user_response = Read-host \"Continue? y/n or 1/0\"\n",
    "    if ($user_response -ne \"y\" -and $user_response -ne 1) {break}\n",
    "}"
   ]
  },
  {
   "cell_type": "code",
   "execution_count": 2,
   "metadata": {
    "dotnet_interactive": {
     "language": "pwsh"
    },
    "polyglot_notebook": {
     "kernelName": "pwsh"
    }
   },
   "outputs": [],
   "source": [
    "$aws_region = \"us-east-2\"\n",
    "$env:AWS_REGION=$aws_region #for aws_vault\n",
    "$env:TF_VAR_aws_region=$aws_region #for terraform"
   ]
  },
  {
   "cell_type": "code",
   "execution_count": 9,
   "metadata": {
    "dotnet_interactive": {
     "language": "pwsh"
    },
    "polyglot_notebook": {
     "kernelName": "pwsh"
    }
   },
   "outputs": [
    {
     "name": "stdout",
     "output_type": "stream",
     "text": [
      "\u001b[0m\u001b[1mInitializing the backend...\u001b[0m\n",
      "\u001b[0m\u001b[1mInitializing modules...\u001b[0m\n",
      "Downloading git::https://github.com/aksenov-fx/terraform-modules.git for webserver_cluster...\n",
      "- webserver_cluster in .terraform\\modules\\webserver_cluster\\configurations_modules\\webserver_cluster\n",
      "Downloading git::https://github.com/aksenov-fx/terraform-modules.git for webserver_cluster.alb...\n",
      "- webserver_cluster.alb in .terraform\\modules\\webserver_cluster.alb\\general_purpose_modules\\networking\\alb\n",
      "Downloading git::https://github.com/aksenov-fx/terraform-modules.git for webserver_cluster.asg...\n",
      "- webserver_cluster.asg in .terraform\\modules\\webserver_cluster.asg\\general_purpose_modules\\asg-rolling-deploy\n",
      "\u001b[0m\u001b[1mInitializing provider plugins...\u001b[0m\n",
      "- Reusing previous version of hashicorp/aws from the dependency lock file\n",
      "- Using previously-installed hashicorp/aws v5.6.2\n",
      "\n",
      "\u001b[0m\u001b[1m\u001b[32mTerraform has been successfully initialized!\u001b[0m\u001b[32m\u001b[0m\n",
      "\u001b[0m\u001b[32m\n",
      "You may now begin working with Terraform. Try running \"terraform plan\" to see\n",
      "any changes that are required for your infrastructure. All Terraform commands\n",
      "should now work.\n",
      "\n",
      "If you ever set or change modules or backend configuration for Terraform,\n",
      "rerun this command to reinitialize your working directory. If you forget, other\n",
      "commands will detect it and remind you to do so if necessary.\u001b[0m\n"
     ]
    }
   ],
   "source": [
    "terraform init #-upgrade"
   ]
  },
  {
   "cell_type": "markdown",
   "metadata": {},
   "source": [
    "#### Workflow ####"
   ]
  },
  {
   "cell_type": "code",
   "execution_count": 10,
   "metadata": {
    "dotnet_interactive": {
     "language": "pwsh"
    },
    "polyglot_notebook": {
     "kernelName": "pwsh"
    }
   },
   "outputs": [
    {
     "name": "stdout",
     "output_type": "stream",
     "text": [
      "main.tf\n",
      "outputs.tf\n"
     ]
    }
   ],
   "source": [
    "terraform fmt"
   ]
  },
  {
   "cell_type": "code",
   "execution_count": 11,
   "metadata": {
    "dotnet_interactive": {
     "language": "pwsh"
    },
    "polyglot_notebook": {
     "kernelName": "pwsh"
    }
   },
   "outputs": [
    {
     "name": "stdout",
     "output_type": "stream",
     "text": [
      "\u001b[32m\u001b[1mSuccess!\u001b[0m The configuration is valid.\n",
      "\u001b[0m\n"
     ]
    }
   ],
   "source": [
    "terraform validate"
   ]
  },
  {
   "cell_type": "code",
   "execution_count": 19,
   "metadata": {
    "dotnet_interactive": {
     "language": "pwsh"
    },
    "polyglot_notebook": {
     "kernelName": "pwsh"
    }
   },
   "outputs": [],
   "source": [
    "#Enable egress temporarily to install software after deployment\n",
    "$env:TF_VAR_enable_egress=1"
   ]
  },
  {
   "cell_type": "code",
   "execution_count": 13,
   "metadata": {
    "dotnet_interactive": {
     "language": "pwsh"
    },
    "polyglot_notebook": {
     "kernelName": "pwsh"
    }
   },
   "outputs": [
    {
     "name": "stdout",
     "output_type": "stream",
     "text": [
      "\u001b[0m\u001b[1mdata.aws_ami.ami: Reading...\u001b[0m\u001b[0m\n",
      "\u001b[0m\u001b[1mmodule.webserver_cluster.module.asg.data.aws_ec2_instance_type.instance: Reading...\u001b[0m\u001b[0m\n",
      "\u001b[0m\u001b[1mmodule.webserver_cluster.data.aws_vpc.existing_vpc: Reading...\u001b[0m\u001b[0m\n",
      "\u001b[0m\u001b[1mmodule.webserver_cluster.module.asg.data.aws_ec2_instance_type.instance: Read complete after 1s [id=t2.micro]\u001b[0m\n",
      "\u001b[0m\u001b[1mdata.aws_ami.ami: Read complete after 1s [id=ami-09da212cf18033880]\u001b[0m\n",
      "\u001b[0m\u001b[1mmodule.webserver_cluster.data.aws_vpc.existing_vpc: Read complete after 2s [id=vpc-0a4860611e96d1d85]\u001b[0m\n",
      "\u001b[0m\u001b[1mmodule.webserver_cluster.data.aws_subnets.vpc_subnets: Reading...\u001b[0m\u001b[0m\n",
      "\u001b[0m\u001b[1mmodule.webserver_cluster.data.aws_subnets.vpc_subnets: Read complete after 0s [id=us-east-2]\u001b[0m\n",
      "\u001b[0m\u001b[1mmodule.webserver_cluster.data.aws_subnet.subnets[\"subnet-0e6c5590894f5f7cd\"]: Reading...\u001b[0m\u001b[0m\n",
      "\u001b[0m\u001b[1mmodule.webserver_cluster.data.aws_subnet.subnets[\"subnet-0075ecc8eac5c3cdd\"]: Reading...\u001b[0m\u001b[0m\n",
      "\u001b[0m\u001b[1mmodule.webserver_cluster.data.aws_subnet.subnets[\"subnet-0c13b6812ab6e3f89\"]: Reading...\u001b[0m\u001b[0m\n",
      "\u001b[0m\u001b[1mmodule.webserver_cluster.data.aws_subnet.subnets[\"subnet-07a06d61b264fbaeb\"]: Reading...\u001b[0m\u001b[0m\n",
      "\u001b[0m\u001b[1mmodule.webserver_cluster.data.aws_subnet.subnets[\"subnet-05c781f49cb7a7b5e\"]: Reading...\u001b[0m\u001b[0m\n",
      "\u001b[0m\u001b[1mmodule.webserver_cluster.data.aws_subnet.subnets[\"subnet-07373a76cf5740bbb\"]: Reading...\u001b[0m\u001b[0m\n",
      "\u001b[0m\u001b[1mmodule.webserver_cluster.data.aws_subnet.subnets[\"subnet-0c13b6812ab6e3f89\"]: Read complete after 0s [id=subnet-0c13b6812ab6e3f89]\u001b[0m\n",
      "\u001b[0m\u001b[1mmodule.webserver_cluster.data.aws_subnet.subnets[\"subnet-07a06d61b264fbaeb\"]: Read complete after 0s [id=subnet-07a06d61b264fbaeb]\u001b[0m\n",
      "\u001b[0m\u001b[1mmodule.webserver_cluster.data.aws_subnet.subnets[\"subnet-07373a76cf5740bbb\"]: Read complete after 0s [id=subnet-07373a76cf5740bbb]\u001b[0m\n",
      "\u001b[0m\u001b[1mmodule.webserver_cluster.data.aws_subnet.subnets[\"subnet-0e6c5590894f5f7cd\"]: Read complete after 1s [id=subnet-0e6c5590894f5f7cd]\u001b[0m\n",
      "\u001b[0m\u001b[1mmodule.webserver_cluster.data.aws_subnet.subnets[\"subnet-0075ecc8eac5c3cdd\"]: Read complete after 1s [id=subnet-0075ecc8eac5c3cdd]\u001b[0m\n",
      "\u001b[0m\u001b[1mmodule.webserver_cluster.data.aws_subnet.subnets[\"subnet-05c781f49cb7a7b5e\"]: Read complete after 1s [id=subnet-05c781f49cb7a7b5e]\u001b[0m\n",
      "\n",
      "Terraform used the selected providers to generate the following execution\n",
      "plan. Resource actions are indicated with the following symbols:\n",
      "  \u001b[32m+\u001b[0m create\u001b[0m\n",
      "\n",
      "Terraform will perform the following actions:\n",
      "\n",
      "\u001b[1m  # module.webserver_cluster.aws_lb_listener_rule.asg\u001b[0m will be created\n",
      "\u001b[0m  \u001b[32m+\u001b[0m\u001b[0m resource \"aws_lb_listener_rule\" \"asg\" {\n",
      "      \u001b[32m+\u001b[0m\u001b[0m arn          = (known after apply)\n",
      "      \u001b[32m+\u001b[0m\u001b[0m id           = (known after apply)\n",
      "      \u001b[32m+\u001b[0m\u001b[0m listener_arn = (known after apply)\n",
      "      \u001b[32m+\u001b[0m\u001b[0m priority     = 100\n",
      "      \u001b[32m+\u001b[0m\u001b[0m tags_all     = (known after apply)\n",
      "\n",
      "      \u001b[32m+\u001b[0m\u001b[0m action {\n",
      "          \u001b[32m+\u001b[0m\u001b[0m order            = (known after apply)\n",
      "          \u001b[32m+\u001b[0m\u001b[0m target_group_arn = (known after apply)\n",
      "          \u001b[32m+\u001b[0m\u001b[0m type             = \"forward\"\n",
      "        }\n",
      "\n",
      "      \u001b[32m+\u001b[0m\u001b[0m condition {\n",
      "          \u001b[32m+\u001b[0m\u001b[0m path_pattern {\n",
      "              \u001b[32m+\u001b[0m\u001b[0m values = [\n",
      "                  \u001b[32m+\u001b[0m\u001b[0m \"*\",\n",
      "                ]\n",
      "            }\n",
      "        }\n",
      "    }\n",
      "\n",
      "\u001b[1m  # module.webserver_cluster.aws_lb_target_group.asg\u001b[0m will be created\n",
      "\u001b[0m  \u001b[32m+\u001b[0m\u001b[0m resource \"aws_lb_target_group\" \"asg\" {\n",
      "      \u001b[32m+\u001b[0m\u001b[0m arn                                = (known after apply)\n",
      "      \u001b[32m+\u001b[0m\u001b[0m arn_suffix                         = (known after apply)\n",
      "      \u001b[32m+\u001b[0m\u001b[0m connection_termination             = false\n",
      "      \u001b[32m+\u001b[0m\u001b[0m deregistration_delay               = \"300\"\n",
      "      \u001b[32m+\u001b[0m\u001b[0m id                                 = (known after apply)\n",
      "      \u001b[32m+\u001b[0m\u001b[0m ip_address_type                    = (known after apply)\n",
      "      \u001b[32m+\u001b[0m\u001b[0m lambda_multi_value_headers_enabled = false\n",
      "      \u001b[32m+\u001b[0m\u001b[0m load_balancing_algorithm_type      = (known after apply)\n",
      "      \u001b[32m+\u001b[0m\u001b[0m load_balancing_cross_zone_enabled  = (known after apply)\n",
      "      \u001b[32m+\u001b[0m\u001b[0m name                               = \"hello-world-prod\"\n",
      "      \u001b[32m+\u001b[0m\u001b[0m port                               = 8080\n",
      "      \u001b[32m+\u001b[0m\u001b[0m preserve_client_ip                 = (known after apply)\n",
      "      \u001b[32m+\u001b[0m\u001b[0m protocol                           = \"HTTP\"\n",
      "      \u001b[32m+\u001b[0m\u001b[0m protocol_version                   = (known after apply)\n",
      "      \u001b[32m+\u001b[0m\u001b[0m proxy_protocol_v2                  = false\n",
      "      \u001b[32m+\u001b[0m\u001b[0m slow_start                         = 0\n",
      "      \u001b[32m+\u001b[0m\u001b[0m tags_all                           = (known after apply)\n",
      "      \u001b[32m+\u001b[0m\u001b[0m target_type                        = \"instance\"\n",
      "      \u001b[32m+\u001b[0m\u001b[0m vpc_id                             = \"vpc-0a4860611e96d1d85\"\n",
      "\n",
      "      \u001b[32m+\u001b[0m\u001b[0m health_check {\n",
      "          \u001b[32m+\u001b[0m\u001b[0m enabled             = true\n",
      "          \u001b[32m+\u001b[0m\u001b[0m healthy_threshold   = 2\n",
      "          \u001b[32m+\u001b[0m\u001b[0m interval            = 15\n",
      "          \u001b[32m+\u001b[0m\u001b[0m matcher             = \"200\"\n",
      "          \u001b[32m+\u001b[0m\u001b[0m path                = \"/\"\n",
      "          \u001b[32m+\u001b[0m\u001b[0m port                = \"traffic-port\"\n",
      "          \u001b[32m+\u001b[0m\u001b[0m protocol            = \"HTTP\"\n",
      "          \u001b[32m+\u001b[0m\u001b[0m timeout             = 3\n",
      "          \u001b[32m+\u001b[0m\u001b[0m unhealthy_threshold = 2\n",
      "        }\n",
      "\n",
      "      \u001b[32m+\u001b[0m\u001b[0m stickiness (known after apply)\n",
      "\n",
      "      \u001b[32m+\u001b[0m\u001b[0m target_failover (known after apply)\n",
      "    }\n",
      "\n",
      "\u001b[1m  # module.webserver_cluster.module.alb.aws_lb.example\u001b[0m will be created\n",
      "\u001b[0m  \u001b[32m+\u001b[0m\u001b[0m resource \"aws_lb\" \"example\" {\n",
      "      \u001b[32m+\u001b[0m\u001b[0m arn                                         = (known after apply)\n",
      "      \u001b[32m+\u001b[0m\u001b[0m arn_suffix                                  = (known after apply)\n",
      "      \u001b[32m+\u001b[0m\u001b[0m desync_mitigation_mode                      = \"defensive\"\n",
      "      \u001b[32m+\u001b[0m\u001b[0m dns_name                                    = (known after apply)\n",
      "      \u001b[32m+\u001b[0m\u001b[0m drop_invalid_header_fields                  = false\n",
      "      \u001b[32m+\u001b[0m\u001b[0m enable_deletion_protection                  = false\n",
      "      \u001b[32m+\u001b[0m\u001b[0m enable_http2                                = true\n",
      "      \u001b[32m+\u001b[0m\u001b[0m enable_tls_version_and_cipher_suite_headers = false\n",
      "      \u001b[32m+\u001b[0m\u001b[0m enable_waf_fail_open                        = false\n",
      "      \u001b[32m+\u001b[0m\u001b[0m enable_xff_client_port                      = false\n",
      "      \u001b[32m+\u001b[0m\u001b[0m id                                          = (known after apply)\n",
      "      \u001b[32m+\u001b[0m\u001b[0m idle_timeout                                = 60\n",
      "      \u001b[32m+\u001b[0m\u001b[0m internal                                    = (known after apply)\n",
      "      \u001b[32m+\u001b[0m\u001b[0m ip_address_type                             = (known after apply)\n",
      "      \u001b[32m+\u001b[0m\u001b[0m load_balancer_type                          = \"application\"\n",
      "      \u001b[32m+\u001b[0m\u001b[0m name                                        = \"hello-world-prod\"\n",
      "      \u001b[32m+\u001b[0m\u001b[0m preserve_host_header                        = false\n",
      "      \u001b[32m+\u001b[0m\u001b[0m security_groups                             = (known after apply)\n",
      "      \u001b[32m+\u001b[0m\u001b[0m subnets                                     = [\n",
      "          \u001b[32m+\u001b[0m\u001b[0m \"subnet-07373a76cf5740bbb\",\n",
      "          \u001b[32m+\u001b[0m\u001b[0m \"subnet-0c13b6812ab6e3f89\",\n",
      "          \u001b[32m+\u001b[0m\u001b[0m \"subnet-0e6c5590894f5f7cd\",\n",
      "        ]\n",
      "      \u001b[32m+\u001b[0m\u001b[0m tags_all                                    = (known after apply)\n",
      "      \u001b[32m+\u001b[0m\u001b[0m vpc_id                                      = (known after apply)\n",
      "      \u001b[32m+\u001b[0m\u001b[0m xff_header_processing_mode                  = \"append\"\n",
      "      \u001b[32m+\u001b[0m\u001b[0m zone_id                                     = (known after apply)\n",
      "\n",
      "      \u001b[32m+\u001b[0m\u001b[0m subnet_mapping (known after apply)\n",
      "    }\n",
      "\n",
      "\u001b[1m  # module.webserver_cluster.module.alb.aws_lb_listener.http\u001b[0m will be created\n",
      "\u001b[0m  \u001b[32m+\u001b[0m\u001b[0m resource \"aws_lb_listener\" \"http\" {\n",
      "      \u001b[32m+\u001b[0m\u001b[0m arn               = (known after apply)\n",
      "      \u001b[32m+\u001b[0m\u001b[0m id                = (known after apply)\n",
      "      \u001b[32m+\u001b[0m\u001b[0m load_balancer_arn = (known after apply)\n",
      "      \u001b[32m+\u001b[0m\u001b[0m port              = 80\n",
      "      \u001b[32m+\u001b[0m\u001b[0m protocol          = \"HTTP\"\n",
      "      \u001b[32m+\u001b[0m\u001b[0m ssl_policy        = (known after apply)\n",
      "      \u001b[32m+\u001b[0m\u001b[0m tags_all          = (known after apply)\n",
      "\n",
      "      \u001b[32m+\u001b[0m\u001b[0m default_action {\n",
      "          \u001b[32m+\u001b[0m\u001b[0m order = (known after apply)\n",
      "          \u001b[32m+\u001b[0m\u001b[0m type  = \"fixed-response\"\n",
      "\n",
      "          \u001b[32m+\u001b[0m\u001b[0m fixed_response {\n",
      "              \u001b[32m+\u001b[0m\u001b[0m content_type = \"text/plain\"\n",
      "              \u001b[32m+\u001b[0m\u001b[0m message_body = \"404: page not found\"\n",
      "              \u001b[32m+\u001b[0m\u001b[0m status_code  = \"404\"\n",
      "            }\n",
      "        }\n",
      "    }\n",
      "\n",
      "\u001b[1m  # module.webserver_cluster.module.alb.aws_security_group.alb\u001b[0m will be created\n",
      "\u001b[0m  \u001b[32m+\u001b[0m\u001b[0m resource \"aws_security_group\" \"alb\" {\n",
      "      \u001b[32m+\u001b[0m\u001b[0m arn                    = (known after apply)\n",
      "      \u001b[32m+\u001b[0m\u001b[0m description            = \"Managed by Terraform\"\n",
      "      \u001b[32m+\u001b[0m\u001b[0m egress                 = (known after apply)\n",
      "      \u001b[32m+\u001b[0m\u001b[0m id                     = (known after apply)\n",
      "      \u001b[32m+\u001b[0m\u001b[0m ingress                = (known after apply)\n",
      "      \u001b[32m+\u001b[0m\u001b[0m name                   = \"hello-world-prod\"\n",
      "      \u001b[32m+\u001b[0m\u001b[0m name_prefix            = (known after apply)\n",
      "      \u001b[32m+\u001b[0m\u001b[0m owner_id               = (known after apply)\n",
      "      \u001b[32m+\u001b[0m\u001b[0m revoke_rules_on_delete = false\n",
      "      \u001b[32m+\u001b[0m\u001b[0m tags_all               = (known after apply)\n",
      "      \u001b[32m+\u001b[0m\u001b[0m vpc_id                 = \"vpc-0a4860611e96d1d85\"\n",
      "    }\n",
      "\n",
      "\u001b[1m  # module.webserver_cluster.module.alb.aws_security_group_rule.allow_all_outbound\u001b[0m will be created\n",
      "\u001b[0m  \u001b[32m+\u001b[0m\u001b[0m resource \"aws_security_group_rule\" \"allow_all_outbound\" {\n",
      "      \u001b[32m+\u001b[0m\u001b[0m cidr_blocks              = [\n",
      "          \u001b[32m+\u001b[0m\u001b[0m \"0.0.0.0/0\",\n",
      "        ]\n",
      "      \u001b[32m+\u001b[0m\u001b[0m from_port                = 0\n",
      "      \u001b[32m+\u001b[0m\u001b[0m id                       = (known after apply)\n",
      "      \u001b[32m+\u001b[0m\u001b[0m protocol                 = \"-1\"\n",
      "      \u001b[32m+\u001b[0m\u001b[0m security_group_id        = (known after apply)\n",
      "      \u001b[32m+\u001b[0m\u001b[0m security_group_rule_id   = (known after apply)\n",
      "      \u001b[32m+\u001b[0m\u001b[0m self                     = false\n",
      "      \u001b[32m+\u001b[0m\u001b[0m source_security_group_id = (known after apply)\n",
      "      \u001b[32m+\u001b[0m\u001b[0m to_port                  = 0\n",
      "      \u001b[32m+\u001b[0m\u001b[0m type                     = \"egress\"\n",
      "    }\n",
      "\n",
      "\u001b[1m  # module.webserver_cluster.module.alb.aws_security_group_rule.allow_http_inbound\u001b[0m will be created\n",
      "\u001b[0m  \u001b[32m+\u001b[0m\u001b[0m resource \"aws_security_group_rule\" \"allow_http_inbound\" {\n",
      "      \u001b[32m+\u001b[0m\u001b[0m cidr_blocks              = [\n",
      "          \u001b[32m+\u001b[0m\u001b[0m \"0.0.0.0/0\",\n",
      "        ]\n",
      "      \u001b[32m+\u001b[0m\u001b[0m from_port                = 80\n",
      "      \u001b[32m+\u001b[0m\u001b[0m id                       = (known after apply)\n",
      "      \u001b[32m+\u001b[0m\u001b[0m protocol                 = \"tcp\"\n",
      "      \u001b[32m+\u001b[0m\u001b[0m security_group_id        = (known after apply)\n",
      "      \u001b[32m+\u001b[0m\u001b[0m security_group_rule_id   = (known after apply)\n",
      "      \u001b[32m+\u001b[0m\u001b[0m self                     = false\n",
      "      \u001b[32m+\u001b[0m\u001b[0m source_security_group_id = (known after apply)\n",
      "      \u001b[32m+\u001b[0m\u001b[0m to_port                  = 80\n",
      "      \u001b[32m+\u001b[0m\u001b[0m type                     = \"ingress\"\n",
      "    }\n",
      "\n",
      "\u001b[1m  # module.webserver_cluster.module.asg.aws_autoscaling_group.example\u001b[0m will be created\n",
      "\u001b[0m  \u001b[32m+\u001b[0m\u001b[0m resource \"aws_autoscaling_group\" \"example\" {\n",
      "      \u001b[32m+\u001b[0m\u001b[0m arn                       = (known after apply)\n",
      "      \u001b[32m+\u001b[0m\u001b[0m availability_zones        = (known after apply)\n",
      "      \u001b[32m+\u001b[0m\u001b[0m default_cooldown          = (known after apply)\n",
      "      \u001b[32m+\u001b[0m\u001b[0m desired_capacity          = (known after apply)\n",
      "      \u001b[32m+\u001b[0m\u001b[0m force_delete              = false\n",
      "      \u001b[32m+\u001b[0m\u001b[0m force_delete_warm_pool    = false\n",
      "      \u001b[32m+\u001b[0m\u001b[0m health_check_grace_period = 300\n",
      "      \u001b[32m+\u001b[0m\u001b[0m health_check_type         = \"ELB\"\n",
      "      \u001b[32m+\u001b[0m\u001b[0m id                        = (known after apply)\n",
      "      \u001b[32m+\u001b[0m\u001b[0m launch_configuration      = (known after apply)\n",
      "      \u001b[32m+\u001b[0m\u001b[0m load_balancers            = (known after apply)\n",
      "      \u001b[32m+\u001b[0m\u001b[0m max_size                  = 3\n",
      "      \u001b[32m+\u001b[0m\u001b[0m metrics_granularity       = \"1Minute\"\n",
      "      \u001b[32m+\u001b[0m\u001b[0m min_size                  = 2\n",
      "      \u001b[32m+\u001b[0m\u001b[0m name                      = \"webserver_cluster-prod\"\n",
      "      \u001b[32m+\u001b[0m\u001b[0m name_prefix               = (known after apply)\n",
      "      \u001b[32m+\u001b[0m\u001b[0m predicted_capacity        = (known after apply)\n",
      "      \u001b[32m+\u001b[0m\u001b[0m protect_from_scale_in     = false\n",
      "      \u001b[32m+\u001b[0m\u001b[0m service_linked_role_arn   = (known after apply)\n",
      "      \u001b[32m+\u001b[0m\u001b[0m target_group_arns         = (known after apply)\n",
      "      \u001b[32m+\u001b[0m\u001b[0m vpc_zone_identifier       = [\n",
      "          \u001b[32m+\u001b[0m\u001b[0m \"subnet-07373a76cf5740bbb\",\n",
      "          \u001b[32m+\u001b[0m\u001b[0m \"subnet-0c13b6812ab6e3f89\",\n",
      "          \u001b[32m+\u001b[0m\u001b[0m \"subnet-0e6c5590894f5f7cd\",\n",
      "        ]\n",
      "      \u001b[32m+\u001b[0m\u001b[0m wait_for_capacity_timeout = \"10m\"\n",
      "      \u001b[32m+\u001b[0m\u001b[0m warm_pool_size            = (known after apply)\n",
      "\n",
      "      \u001b[32m+\u001b[0m\u001b[0m instance_refresh {\n",
      "          \u001b[32m+\u001b[0m\u001b[0m strategy = \"Rolling\"\n",
      "\n",
      "          \u001b[32m+\u001b[0m\u001b[0m preferences {\n",
      "              \u001b[32m+\u001b[0m\u001b[0m min_healthy_percentage = 50\n",
      "              \u001b[32m+\u001b[0m\u001b[0m skip_matching          = false\n",
      "            }\n",
      "        }\n",
      "\n",
      "      \u001b[32m+\u001b[0m\u001b[0m tag {\n",
      "          \u001b[32m+\u001b[0m\u001b[0m key                 = \"Name\"\n",
      "          \u001b[32m+\u001b[0m\u001b[0m propagate_at_launch = true\n",
      "          \u001b[32m+\u001b[0m\u001b[0m value               = \"webserver_cluster-prod\"\n",
      "        }\n",
      "      \u001b[32m+\u001b[0m\u001b[0m tag {\n",
      "          \u001b[32m+\u001b[0m\u001b[0m key                 = \"first_tag\"\n",
      "          \u001b[32m+\u001b[0m\u001b[0m propagate_at_launch = true\n",
      "          \u001b[32m+\u001b[0m\u001b[0m value               = \"FIRST_TAG_VALUE\"\n",
      "        }\n",
      "\n",
      "      \u001b[32m+\u001b[0m\u001b[0m traffic_source (known after apply)\n",
      "    }\n",
      "\n",
      "\u001b[1m  # module.webserver_cluster.module.asg.aws_cloudwatch_metric_alarm.high_cpu_utilization\u001b[0m will be created\n",
      "\u001b[0m  \u001b[32m+\u001b[0m\u001b[0m resource \"aws_cloudwatch_metric_alarm\" \"high_cpu_utilization\" {\n",
      "      \u001b[32m+\u001b[0m\u001b[0m actions_enabled                       = true\n",
      "      \u001b[32m+\u001b[0m\u001b[0m alarm_name                            = \"webserver_cluster-prod-high-cpu-utilization\"\n",
      "      \u001b[32m+\u001b[0m\u001b[0m arn                                   = (known after apply)\n",
      "      \u001b[32m+\u001b[0m\u001b[0m comparison_operator                   = \"GreaterThanThreshold\"\n",
      "      \u001b[32m+\u001b[0m\u001b[0m dimensions                            = {\n",
      "          \u001b[32m+\u001b[0m\u001b[0m \"AutoScalingGroupName\" = \"webserver_cluster-prod\"\n",
      "        }\n",
      "      \u001b[32m+\u001b[0m\u001b[0m evaluate_low_sample_count_percentiles = (known after apply)\n",
      "      \u001b[32m+\u001b[0m\u001b[0m evaluation_periods                    = 1\n",
      "      \u001b[32m+\u001b[0m\u001b[0m id                                    = (known after apply)\n",
      "      \u001b[32m+\u001b[0m\u001b[0m metric_name                           = \"CPUUtilization\"\n",
      "      \u001b[32m+\u001b[0m\u001b[0m namespace                             = \"AWS/EC2\"\n",
      "      \u001b[32m+\u001b[0m\u001b[0m period                                = 300\n",
      "      \u001b[32m+\u001b[0m\u001b[0m statistic                             = \"Average\"\n",
      "      \u001b[32m+\u001b[0m\u001b[0m tags_all                              = (known after apply)\n",
      "      \u001b[32m+\u001b[0m\u001b[0m threshold                             = 90\n",
      "      \u001b[32m+\u001b[0m\u001b[0m treat_missing_data                    = \"missing\"\n",
      "      \u001b[32m+\u001b[0m\u001b[0m unit                                  = \"Percent\"\n",
      "    }\n",
      "\n",
      "\u001b[1m  # module.webserver_cluster.module.asg.aws_cloudwatch_metric_alarm.low_cpu_credit_balance[0]\u001b[0m will be created\n",
      "\u001b[0m  \u001b[32m+\u001b[0m\u001b[0m resource \"aws_cloudwatch_metric_alarm\" \"low_cpu_credit_balance\" {\n",
      "      \u001b[32m+\u001b[0m\u001b[0m actions_enabled                       = true\n",
      "      \u001b[32m+\u001b[0m\u001b[0m alarm_name                            = \"webserver_cluster-prod-low-cpu-credit-balance\"\n",
      "      \u001b[32m+\u001b[0m\u001b[0m arn                                   = (known after apply)\n",
      "      \u001b[32m+\u001b[0m\u001b[0m comparison_operator                   = \"LessThanThreshold\"\n",
      "      \u001b[32m+\u001b[0m\u001b[0m dimensions                            = {\n",
      "          \u001b[32m+\u001b[0m\u001b[0m \"AutoScalingGroupName\" = \"webserver_cluster-prod\"\n",
      "        }\n",
      "      \u001b[32m+\u001b[0m\u001b[0m evaluate_low_sample_count_percentiles = (known after apply)\n",
      "      \u001b[32m+\u001b[0m\u001b[0m evaluation_periods                    = 1\n",
      "      \u001b[32m+\u001b[0m\u001b[0m id                                    = (known after apply)\n",
      "      \u001b[32m+\u001b[0m\u001b[0m metric_name                           = \"CPUCreditBalance\"\n",
      "      \u001b[32m+\u001b[0m\u001b[0m namespace                             = \"AWS/EC2\"\n",
      "      \u001b[32m+\u001b[0m\u001b[0m period                                = 300\n",
      "      \u001b[32m+\u001b[0m\u001b[0m statistic                             = \"Minimum\"\n",
      "      \u001b[32m+\u001b[0m\u001b[0m tags_all                              = (known after apply)\n",
      "      \u001b[32m+\u001b[0m\u001b[0m threshold                             = 10\n",
      "      \u001b[32m+\u001b[0m\u001b[0m treat_missing_data                    = \"missing\"\n",
      "      \u001b[32m+\u001b[0m\u001b[0m unit                                  = \"Count\"\n",
      "    }\n",
      "\n",
      "\u001b[1m  # module.webserver_cluster.module.asg.aws_launch_configuration.example\u001b[0m will be created\n",
      "\u001b[0m  \u001b[32m+\u001b[0m\u001b[0m resource \"aws_launch_configuration\" \"example\" {\n",
      "      \u001b[32m+\u001b[0m\u001b[0m arn                         = (known after apply)\n",
      "      \u001b[32m+\u001b[0m\u001b[0m associate_public_ip_address = true\n",
      "      \u001b[32m+\u001b[0m\u001b[0m ebs_optimized               = (known after apply)\n",
      "      \u001b[32m+\u001b[0m\u001b[0m enable_monitoring           = true\n",
      "      \u001b[32m+\u001b[0m\u001b[0m id                          = (known after apply)\n",
      "      \u001b[32m+\u001b[0m\u001b[0m image_id                    = \"ami-09da212cf18033880\"\n",
      "      \u001b[32m+\u001b[0m\u001b[0m instance_type               = \"t2.micro\"\n",
      "      \u001b[32m+\u001b[0m\u001b[0m key_name                    = (known after apply)\n",
      "      \u001b[32m+\u001b[0m\u001b[0m name                        = (known after apply)\n",
      "      \u001b[32m+\u001b[0m\u001b[0m name_prefix                 = (known after apply)\n",
      "      \u001b[32m+\u001b[0m\u001b[0m security_groups             = (known after apply)\n",
      "      \u001b[32m+\u001b[0m\u001b[0m user_data                   = \"29e0e255bcf3fdc761a0fcbad289f5ec9add605a\"\n",
      "\n",
      "      \u001b[32m+\u001b[0m\u001b[0m ebs_block_device (known after apply)\n",
      "\n",
      "      \u001b[32m+\u001b[0m\u001b[0m metadata_options (known after apply)\n",
      "\n",
      "      \u001b[32m+\u001b[0m\u001b[0m root_block_device (known after apply)\n",
      "    }\n",
      "\n",
      "\u001b[1m  # module.webserver_cluster.module.asg.aws_security_group.instance\u001b[0m will be created\n",
      "\u001b[0m  \u001b[32m+\u001b[0m\u001b[0m resource \"aws_security_group\" \"instance\" {\n",
      "      \u001b[32m+\u001b[0m\u001b[0m arn                    = (known after apply)\n",
      "      \u001b[32m+\u001b[0m\u001b[0m description            = \"Managed by Terraform\"\n",
      "      \u001b[32m+\u001b[0m\u001b[0m egress                 = (known after apply)\n",
      "      \u001b[32m+\u001b[0m\u001b[0m id                     = (known after apply)\n",
      "      \u001b[32m+\u001b[0m\u001b[0m ingress                = (known after apply)\n",
      "      \u001b[32m+\u001b[0m\u001b[0m name                   = \"webserver_cluster-prod-instance\"\n",
      "      \u001b[32m+\u001b[0m\u001b[0m name_prefix            = (known after apply)\n",
      "      \u001b[32m+\u001b[0m\u001b[0m owner_id               = (known after apply)\n",
      "      \u001b[32m+\u001b[0m\u001b[0m revoke_rules_on_delete = false\n",
      "      \u001b[32m+\u001b[0m\u001b[0m tags_all               = (known after apply)\n",
      "      \u001b[32m+\u001b[0m\u001b[0m vpc_id                 = \"vpc-0a4860611e96d1d85\"\n",
      "    }\n",
      "\n",
      "\u001b[1m  # module.webserver_cluster.module.asg.aws_security_group_rule.allow_egress[0]\u001b[0m will be created\n",
      "\u001b[0m  \u001b[32m+\u001b[0m\u001b[0m resource \"aws_security_group_rule\" \"allow_egress\" {\n",
      "      \u001b[32m+\u001b[0m\u001b[0m cidr_blocks              = [\n",
      "          \u001b[32m+\u001b[0m\u001b[0m \"0.0.0.0/0\",\n",
      "        ]\n",
      "      \u001b[32m+\u001b[0m\u001b[0m from_port                = 0\n",
      "      \u001b[32m+\u001b[0m\u001b[0m id                       = (known after apply)\n",
      "      \u001b[32m+\u001b[0m\u001b[0m protocol                 = \"-1\"\n",
      "      \u001b[32m+\u001b[0m\u001b[0m security_group_id        = (known after apply)\n",
      "      \u001b[32m+\u001b[0m\u001b[0m security_group_rule_id   = (known after apply)\n",
      "      \u001b[32m+\u001b[0m\u001b[0m self                     = false\n",
      "      \u001b[32m+\u001b[0m\u001b[0m source_security_group_id = (known after apply)\n",
      "      \u001b[32m+\u001b[0m\u001b[0m to_port                  = 0\n",
      "      \u001b[32m+\u001b[0m\u001b[0m type                     = \"egress\"\n",
      "    }\n",
      "\n",
      "\u001b[1m  # module.webserver_cluster.module.asg.aws_security_group_rule.allow_server_http_inbound\u001b[0m will be created\n",
      "\u001b[0m  \u001b[32m+\u001b[0m\u001b[0m resource \"aws_security_group_rule\" \"allow_server_http_inbound\" {\n",
      "      \u001b[32m+\u001b[0m\u001b[0m cidr_blocks              = [\n",
      "          \u001b[32m+\u001b[0m\u001b[0m \"0.0.0.0/0\",\n",
      "        ]\n",
      "      \u001b[32m+\u001b[0m\u001b[0m from_port                = 8080\n",
      "      \u001b[32m+\u001b[0m\u001b[0m id                       = (known after apply)\n",
      "      \u001b[32m+\u001b[0m\u001b[0m protocol                 = \"tcp\"\n",
      "      \u001b[32m+\u001b[0m\u001b[0m security_group_id        = (known after apply)\n",
      "      \u001b[32m+\u001b[0m\u001b[0m security_group_rule_id   = (known after apply)\n",
      "      \u001b[32m+\u001b[0m\u001b[0m self                     = false\n",
      "      \u001b[32m+\u001b[0m\u001b[0m source_security_group_id = (known after apply)\n",
      "      \u001b[32m+\u001b[0m\u001b[0m to_port                  = 8080\n",
      "      \u001b[32m+\u001b[0m\u001b[0m type                     = \"ingress\"\n",
      "    }\n",
      "\n",
      "\u001b[1mPlan:\u001b[0m 14 to add, 0 to change, 0 to destroy.\n",
      "\u001b[0m\n",
      "Changes to Outputs:\n",
      "  \u001b[32m+\u001b[0m\u001b[0m LB_http_port = 80\n",
      "  \u001b[32m+\u001b[0m\u001b[0m public_ip    = (known after apply)\n",
      "\u001b[90m\n",
      "─────────────────────────────────────────────────────────────────────────────\u001b[0m\n",
      "\n",
      "Saved the plan to: tfplan\n",
      "\n",
      "To perform exactly these actions, run the following command to apply:\n",
      "    terraform apply \"tfplan\"\n",
      "\n",
      "Tuesday, October 15, 2024 3:53:19 PM\n",
      "\n"
     ]
    }
   ],
   "source": [
    "###      ###\n",
    "### PLAN ###\n",
    "###      ###\n",
    "\n",
    "tf plan -out=tfplan\n",
    "terraform show -json tfplan > plan.json\n",
    "Get-Date"
   ]
  },
  {
   "cell_type": "code",
   "execution_count": 14,
   "metadata": {
    "dotnet_interactive": {
     "language": "pwsh"
    },
    "polyglot_notebook": {
     "kernelName": "pwsh"
    }
   },
   "outputs": [
    {
     "name": "stdout",
     "output_type": "stream",
     "text": [
      "Type: aws_lb_listener_rule\n",
      "TF name: asg\n",
      "Cloud name: \n",
      "Name tag: \n",
      "\n",
      "Type: aws_lb_target_group\n",
      "TF name: asg\n",
      "Cloud name: hello-world-prod\n",
      "Name tag: \n",
      "\n",
      "Type: aws_lb\n",
      "TF name: example\n",
      "Cloud name: hello-world-prod\n",
      "Name tag: \n",
      "\n",
      "Type: aws_lb_listener\n",
      "TF name: http\n",
      "Cloud name: \n",
      "Name tag: \n",
      "\n",
      "Type: aws_security_group\n",
      "TF name: alb\n",
      "Cloud name: hello-world-prod\n",
      "Name tag: \n",
      "\n",
      "Type: aws_security_group_rule\n",
      "TF name: allow_all_outbound\n",
      "Cloud name: \n",
      "Name tag: \n",
      "\n",
      "Type: aws_security_group_rule\n",
      "TF name: allow_http_inbound\n",
      "Cloud name: \n",
      "Name tag: \n",
      "\n",
      "Type: aws_autoscaling_group\n",
      "TF name: example\n",
      "Cloud name: webserver_cluster-prod\n",
      "Name tag: \n",
      "\n",
      "Type: aws_cloudwatch_metric_alarm\n",
      "TF name: high_cpu_utilization\n",
      "Cloud name: \n",
      "Name tag: \n",
      "\n",
      "Type: aws_cloudwatch_metric_alarm\n",
      "TF name: low_cpu_credit_balance\n",
      "Cloud name: \n",
      "Name tag: \n",
      "\n",
      "Type: aws_launch_configuration\n",
      "TF name: example\n",
      "Cloud name: \n",
      "Name tag: \n",
      "\n",
      "Type: aws_security_group\n",
      "TF name: instance\n",
      "Cloud name: webserver_cluster-prod-instance\n",
      "Name tag: \n",
      "\n",
      "Type: aws_security_group_rule\n",
      "TF name: allow_egress\n",
      "Cloud name: \n",
      "Name tag: \n",
      "\n",
      "Type: aws_security_group_rule\n",
      "TF name: allow_server_http_inbound\n",
      "Cloud name: \n",
      "Name tag: \n",
      "\n",
      "\n",
      "Tuesday, October 15, 2024 3:53:27 PM\n",
      "\n"
     ]
    }
   ],
   "source": [
    "#Output planned resource addresses and their names in the cloud\n",
    "\n",
    "$plan = Get-Content -Raw -Path \"plan.json\" | ConvertFrom-Json\n",
    "\n",
    "$resourcesToDeploy = $plan.resource_changes | Where-Object { \n",
    "    $_.change.actions -contains \"create\" -or $_.change.actions -contains \"update\" \n",
    "} | ForEach-Object { \n",
    "    \"Type: \" + $_.type\n",
    "    \"TF name: \" + $_.name\n",
    "    \"Cloud name: \" + $_.change.after.name\n",
    "    \"Name tag: \" + $_.change.after.tags_all.name\n",
    "    \"\"\n",
    "}\n",
    "\n",
    "$resourcesToDeploy\n",
    "Get-Date"
   ]
  },
  {
   "cell_type": "code",
   "execution_count": 21,
   "metadata": {
    "dotnet_interactive": {
     "language": "pwsh"
    },
    "polyglot_notebook": {
     "kernelName": "pwsh"
    }
   },
   "outputs": [
    {
     "name": "stdout",
     "output_type": "stream",
     "text": [
      "\u001b[0m\u001b[1mmodule.webserver_cluster.data.aws_vpc.existing_vpc: Reading...\u001b[0m\u001b[0m\n",
      "\u001b[0m\u001b[1mmodule.webserver_cluster.module.asg.data.aws_ec2_instance_type.instance: Reading...\u001b[0m\u001b[0m\n",
      "\u001b[0m\u001b[1mdata.aws_ami.ami: Reading...\u001b[0m\u001b[0m\n",
      "\u001b[0m\u001b[1mdata.aws_ami.ami: Read complete after 2s [id=ami-09da212cf18033880]\u001b[0m\n",
      "\u001b[0m\u001b[1mmodule.webserver_cluster.module.asg.data.aws_ec2_instance_type.instance: Read complete after 3s [id=t2.micro]\u001b[0m\n",
      "\u001b[0m\u001b[1mmodule.webserver_cluster.data.aws_vpc.existing_vpc: Read complete after 3s [id=vpc-0a4860611e96d1d85]\u001b[0m\n",
      "\u001b[0m\u001b[1mmodule.webserver_cluster.data.aws_subnets.vpc_subnets: Reading...\u001b[0m\u001b[0m\n",
      "\u001b[0m\u001b[1mmodule.webserver_cluster.data.aws_subnets.vpc_subnets: Read complete after 1s [id=us-east-2]\u001b[0m\n",
      "\u001b[0m\u001b[1mmodule.webserver_cluster.data.aws_subnet.subnets[\"subnet-05c781f49cb7a7b5e\"]: Reading...\u001b[0m\u001b[0m\n",
      "\u001b[0m\u001b[1mmodule.webserver_cluster.data.aws_subnet.subnets[\"subnet-0c13b6812ab6e3f89\"]: Reading...\u001b[0m\u001b[0m\n",
      "\u001b[0m\u001b[1mmodule.webserver_cluster.data.aws_subnet.subnets[\"subnet-07373a76cf5740bbb\"]: Reading...\u001b[0m\u001b[0m\n",
      "\u001b[0m\u001b[1mmodule.webserver_cluster.data.aws_subnet.subnets[\"subnet-0075ecc8eac5c3cdd\"]: Reading...\u001b[0m\u001b[0m\n",
      "\u001b[0m\u001b[1mmodule.webserver_cluster.data.aws_subnet.subnets[\"subnet-0e6c5590894f5f7cd\"]: Reading...\u001b[0m\u001b[0m\n",
      "\u001b[0m\u001b[1mmodule.webserver_cluster.data.aws_subnet.subnets[\"subnet-07a06d61b264fbaeb\"]: Reading...\u001b[0m\u001b[0m\n",
      "\u001b[0m\u001b[1mmodule.webserver_cluster.data.aws_subnet.subnets[\"subnet-0c13b6812ab6e3f89\"]: Read complete after 0s [id=subnet-0c13b6812ab6e3f89]\u001b[0m\n",
      "\u001b[0m\u001b[1mmodule.webserver_cluster.data.aws_subnet.subnets[\"subnet-07373a76cf5740bbb\"]: Read complete after 0s [id=subnet-07373a76cf5740bbb]\u001b[0m\n",
      "\u001b[0m\u001b[1mmodule.webserver_cluster.data.aws_subnet.subnets[\"subnet-05c781f49cb7a7b5e\"]: Read complete after 1s [id=subnet-05c781f49cb7a7b5e]\u001b[0m\n",
      "\u001b[0m\u001b[1mmodule.webserver_cluster.data.aws_subnet.subnets[\"subnet-0e6c5590894f5f7cd\"]: Read complete after 1s [id=subnet-0e6c5590894f5f7cd]\u001b[0m\n",
      "\u001b[0m\u001b[1mmodule.webserver_cluster.data.aws_subnet.subnets[\"subnet-07a06d61b264fbaeb\"]: Read complete after 1s [id=subnet-07a06d61b264fbaeb]\u001b[0m\n",
      "\u001b[0m\u001b[1mmodule.webserver_cluster.data.aws_subnet.subnets[\"subnet-0075ecc8eac5c3cdd\"]: Read complete after 1s [id=subnet-0075ecc8eac5c3cdd]\u001b[0m\n",
      "\n",
      "Terraform used the selected providers to generate the following execution\n",
      "plan. Resource actions are indicated with the following symbols:\n",
      "  \u001b[32m+\u001b[0m create\u001b[0m\n",
      "\n",
      "Terraform will perform the following actions:\n",
      "\n",
      "\u001b[1m  # module.webserver_cluster.aws_lb_listener_rule.asg\u001b[0m will be created\n",
      "\u001b[0m  \u001b[32m+\u001b[0m\u001b[0m resource \"aws_lb_listener_rule\" \"asg\" {\n",
      "      \u001b[32m+\u001b[0m\u001b[0m arn          = (known after apply)\n",
      "      \u001b[32m+\u001b[0m\u001b[0m id           = (known after apply)\n",
      "      \u001b[32m+\u001b[0m\u001b[0m listener_arn = (known after apply)\n",
      "      \u001b[32m+\u001b[0m\u001b[0m priority     = 100\n",
      "      \u001b[32m+\u001b[0m\u001b[0m tags_all     = (known after apply)\n",
      "\n",
      "      \u001b[32m+\u001b[0m\u001b[0m action {\n",
      "          \u001b[32m+\u001b[0m\u001b[0m order            = (known after apply)\n",
      "          \u001b[32m+\u001b[0m\u001b[0m target_group_arn = (known after apply)\n",
      "          \u001b[32m+\u001b[0m\u001b[0m type             = \"forward\"\n",
      "        }\n",
      "\n",
      "      \u001b[32m+\u001b[0m\u001b[0m condition {\n",
      "          \u001b[32m+\u001b[0m\u001b[0m path_pattern {\n",
      "              \u001b[32m+\u001b[0m\u001b[0m values = [\n",
      "                  \u001b[32m+\u001b[0m\u001b[0m \"*\",\n",
      "                ]\n",
      "            }\n",
      "        }\n",
      "    }\n",
      "\n",
      "\u001b[1m  # module.webserver_cluster.aws_lb_target_group.asg\u001b[0m will be created\n",
      "\u001b[0m  \u001b[32m+\u001b[0m\u001b[0m resource \"aws_lb_target_group\" \"asg\" {\n",
      "      \u001b[32m+\u001b[0m\u001b[0m arn                                = (known after apply)\n",
      "      \u001b[32m+\u001b[0m\u001b[0m arn_suffix                         = (known after apply)\n",
      "      \u001b[32m+\u001b[0m\u001b[0m connection_termination             = false\n",
      "      \u001b[32m+\u001b[0m\u001b[0m deregistration_delay               = \"300\"\n",
      "      \u001b[32m+\u001b[0m\u001b[0m id                                 = (known after apply)\n",
      "      \u001b[32m+\u001b[0m\u001b[0m ip_address_type                    = (known after apply)\n",
      "      \u001b[32m+\u001b[0m\u001b[0m lambda_multi_value_headers_enabled = false\n",
      "      \u001b[32m+\u001b[0m\u001b[0m load_balancing_algorithm_type      = (known after apply)\n",
      "      \u001b[32m+\u001b[0m\u001b[0m load_balancing_cross_zone_enabled  = (known after apply)\n",
      "      \u001b[32m+\u001b[0m\u001b[0m name                               = \"hello-world-prod\"\n",
      "      \u001b[32m+\u001b[0m\u001b[0m port                               = 8080\n",
      "      \u001b[32m+\u001b[0m\u001b[0m preserve_client_ip                 = (known after apply)\n",
      "      \u001b[32m+\u001b[0m\u001b[0m protocol                           = \"HTTP\"\n",
      "      \u001b[32m+\u001b[0m\u001b[0m protocol_version                   = (known after apply)\n",
      "      \u001b[32m+\u001b[0m\u001b[0m proxy_protocol_v2                  = false\n",
      "      \u001b[32m+\u001b[0m\u001b[0m slow_start                         = 0\n",
      "      \u001b[32m+\u001b[0m\u001b[0m tags_all                           = (known after apply)\n",
      "      \u001b[32m+\u001b[0m\u001b[0m target_type                        = \"instance\"\n",
      "      \u001b[32m+\u001b[0m\u001b[0m vpc_id                             = \"vpc-0a4860611e96d1d85\"\n",
      "\n",
      "      \u001b[32m+\u001b[0m\u001b[0m health_check {\n",
      "          \u001b[32m+\u001b[0m\u001b[0m enabled             = true\n",
      "          \u001b[32m+\u001b[0m\u001b[0m healthy_threshold   = 2\n",
      "          \u001b[32m+\u001b[0m\u001b[0m interval            = 15\n",
      "          \u001b[32m+\u001b[0m\u001b[0m matcher             = \"200\"\n",
      "          \u001b[32m+\u001b[0m\u001b[0m path                = \"/\"\n",
      "          \u001b[32m+\u001b[0m\u001b[0m port                = \"traffic-port\"\n",
      "          \u001b[32m+\u001b[0m\u001b[0m protocol            = \"HTTP\"\n",
      "          \u001b[32m+\u001b[0m\u001b[0m timeout             = 3\n",
      "          \u001b[32m+\u001b[0m\u001b[0m unhealthy_threshold = 2\n",
      "        }\n",
      "\n",
      "      \u001b[32m+\u001b[0m\u001b[0m stickiness (known after apply)\n",
      "\n",
      "      \u001b[32m+\u001b[0m\u001b[0m target_failover (known after apply)\n",
      "    }\n",
      "\n",
      "\u001b[1m  # module.webserver_cluster.module.alb.aws_lb.example\u001b[0m will be created\n",
      "\u001b[0m  \u001b[32m+\u001b[0m\u001b[0m resource \"aws_lb\" \"example\" {\n",
      "      \u001b[32m+\u001b[0m\u001b[0m arn                                         = (known after apply)\n",
      "      \u001b[32m+\u001b[0m\u001b[0m arn_suffix                                  = (known after apply)\n",
      "      \u001b[32m+\u001b[0m\u001b[0m desync_mitigation_mode                      = \"defensive\"\n",
      "      \u001b[32m+\u001b[0m\u001b[0m dns_name                                    = (known after apply)\n",
      "      \u001b[32m+\u001b[0m\u001b[0m drop_invalid_header_fields                  = false\n",
      "      \u001b[32m+\u001b[0m\u001b[0m enable_deletion_protection                  = false\n",
      "      \u001b[32m+\u001b[0m\u001b[0m enable_http2                                = true\n",
      "      \u001b[32m+\u001b[0m\u001b[0m enable_tls_version_and_cipher_suite_headers = false\n",
      "      \u001b[32m+\u001b[0m\u001b[0m enable_waf_fail_open                        = false\n",
      "      \u001b[32m+\u001b[0m\u001b[0m enable_xff_client_port                      = false\n",
      "      \u001b[32m+\u001b[0m\u001b[0m id                                          = (known after apply)\n",
      "      \u001b[32m+\u001b[0m\u001b[0m idle_timeout                                = 60\n",
      "      \u001b[32m+\u001b[0m\u001b[0m internal                                    = (known after apply)\n",
      "      \u001b[32m+\u001b[0m\u001b[0m ip_address_type                             = (known after apply)\n",
      "      \u001b[32m+\u001b[0m\u001b[0m load_balancer_type                          = \"application\"\n",
      "      \u001b[32m+\u001b[0m\u001b[0m name                                        = \"hello-world-prod\"\n",
      "      \u001b[32m+\u001b[0m\u001b[0m preserve_host_header                        = false\n",
      "      \u001b[32m+\u001b[0m\u001b[0m security_groups                             = (known after apply)\n",
      "      \u001b[32m+\u001b[0m\u001b[0m subnets                                     = [\n",
      "          \u001b[32m+\u001b[0m\u001b[0m \"subnet-07373a76cf5740bbb\",\n",
      "          \u001b[32m+\u001b[0m\u001b[0m \"subnet-0c13b6812ab6e3f89\",\n",
      "          \u001b[32m+\u001b[0m\u001b[0m \"subnet-0e6c5590894f5f7cd\",\n",
      "        ]\n",
      "      \u001b[32m+\u001b[0m\u001b[0m tags_all                                    = (known after apply)\n",
      "      \u001b[32m+\u001b[0m\u001b[0m vpc_id                                      = (known after apply)\n",
      "      \u001b[32m+\u001b[0m\u001b[0m xff_header_processing_mode                  = \"append\"\n",
      "      \u001b[32m+\u001b[0m\u001b[0m zone_id                                     = (known after apply)\n",
      "\n",
      "      \u001b[32m+\u001b[0m\u001b[0m subnet_mapping (known after apply)\n",
      "    }\n",
      "\n",
      "\u001b[1m  # module.webserver_cluster.module.alb.aws_lb_listener.http\u001b[0m will be created\n",
      "\u001b[0m  \u001b[32m+\u001b[0m\u001b[0m resource \"aws_lb_listener\" \"http\" {\n",
      "      \u001b[32m+\u001b[0m\u001b[0m arn               = (known after apply)\n",
      "      \u001b[32m+\u001b[0m\u001b[0m id                = (known after apply)\n",
      "      \u001b[32m+\u001b[0m\u001b[0m load_balancer_arn = (known after apply)\n",
      "      \u001b[32m+\u001b[0m\u001b[0m port              = 80\n",
      "      \u001b[32m+\u001b[0m\u001b[0m protocol          = \"HTTP\"\n",
      "      \u001b[32m+\u001b[0m\u001b[0m ssl_policy        = (known after apply)\n",
      "      \u001b[32m+\u001b[0m\u001b[0m tags_all          = (known after apply)\n",
      "\n",
      "      \u001b[32m+\u001b[0m\u001b[0m default_action {\n",
      "          \u001b[32m+\u001b[0m\u001b[0m order = (known after apply)\n",
      "          \u001b[32m+\u001b[0m\u001b[0m type  = \"fixed-response\"\n",
      "\n",
      "          \u001b[32m+\u001b[0m\u001b[0m fixed_response {\n",
      "              \u001b[32m+\u001b[0m\u001b[0m content_type = \"text/plain\"\n",
      "              \u001b[32m+\u001b[0m\u001b[0m message_body = \"404: page not found\"\n",
      "              \u001b[32m+\u001b[0m\u001b[0m status_code  = \"404\"\n",
      "            }\n",
      "        }\n",
      "    }\n",
      "\n",
      "\u001b[1m  # module.webserver_cluster.module.alb.aws_security_group.alb\u001b[0m will be created\n",
      "\u001b[0m  \u001b[32m+\u001b[0m\u001b[0m resource \"aws_security_group\" \"alb\" {\n",
      "      \u001b[32m+\u001b[0m\u001b[0m arn                    = (known after apply)\n",
      "      \u001b[32m+\u001b[0m\u001b[0m description            = \"Managed by Terraform\"\n",
      "      \u001b[32m+\u001b[0m\u001b[0m egress                 = (known after apply)\n",
      "      \u001b[32m+\u001b[0m\u001b[0m id                     = (known after apply)\n",
      "      \u001b[32m+\u001b[0m\u001b[0m ingress                = (known after apply)\n",
      "      \u001b[32m+\u001b[0m\u001b[0m name                   = \"hello-world-prod\"\n",
      "      \u001b[32m+\u001b[0m\u001b[0m name_prefix            = (known after apply)\n",
      "      \u001b[32m+\u001b[0m\u001b[0m owner_id               = (known after apply)\n",
      "      \u001b[32m+\u001b[0m\u001b[0m revoke_rules_on_delete = false\n",
      "      \u001b[32m+\u001b[0m\u001b[0m tags_all               = (known after apply)\n",
      "      \u001b[32m+\u001b[0m\u001b[0m vpc_id                 = \"vpc-0a4860611e96d1d85\"\n",
      "    }\n",
      "\n",
      "\u001b[1m  # module.webserver_cluster.module.alb.aws_security_group_rule.allow_all_outbound\u001b[0m will be created\n",
      "\u001b[0m  \u001b[32m+\u001b[0m\u001b[0m resource \"aws_security_group_rule\" \"allow_all_outbound\" {\n",
      "      \u001b[32m+\u001b[0m\u001b[0m cidr_blocks              = [\n",
      "          \u001b[32m+\u001b[0m\u001b[0m \"0.0.0.0/0\",\n",
      "        ]\n",
      "      \u001b[32m+\u001b[0m\u001b[0m from_port                = 0\n",
      "      \u001b[32m+\u001b[0m\u001b[0m id                       = (known after apply)\n",
      "      \u001b[32m+\u001b[0m\u001b[0m protocol                 = \"-1\"\n",
      "      \u001b[32m+\u001b[0m\u001b[0m security_group_id        = (known after apply)\n",
      "      \u001b[32m+\u001b[0m\u001b[0m security_group_rule_id   = (known after apply)\n",
      "      \u001b[32m+\u001b[0m\u001b[0m self                     = false\n",
      "      \u001b[32m+\u001b[0m\u001b[0m source_security_group_id = (known after apply)\n",
      "      \u001b[32m+\u001b[0m\u001b[0m to_port                  = 0\n",
      "      \u001b[32m+\u001b[0m\u001b[0m type                     = \"egress\"\n",
      "    }\n",
      "\n",
      "\u001b[1m  # module.webserver_cluster.module.alb.aws_security_group_rule.allow_http_inbound\u001b[0m will be created\n",
      "\u001b[0m  \u001b[32m+\u001b[0m\u001b[0m resource \"aws_security_group_rule\" \"allow_http_inbound\" {\n",
      "      \u001b[32m+\u001b[0m\u001b[0m cidr_blocks              = [\n",
      "          \u001b[32m+\u001b[0m\u001b[0m \"0.0.0.0/0\",\n",
      "        ]\n",
      "      \u001b[32m+\u001b[0m\u001b[0m from_port                = 80\n",
      "      \u001b[32m+\u001b[0m\u001b[0m id                       = (known after apply)\n",
      "      \u001b[32m+\u001b[0m\u001b[0m protocol                 = \"tcp\"\n",
      "      \u001b[32m+\u001b[0m\u001b[0m security_group_id        = (known after apply)\n",
      "      \u001b[32m+\u001b[0m\u001b[0m security_group_rule_id   = (known after apply)\n",
      "      \u001b[32m+\u001b[0m\u001b[0m self                     = false\n",
      "      \u001b[32m+\u001b[0m\u001b[0m source_security_group_id = (known after apply)\n",
      "      \u001b[32m+\u001b[0m\u001b[0m to_port                  = 80\n",
      "      \u001b[32m+\u001b[0m\u001b[0m type                     = \"ingress\"\n",
      "    }\n",
      "\n",
      "\u001b[1m  # module.webserver_cluster.module.asg.aws_autoscaling_group.example\u001b[0m will be created\n",
      "\u001b[0m  \u001b[32m+\u001b[0m\u001b[0m resource \"aws_autoscaling_group\" \"example\" {\n",
      "      \u001b[32m+\u001b[0m\u001b[0m arn                       = (known after apply)\n",
      "      \u001b[32m+\u001b[0m\u001b[0m availability_zones        = (known after apply)\n",
      "      \u001b[32m+\u001b[0m\u001b[0m default_cooldown          = (known after apply)\n",
      "      \u001b[32m+\u001b[0m\u001b[0m desired_capacity          = (known after apply)\n",
      "      \u001b[32m+\u001b[0m\u001b[0m force_delete              = false\n",
      "      \u001b[32m+\u001b[0m\u001b[0m force_delete_warm_pool    = false\n",
      "      \u001b[32m+\u001b[0m\u001b[0m health_check_grace_period = 300\n",
      "      \u001b[32m+\u001b[0m\u001b[0m health_check_type         = \"ELB\"\n",
      "      \u001b[32m+\u001b[0m\u001b[0m id                        = (known after apply)\n",
      "      \u001b[32m+\u001b[0m\u001b[0m launch_configuration      = (known after apply)\n",
      "      \u001b[32m+\u001b[0m\u001b[0m load_balancers            = (known after apply)\n",
      "      \u001b[32m+\u001b[0m\u001b[0m max_size                  = 3\n",
      "      \u001b[32m+\u001b[0m\u001b[0m metrics_granularity       = \"1Minute\"\n",
      "      \u001b[32m+\u001b[0m\u001b[0m min_size                  = 2\n",
      "      \u001b[32m+\u001b[0m\u001b[0m name                      = \"webserver_cluster-prod\"\n",
      "      \u001b[32m+\u001b[0m\u001b[0m name_prefix               = (known after apply)\n",
      "      \u001b[32m+\u001b[0m\u001b[0m predicted_capacity        = (known after apply)\n",
      "      \u001b[32m+\u001b[0m\u001b[0m protect_from_scale_in     = false\n",
      "      \u001b[32m+\u001b[0m\u001b[0m service_linked_role_arn   = (known after apply)\n",
      "      \u001b[32m+\u001b[0m\u001b[0m target_group_arns         = (known after apply)\n",
      "      \u001b[32m+\u001b[0m\u001b[0m vpc_zone_identifier       = [\n",
      "          \u001b[32m+\u001b[0m\u001b[0m \"subnet-07373a76cf5740bbb\",\n",
      "          \u001b[32m+\u001b[0m\u001b[0m \"subnet-0c13b6812ab6e3f89\",\n",
      "          \u001b[32m+\u001b[0m\u001b[0m \"subnet-0e6c5590894f5f7cd\",\n",
      "        ]\n",
      "      \u001b[32m+\u001b[0m\u001b[0m wait_for_capacity_timeout = \"10m\"\n",
      "      \u001b[32m+\u001b[0m\u001b[0m warm_pool_size            = (known after apply)\n",
      "\n",
      "      \u001b[32m+\u001b[0m\u001b[0m instance_refresh {\n",
      "          \u001b[32m+\u001b[0m\u001b[0m strategy = \"Rolling\"\n",
      "\n",
      "          \u001b[32m+\u001b[0m\u001b[0m preferences {\n",
      "              \u001b[32m+\u001b[0m\u001b[0m min_healthy_percentage = 50\n",
      "              \u001b[32m+\u001b[0m\u001b[0m skip_matching          = false\n",
      "            }\n",
      "        }\n",
      "\n",
      "      \u001b[32m+\u001b[0m\u001b[0m tag {\n",
      "          \u001b[32m+\u001b[0m\u001b[0m key                 = \"Name\"\n",
      "          \u001b[32m+\u001b[0m\u001b[0m propagate_at_launch = true\n",
      "          \u001b[32m+\u001b[0m\u001b[0m value               = \"webserver_cluster-prod\"\n",
      "        }\n",
      "      \u001b[32m+\u001b[0m\u001b[0m tag {\n",
      "          \u001b[32m+\u001b[0m\u001b[0m key                 = \"first_tag\"\n",
      "          \u001b[32m+\u001b[0m\u001b[0m propagate_at_launch = true\n",
      "          \u001b[32m+\u001b[0m\u001b[0m value               = \"FIRST_TAG_VALUE\"\n",
      "        }\n",
      "\n",
      "      \u001b[32m+\u001b[0m\u001b[0m traffic_source (known after apply)\n",
      "    }\n",
      "\n",
      "\u001b[1m  # module.webserver_cluster.module.asg.aws_cloudwatch_metric_alarm.high_cpu_utilization\u001b[0m will be created\n",
      "\u001b[0m  \u001b[32m+\u001b[0m\u001b[0m resource \"aws_cloudwatch_metric_alarm\" \"high_cpu_utilization\" {\n",
      "      \u001b[32m+\u001b[0m\u001b[0m actions_enabled                       = true\n",
      "      \u001b[32m+\u001b[0m\u001b[0m alarm_name                            = \"webserver_cluster-prod-high-cpu-utilization\"\n",
      "      \u001b[32m+\u001b[0m\u001b[0m arn                                   = (known after apply)\n",
      "      \u001b[32m+\u001b[0m\u001b[0m comparison_operator                   = \"GreaterThanThreshold\"\n",
      "      \u001b[32m+\u001b[0m\u001b[0m dimensions                            = {\n",
      "          \u001b[32m+\u001b[0m\u001b[0m \"AutoScalingGroupName\" = \"webserver_cluster-prod\"\n",
      "        }\n",
      "      \u001b[32m+\u001b[0m\u001b[0m evaluate_low_sample_count_percentiles = (known after apply)\n",
      "      \u001b[32m+\u001b[0m\u001b[0m evaluation_periods                    = 1\n",
      "      \u001b[32m+\u001b[0m\u001b[0m id                                    = (known after apply)\n",
      "      \u001b[32m+\u001b[0m\u001b[0m metric_name                           = \"CPUUtilization\"\n",
      "      \u001b[32m+\u001b[0m\u001b[0m namespace                             = \"AWS/EC2\"\n",
      "      \u001b[32m+\u001b[0m\u001b[0m period                                = 300\n",
      "      \u001b[32m+\u001b[0m\u001b[0m statistic                             = \"Average\"\n",
      "      \u001b[32m+\u001b[0m\u001b[0m tags_all                              = (known after apply)\n",
      "      \u001b[32m+\u001b[0m\u001b[0m threshold                             = 90\n",
      "      \u001b[32m+\u001b[0m\u001b[0m treat_missing_data                    = \"missing\"\n",
      "      \u001b[32m+\u001b[0m\u001b[0m unit                                  = \"Percent\"\n",
      "    }\n",
      "\n",
      "\u001b[1m  # module.webserver_cluster.module.asg.aws_cloudwatch_metric_alarm.low_cpu_credit_balance[0]\u001b[0m will be created\n",
      "\u001b[0m  \u001b[32m+\u001b[0m\u001b[0m resource \"aws_cloudwatch_metric_alarm\" \"low_cpu_credit_balance\" {\n",
      "      \u001b[32m+\u001b[0m\u001b[0m actions_enabled                       = true\n",
      "      \u001b[32m+\u001b[0m\u001b[0m alarm_name                            = \"webserver_cluster-prod-low-cpu-credit-balance\"\n",
      "      \u001b[32m+\u001b[0m\u001b[0m arn                                   = (known after apply)\n",
      "      \u001b[32m+\u001b[0m\u001b[0m comparison_operator                   = \"LessThanThreshold\"\n",
      "      \u001b[32m+\u001b[0m\u001b[0m dimensions                            = {\n",
      "          \u001b[32m+\u001b[0m\u001b[0m \"AutoScalingGroupName\" = \"webserver_cluster-prod\"\n",
      "        }\n",
      "      \u001b[32m+\u001b[0m\u001b[0m evaluate_low_sample_count_percentiles = (known after apply)\n",
      "      \u001b[32m+\u001b[0m\u001b[0m evaluation_periods                    = 1\n",
      "      \u001b[32m+\u001b[0m\u001b[0m id                                    = (known after apply)\n",
      "      \u001b[32m+\u001b[0m\u001b[0m metric_name                           = \"CPUCreditBalance\"\n",
      "      \u001b[32m+\u001b[0m\u001b[0m namespace                             = \"AWS/EC2\"\n",
      "      \u001b[32m+\u001b[0m\u001b[0m period                                = 300\n",
      "      \u001b[32m+\u001b[0m\u001b[0m statistic                             = \"Minimum\"\n",
      "      \u001b[32m+\u001b[0m\u001b[0m tags_all                              = (known after apply)\n",
      "      \u001b[32m+\u001b[0m\u001b[0m threshold                             = 10\n",
      "      \u001b[32m+\u001b[0m\u001b[0m treat_missing_data                    = \"missing\"\n",
      "      \u001b[32m+\u001b[0m\u001b[0m unit                                  = \"Count\"\n",
      "    }\n",
      "\n",
      "\u001b[1m  # module.webserver_cluster.module.asg.aws_launch_configuration.example\u001b[0m will be created\n",
      "\u001b[0m  \u001b[32m+\u001b[0m\u001b[0m resource \"aws_launch_configuration\" \"example\" {\n",
      "      \u001b[32m+\u001b[0m\u001b[0m arn                         = (known after apply)\n",
      "      \u001b[32m+\u001b[0m\u001b[0m associate_public_ip_address = true\n",
      "      \u001b[32m+\u001b[0m\u001b[0m ebs_optimized               = (known after apply)\n",
      "      \u001b[32m+\u001b[0m\u001b[0m enable_monitoring           = true\n",
      "      \u001b[32m+\u001b[0m\u001b[0m id                          = (known after apply)\n",
      "      \u001b[32m+\u001b[0m\u001b[0m image_id                    = \"ami-09da212cf18033880\"\n",
      "      \u001b[32m+\u001b[0m\u001b[0m instance_type               = \"t2.micro\"\n",
      "      \u001b[32m+\u001b[0m\u001b[0m key_name                    = (known after apply)\n",
      "      \u001b[32m+\u001b[0m\u001b[0m name                        = (known after apply)\n",
      "      \u001b[32m+\u001b[0m\u001b[0m name_prefix                 = (known after apply)\n",
      "      \u001b[32m+\u001b[0m\u001b[0m security_groups             = (known after apply)\n",
      "      \u001b[32m+\u001b[0m\u001b[0m user_data                   = \"d147a555667be1100ad7f9536d378eb225e1e118\"\n",
      "\n",
      "      \u001b[32m+\u001b[0m\u001b[0m ebs_block_device (known after apply)\n",
      "\n",
      "      \u001b[32m+\u001b[0m\u001b[0m metadata_options (known after apply)\n",
      "\n",
      "      \u001b[32m+\u001b[0m\u001b[0m root_block_device (known after apply)\n",
      "    }\n",
      "\n",
      "\u001b[1m  # module.webserver_cluster.module.asg.aws_security_group.instance\u001b[0m will be created\n",
      "\u001b[0m  \u001b[32m+\u001b[0m\u001b[0m resource \"aws_security_group\" \"instance\" {\n",
      "      \u001b[32m+\u001b[0m\u001b[0m arn                    = (known after apply)\n",
      "      \u001b[32m+\u001b[0m\u001b[0m description            = \"Managed by Terraform\"\n",
      "      \u001b[32m+\u001b[0m\u001b[0m egress                 = (known after apply)\n",
      "      \u001b[32m+\u001b[0m\u001b[0m id                     = (known after apply)\n",
      "      \u001b[32m+\u001b[0m\u001b[0m ingress                = (known after apply)\n",
      "      \u001b[32m+\u001b[0m\u001b[0m name                   = \"webserver_cluster-prod-instance\"\n",
      "      \u001b[32m+\u001b[0m\u001b[0m name_prefix            = (known after apply)\n",
      "      \u001b[32m+\u001b[0m\u001b[0m owner_id               = (known after apply)\n",
      "      \u001b[32m+\u001b[0m\u001b[0m revoke_rules_on_delete = false\n",
      "      \u001b[32m+\u001b[0m\u001b[0m tags_all               = (known after apply)\n",
      "      \u001b[32m+\u001b[0m\u001b[0m vpc_id                 = \"vpc-0a4860611e96d1d85\"\n",
      "    }\n",
      "\n",
      "\u001b[1m  # module.webserver_cluster.module.asg.aws_security_group_rule.allow_egress[0]\u001b[0m will be created\n",
      "\u001b[0m  \u001b[32m+\u001b[0m\u001b[0m resource \"aws_security_group_rule\" \"allow_egress\" {\n",
      "      \u001b[32m+\u001b[0m\u001b[0m cidr_blocks              = [\n",
      "          \u001b[32m+\u001b[0m\u001b[0m \"0.0.0.0/0\",\n",
      "        ]\n",
      "      \u001b[32m+\u001b[0m\u001b[0m from_port                = 0\n",
      "      \u001b[32m+\u001b[0m\u001b[0m id                       = (known after apply)\n",
      "      \u001b[32m+\u001b[0m\u001b[0m protocol                 = \"-1\"\n",
      "      \u001b[32m+\u001b[0m\u001b[0m security_group_id        = (known after apply)\n",
      "      \u001b[32m+\u001b[0m\u001b[0m security_group_rule_id   = (known after apply)\n",
      "      \u001b[32m+\u001b[0m\u001b[0m self                     = false\n",
      "      \u001b[32m+\u001b[0m\u001b[0m source_security_group_id = (known after apply)\n",
      "      \u001b[32m+\u001b[0m\u001b[0m to_port                  = 0\n",
      "      \u001b[32m+\u001b[0m\u001b[0m type                     = \"egress\"\n",
      "    }\n",
      "\n",
      "\u001b[1m  # module.webserver_cluster.module.asg.aws_security_group_rule.allow_server_http_inbound\u001b[0m will be created\n",
      "\u001b[0m  \u001b[32m+\u001b[0m\u001b[0m resource \"aws_security_group_rule\" \"allow_server_http_inbound\" {\n",
      "      \u001b[32m+\u001b[0m\u001b[0m cidr_blocks              = [\n",
      "          \u001b[32m+\u001b[0m\u001b[0m \"0.0.0.0/0\",\n",
      "        ]\n",
      "      \u001b[32m+\u001b[0m\u001b[0m from_port                = 8080\n",
      "      \u001b[32m+\u001b[0m\u001b[0m id                       = (known after apply)\n",
      "      \u001b[32m+\u001b[0m\u001b[0m protocol                 = \"tcp\"\n",
      "      \u001b[32m+\u001b[0m\u001b[0m security_group_id        = (known after apply)\n",
      "      \u001b[32m+\u001b[0m\u001b[0m security_group_rule_id   = (known after apply)\n",
      "      \u001b[32m+\u001b[0m\u001b[0m self                     = false\n",
      "      \u001b[32m+\u001b[0m\u001b[0m source_security_group_id = (known after apply)\n",
      "      \u001b[32m+\u001b[0m\u001b[0m to_port                  = 8080\n",
      "      \u001b[32m+\u001b[0m\u001b[0m type                     = \"ingress\"\n",
      "    }\n",
      "\n",
      "\u001b[1mPlan:\u001b[0m 14 to add, 0 to change, 0 to destroy.\n",
      "\u001b[0m\n",
      "Changes to Outputs:\n",
      "  \u001b[32m+\u001b[0m\u001b[0m LB_http_port = 80\n",
      "  \u001b[32m+\u001b[0m\u001b[0m public_ip    = (known after apply)\n",
      "\u001b[0m\u001b[1mmodule.webserver_cluster.aws_lb_target_group.asg: Creating...\u001b[0m\u001b[0m\n",
      "\u001b[0m\u001b[1mmodule.webserver_cluster.module.alb.aws_security_group.alb: Creating...\u001b[0m\u001b[0m\n",
      "\u001b[0m\u001b[1mmodule.webserver_cluster.module.asg.aws_security_group.instance: Creating...\u001b[0m\u001b[0m\n",
      "\u001b[0m\u001b[1mmodule.webserver_cluster.aws_lb_target_group.asg: Creation complete after 3s [id=arn:aws:elasticloadbalancing:us-east-2:588738573172:targetgroup/hello-world-prod/6a50e9dd6a0505a5]\u001b[0m\n",
      "\u001b[0m\u001b[1mmodule.webserver_cluster.module.asg.aws_security_group.instance: Creation complete after 4s [id=sg-048972fc852019424]\u001b[0m\n",
      "\u001b[0m\u001b[1mmodule.webserver_cluster.module.asg.aws_security_group_rule.allow_egress[0]: Creating...\u001b[0m\u001b[0m\n",
      "\u001b[0m\u001b[1mmodule.webserver_cluster.module.asg.aws_security_group_rule.allow_server_http_inbound: Creating...\u001b[0m\u001b[0m\n",
      "\u001b[0m\u001b[1mmodule.webserver_cluster.module.asg.aws_launch_configuration.example: Creating...\u001b[0m\u001b[0m\n",
      "\u001b[0m\u001b[1mmodule.webserver_cluster.module.alb.aws_security_group.alb: Creation complete after 4s [id=sg-029d73a8866caddcb]\u001b[0m\n",
      "\u001b[0m\u001b[1mmodule.webserver_cluster.module.alb.aws_security_group_rule.allow_all_outbound: Creating...\u001b[0m\u001b[0m\n",
      "\u001b[0m\u001b[1mmodule.webserver_cluster.module.alb.aws_security_group_rule.allow_http_inbound: Creating...\u001b[0m\u001b[0m\n",
      "\u001b[0m\u001b[1mmodule.webserver_cluster.module.alb.aws_lb.example: Creating...\u001b[0m\u001b[0m\n",
      "\u001b[0m\u001b[1mmodule.webserver_cluster.module.asg.aws_security_group_rule.allow_egress[0]: Creation complete after 2s [id=sgrule-2400205243]\u001b[0m\n",
      "\u001b[0m\u001b[1mmodule.webserver_cluster.module.alb.aws_security_group_rule.allow_http_inbound: Creation complete after 1s [id=sgrule-2841023935]\u001b[0m\n",
      "\u001b[0m\u001b[1mmodule.webserver_cluster.module.asg.aws_launch_configuration.example: Creation complete after 3s [id=terraform-20241015140452591600000001]\u001b[0m\n",
      "\u001b[0m\u001b[1mmodule.webserver_cluster.module.asg.aws_security_group_rule.allow_server_http_inbound: Creation complete after 3s [id=sgrule-2267373364]\u001b[0m\n",
      "\u001b[0m\u001b[1mmodule.webserver_cluster.module.alb.aws_security_group_rule.allow_all_outbound: Creation complete after 2s [id=sgrule-1202771419]\u001b[0m\n",
      "\u001b[0m\u001b[1mmodule.webserver_cluster.module.asg.aws_autoscaling_group.example: Creating...\u001b[0m\u001b[0m\n",
      "\u001b[0m\u001b[1mmodule.webserver_cluster.module.alb.aws_lb.example: Still creating... [10s elapsed]\u001b[0m\u001b[0m\n",
      "\u001b[0m\u001b[1mmodule.webserver_cluster.module.asg.aws_autoscaling_group.example: Still creating... [10s elapsed]\u001b[0m\u001b[0m\n",
      "\u001b[0m\u001b[1mmodule.webserver_cluster.module.alb.aws_lb.example: Still creating... [20s elapsed]\u001b[0m\u001b[0m\n",
      "\u001b[0m\u001b[1mmodule.webserver_cluster.module.asg.aws_autoscaling_group.example: Still creating... [20s elapsed]\u001b[0m\u001b[0m\n",
      "\u001b[0m\u001b[1mmodule.webserver_cluster.module.alb.aws_lb.example: Still creating... [30s elapsed]\u001b[0m\u001b[0m\n",
      "\u001b[0m\u001b[1mmodule.webserver_cluster.module.asg.aws_autoscaling_group.example: Still creating... [30s elapsed]\u001b[0m\u001b[0m\n",
      "\u001b[0m\u001b[1mmodule.webserver_cluster.module.alb.aws_lb.example: Still creating... [40s elapsed]\u001b[0m\u001b[0m\n",
      "\u001b[0m\u001b[1mmodule.webserver_cluster.module.asg.aws_autoscaling_group.example: Still creating... [40s elapsed]\u001b[0m\u001b[0m\n",
      "\u001b[0m\u001b[1mmodule.webserver_cluster.module.asg.aws_autoscaling_group.example: Creation complete after 40s [id=webserver_cluster-prod]\u001b[0m\n",
      "\u001b[0m\u001b[1mmodule.webserver_cluster.module.asg.aws_cloudwatch_metric_alarm.high_cpu_utilization: Creating...\u001b[0m\u001b[0m\n",
      "\u001b[0m\u001b[1mmodule.webserver_cluster.module.asg.aws_cloudwatch_metric_alarm.low_cpu_credit_balance[0]: Creating...\u001b[0m\u001b[0m\n",
      "\u001b[0m\u001b[1mmodule.webserver_cluster.module.asg.aws_cloudwatch_metric_alarm.high_cpu_utilization: Creation complete after 2s [id=webserver_cluster-prod-high-cpu-utilization]\u001b[0m\n",
      "\u001b[0m\u001b[1mmodule.webserver_cluster.module.asg.aws_cloudwatch_metric_alarm.low_cpu_credit_balance[0]: Creation complete after 2s [id=webserver_cluster-prod-low-cpu-credit-balance]\u001b[0m\n",
      "\u001b[0m\u001b[1mmodule.webserver_cluster.module.alb.aws_lb.example: Still creating... [50s elapsed]\u001b[0m\u001b[0m\n",
      "\u001b[0m\u001b[1mmodule.webserver_cluster.module.alb.aws_lb.example: Still creating... [1m0s elapsed]\u001b[0m\u001b[0m\n",
      "\u001b[0m\u001b[1mmodule.webserver_cluster.module.alb.aws_lb.example: Still creating... [1m10s elapsed]\u001b[0m\u001b[0m\n",
      "\u001b[0m\u001b[1mmodule.webserver_cluster.module.alb.aws_lb.example: Still creating... [1m20s elapsed]\u001b[0m\u001b[0m\n",
      "\u001b[0m\u001b[1mmodule.webserver_cluster.module.alb.aws_lb.example: Still creating... [1m30s elapsed]\u001b[0m\u001b[0m\n",
      "\u001b[0m\u001b[1mmodule.webserver_cluster.module.alb.aws_lb.example: Still creating... [1m40s elapsed]\u001b[0m\u001b[0m\n",
      "\u001b[0m\u001b[1mmodule.webserver_cluster.module.alb.aws_lb.example: Still creating... [1m50s elapsed]\u001b[0m\u001b[0m\n",
      "\u001b[0m\u001b[1mmodule.webserver_cluster.module.alb.aws_lb.example: Still creating... [2m0s elapsed]\u001b[0m\u001b[0m\n",
      "\u001b[0m\u001b[1mmodule.webserver_cluster.module.alb.aws_lb.example: Still creating... [2m10s elapsed]\u001b[0m\u001b[0m\n",
      "\u001b[0m\u001b[1mmodule.webserver_cluster.module.alb.aws_lb.example: Still creating... [2m20s elapsed]\u001b[0m\u001b[0m\n",
      "\u001b[0m\u001b[1mmodule.webserver_cluster.module.alb.aws_lb.example: Still creating... [2m30s elapsed]\u001b[0m\u001b[0m\n",
      "\u001b[0m\u001b[1mmodule.webserver_cluster.module.alb.aws_lb.example: Still creating... [2m40s elapsed]\u001b[0m\u001b[0m\n",
      "\u001b[0m\u001b[1mmodule.webserver_cluster.module.alb.aws_lb.example: Still creating... [2m50s elapsed]\u001b[0m\u001b[0m\n",
      "\u001b[0m\u001b[1mmodule.webserver_cluster.module.alb.aws_lb.example: Creation complete after 2m54s [id=arn:aws:elasticloadbalancing:us-east-2:588738573172:loadbalancer/app/hello-world-prod/770bfd1af9b76382]\u001b[0m\n",
      "\u001b[0m\u001b[1mmodule.webserver_cluster.module.alb.aws_lb_listener.http: Creating...\u001b[0m\u001b[0m\n",
      "\u001b[0m\u001b[1mmodule.webserver_cluster.module.alb.aws_lb_listener.http: Creation complete after 1s [id=arn:aws:elasticloadbalancing:us-east-2:588738573172:listener/app/hello-world-prod/770bfd1af9b76382/08f63f45df68eef6]\u001b[0m\n",
      "\u001b[0m\u001b[1mmodule.webserver_cluster.aws_lb_listener_rule.asg: Creating...\u001b[0m\u001b[0m\n",
      "\u001b[0m\u001b[1mmodule.webserver_cluster.aws_lb_listener_rule.asg: Creation complete after 0s [id=arn:aws:elasticloadbalancing:us-east-2:588738573172:listener-rule/app/hello-world-prod/770bfd1af9b76382/08f63f45df68eef6/068e23ad9a7727cd]\u001b[0m\n",
      "\u001b[0m\u001b[1m\u001b[32m\n",
      "Apply complete! Resources: 14 added, 0 changed, 0 destroyed.\n",
      "\u001b[0m\u001b[0m\u001b[1m\u001b[32m\n",
      "Outputs:\n",
      "\n",
      "\u001b[0mLB_http_port = 80\n",
      "public_ip = \"hello-world-prod-1828154032.us-east-2.elb.amazonaws.com\"\n",
      "\n",
      "Tuesday, October 15, 2024 4:07:48 PM\n",
      "\n"
     ]
    },
    {
     "ename": "Error",
     "evalue": "Command failed: SubmitCode: ###       ### ...",
     "output_type": "error",
     "traceback": [
      "Command failed: SubmitCode: ###       ### ..."
     ]
    }
   ],
   "source": [
    "###       ###\n",
    "### APPLY ###\n",
    "###       ###\n",
    "\n",
    "try {prompt_to_confirm} catch {break}\n",
    "tf apply -auto-approve\n",
    "Get-Date"
   ]
  },
  {
   "cell_type": "code",
   "execution_count": 24,
   "metadata": {
    "dotnet_interactive": {
     "language": "pwsh"
    },
    "polyglot_notebook": {
     "kernelName": "pwsh"
    }
   },
   "outputs": [],
   "source": [
    "#Disable egress after deployment\n",
    "$env:TF_VAR_enable_egress=0"
   ]
  },
  {
   "cell_type": "code",
   "execution_count": 25,
   "metadata": {
    "dotnet_interactive": {
     "language": "pwsh"
    },
    "polyglot_notebook": {
     "kernelName": "pwsh"
    }
   },
   "outputs": [
    {
     "name": "stdout",
     "output_type": "stream",
     "text": [
      "\u001b[0m\u001b[1mmodule.webserver_cluster.module.asg.data.aws_ec2_instance_type.instance: Reading...\u001b[0m\u001b[0m\n",
      "\u001b[0m\u001b[1mdata.aws_ami.ami: Reading...\u001b[0m\u001b[0m\n",
      "\u001b[0m\u001b[1mmodule.webserver_cluster.data.aws_vpc.existing_vpc: Reading...\u001b[0m\u001b[0m\n",
      "\u001b[0m\u001b[1mmodule.webserver_cluster.module.asg.data.aws_ec2_instance_type.instance: Read complete after 1s [id=t2.micro]\u001b[0m\n",
      "\u001b[0m\u001b[1mdata.aws_ami.ami: Read complete after 1s [id=ami-09da212cf18033880]\u001b[0m\n",
      "\u001b[0m\u001b[1mmodule.webserver_cluster.data.aws_vpc.existing_vpc: Read complete after 2s [id=vpc-0a4860611e96d1d85]\u001b[0m\n",
      "\u001b[0m\u001b[1mmodule.webserver_cluster.data.aws_subnets.vpc_subnets: Reading...\u001b[0m\u001b[0m\n",
      "\u001b[0m\u001b[1mmodule.webserver_cluster.module.alb.aws_security_group.alb: Refreshing state... [id=sg-029d73a8866caddcb]\u001b[0m\n",
      "\u001b[0m\u001b[1mmodule.webserver_cluster.module.asg.aws_security_group.instance: Refreshing state... [id=sg-048972fc852019424]\u001b[0m\n",
      "\u001b[0m\u001b[1mmodule.webserver_cluster.aws_lb_target_group.asg: Refreshing state... [id=arn:aws:elasticloadbalancing:us-east-2:588738573172:targetgroup/hello-world-prod/6a50e9dd6a0505a5]\u001b[0m\n",
      "\u001b[0m\u001b[1mmodule.webserver_cluster.data.aws_subnets.vpc_subnets: Read complete after 0s [id=us-east-2]\u001b[0m\n",
      "\u001b[0m\u001b[1mmodule.webserver_cluster.data.aws_subnet.subnets[\"subnet-0c13b6812ab6e3f89\"]: Reading...\u001b[0m\u001b[0m\n",
      "\u001b[0m\u001b[1mmodule.webserver_cluster.module.alb.aws_security_group_rule.allow_all_outbound: Refreshing state... [id=sgrule-1202771419]\u001b[0m\n",
      "\u001b[0m\u001b[1mmodule.webserver_cluster.data.aws_subnet.subnets[\"subnet-05c781f49cb7a7b5e\"]: Reading...\u001b[0m\u001b[0m\n",
      "\u001b[0m\u001b[1mmodule.webserver_cluster.data.aws_subnet.subnets[\"subnet-0075ecc8eac5c3cdd\"]: Reading...\u001b[0m\u001b[0m\n",
      "\u001b[0m\u001b[1mmodule.webserver_cluster.data.aws_subnet.subnets[\"subnet-07373a76cf5740bbb\"]: Reading...\u001b[0m\u001b[0m\n",
      "\u001b[0m\u001b[1mmodule.webserver_cluster.data.aws_subnet.subnets[\"subnet-0e6c5590894f5f7cd\"]: Reading...\u001b[0m\u001b[0m\n",
      "\u001b[0m\u001b[1mmodule.webserver_cluster.data.aws_subnet.subnets[\"subnet-07a06d61b264fbaeb\"]: Reading...\u001b[0m\u001b[0m\n",
      "\u001b[0m\u001b[1mmodule.webserver_cluster.module.asg.aws_launch_configuration.example: Refreshing state... [id=terraform-20241015140452591600000001]\u001b[0m\n",
      "\u001b[0m\u001b[1mmodule.webserver_cluster.module.alb.aws_security_group_rule.allow_http_inbound: Refreshing state... [id=sgrule-2841023935]\u001b[0m\n",
      "\u001b[0m\u001b[1mmodule.webserver_cluster.data.aws_subnet.subnets[\"subnet-07373a76cf5740bbb\"]: Read complete after 0s [id=subnet-07373a76cf5740bbb]\u001b[0m\n",
      "\u001b[0m\u001b[1mmodule.webserver_cluster.data.aws_subnet.subnets[\"subnet-0c13b6812ab6e3f89\"]: Read complete after 0s [id=subnet-0c13b6812ab6e3f89]\u001b[0m\n",
      "\u001b[0m\u001b[1mmodule.webserver_cluster.module.asg.aws_security_group_rule.allow_server_http_inbound: Refreshing state... [id=sgrule-2267373364]\u001b[0m\n",
      "\u001b[0m\u001b[1mmodule.webserver_cluster.module.asg.aws_security_group_rule.allow_egress[0]: Refreshing state... [id=sgrule-2400205243]\u001b[0m\n",
      "\u001b[0m\u001b[1mmodule.webserver_cluster.data.aws_subnet.subnets[\"subnet-05c781f49cb7a7b5e\"]: Read complete after 0s [id=subnet-05c781f49cb7a7b5e]\u001b[0m\n",
      "\u001b[0m\u001b[1mmodule.webserver_cluster.data.aws_subnet.subnets[\"subnet-0e6c5590894f5f7cd\"]: Read complete after 1s [id=subnet-0e6c5590894f5f7cd]\u001b[0m\n",
      "\u001b[0m\u001b[1mmodule.webserver_cluster.data.aws_subnet.subnets[\"subnet-0075ecc8eac5c3cdd\"]: Read complete after 1s [id=subnet-0075ecc8eac5c3cdd]\u001b[0m\n",
      "\u001b[0m\u001b[1mmodule.webserver_cluster.data.aws_subnet.subnets[\"subnet-07a06d61b264fbaeb\"]: Read complete after 1s [id=subnet-07a06d61b264fbaeb]\u001b[0m\n",
      "\u001b[0m\u001b[1mmodule.webserver_cluster.module.alb.aws_lb.example: Refreshing state... [id=arn:aws:elasticloadbalancing:us-east-2:588738573172:loadbalancer/app/hello-world-prod/770bfd1af9b76382]\u001b[0m\n",
      "\u001b[0m\u001b[1mmodule.webserver_cluster.module.asg.aws_autoscaling_group.example: Refreshing state... [id=webserver_cluster-prod]\u001b[0m\n",
      "\u001b[0m\u001b[1mmodule.webserver_cluster.module.asg.aws_cloudwatch_metric_alarm.low_cpu_credit_balance[0]: Refreshing state... [id=webserver_cluster-prod-low-cpu-credit-balance]\u001b[0m\n",
      "\u001b[0m\u001b[1mmodule.webserver_cluster.module.asg.aws_cloudwatch_metric_alarm.high_cpu_utilization: Refreshing state... [id=webserver_cluster-prod-high-cpu-utilization]\u001b[0m\n",
      "\u001b[0m\u001b[1mmodule.webserver_cluster.module.alb.aws_lb_listener.http: Refreshing state... [id=arn:aws:elasticloadbalancing:us-east-2:588738573172:listener/app/hello-world-prod/770bfd1af9b76382/08f63f45df68eef6]\u001b[0m\n",
      "\u001b[0m\u001b[1mmodule.webserver_cluster.aws_lb_listener_rule.asg: Refreshing state... [id=arn:aws:elasticloadbalancing:us-east-2:588738573172:listener-rule/app/hello-world-prod/770bfd1af9b76382/08f63f45df68eef6/068e23ad9a7727cd]\u001b[0m\n",
      "\n",
      "Terraform used the selected providers to generate the following execution\n",
      "plan. Resource actions are indicated with the following symbols:\n",
      "  \u001b[31m-\u001b[0m destroy\u001b[0m\n",
      "\n",
      "Terraform will perform the following actions:\n",
      "\n",
      "\u001b[1m  # module.webserver_cluster.module.asg.aws_security_group_rule.allow_egress[0]\u001b[0m will be \u001b[1m\u001b[31mdestroyed\u001b[0m\n",
      "  # (because index [0] is out of range for count)\n",
      "\u001b[0m  \u001b[31m-\u001b[0m\u001b[0m resource \"aws_security_group_rule\" \"allow_egress\" {\n",
      "      \u001b[31m-\u001b[0m\u001b[0m cidr_blocks            = [\n",
      "          \u001b[31m-\u001b[0m\u001b[0m \"0.0.0.0/0\",\n",
      "        ] \u001b[90m-> null\u001b[0m\u001b[0m\n",
      "      \u001b[31m-\u001b[0m\u001b[0m from_port              = 0 \u001b[90m-> null\u001b[0m\u001b[0m\n",
      "      \u001b[31m-\u001b[0m\u001b[0m id                     = \"sgrule-2400205243\" \u001b[90m-> null\u001b[0m\u001b[0m\n",
      "      \u001b[31m-\u001b[0m\u001b[0m protocol               = \"-1\" \u001b[90m-> null\u001b[0m\u001b[0m\n",
      "      \u001b[31m-\u001b[0m\u001b[0m security_group_id      = \"sg-048972fc852019424\" \u001b[90m-> null\u001b[0m\u001b[0m\n",
      "      \u001b[31m-\u001b[0m\u001b[0m security_group_rule_id = \"sgr-055d3123c3f89b562\" \u001b[90m-> null\u001b[0m\u001b[0m\n",
      "      \u001b[31m-\u001b[0m\u001b[0m self                   = false \u001b[90m-> null\u001b[0m\u001b[0m\n",
      "      \u001b[31m-\u001b[0m\u001b[0m to_port                = 0 \u001b[90m-> null\u001b[0m\u001b[0m\n",
      "      \u001b[31m-\u001b[0m\u001b[0m type                   = \"egress\" \u001b[90m-> null\u001b[0m\u001b[0m\n",
      "    }\n",
      "\n",
      "\u001b[1mPlan:\u001b[0m 0 to add, 0 to change, 1 to destroy.\n",
      "\u001b[0m\u001b[0m\u001b[1mmodule.webserver_cluster.module.asg.aws_security_group_rule.allow_egress[0]: Destroying... [id=sgrule-2400205243]\u001b[0m\u001b[0m\n",
      "\u001b[0m\u001b[1mmodule.webserver_cluster.module.asg.aws_security_group_rule.allow_egress[0]: Destruction complete after 1s\u001b[0m\n",
      "\u001b[0m\u001b[1m\u001b[32m\n",
      "Apply complete! Resources: 0 added, 0 changed, 1 destroyed.\n",
      "\u001b[0m\u001b[0m\u001b[1m\u001b[32m\n",
      "Outputs:\n",
      "\n",
      "\u001b[0mLB_http_port = 80\n",
      "public_ip = \"hello-world-prod-1828154032.us-east-2.elb.amazonaws.com\"\n",
      "\n",
      "Tuesday, October 15, 2024 4:18:24 PM\n",
      "\n"
     ]
    }
   ],
   "source": [
    "#Deploy again to remove egress security rule\n",
    "\n",
    "try {prompt_to_confirm} catch {break}\n",
    "tf apply -auto-approve\n",
    "Get-Date"
   ]
  },
  {
   "cell_type": "code",
   "execution_count": 1,
   "metadata": {
    "dotnet_interactive": {
     "language": "pwsh"
    },
    "polyglot_notebook": {
     "kernelName": "pwsh"
    }
   },
   "outputs": [],
   "source": [
    "$public_ip = terraform output -raw public_ip\n",
    "$http_port = terraform output -raw LB_http_port"
   ]
  },
  {
   "cell_type": "code",
   "execution_count": 2,
   "metadata": {
    "dotnet_interactive": {
     "language": "pwsh"
    },
    "polyglot_notebook": {
     "kernelName": "pwsh"
    }
   },
   "outputs": [
    {
     "data": {
      "text/plain": []
     },
     "metadata": {},
     "output_type": "display_data"
    },
    {
     "name": "stdout",
     "output_type": "stream",
     "text": [
      "https://github.com/aksenov-fx\n",
      "\r\n"
     ]
    }
   ],
   "source": [
    "(Invoke-WebRequest -Uri (\"http://\" + $public_ip + \":$LB_http_port\")).Content"
   ]
  },
  {
   "cell_type": "code",
   "execution_count": null,
   "metadata": {
    "dotnet_interactive": {
     "language": "pwsh"
    },
    "polyglot_notebook": {
     "kernelName": "pwsh"
    }
   },
   "outputs": [],
   "source": [
    "###         ###\n",
    "### DESTROY ###\n",
    "###         ###\n",
    "\n",
    "try {prompt_to_confirm} catch {break}\n",
    "tf destroy -auto-approve\n",
    "Get-Date"
   ]
  },
  {
   "cell_type": "markdown",
   "metadata": {},
   "source": [
    "#### Info ####"
   ]
  },
  {
   "cell_type": "code",
   "execution_count": 3,
   "metadata": {
    "dotnet_interactive": {
     "language": "pwsh"
    },
    "polyglot_notebook": {
     "kernelName": "pwsh"
    }
   },
   "outputs": [
    {
     "name": "stdout",
     "output_type": "stream",
     "text": [
      "Terraform v1.9.5\n",
      "on windows_amd64\n",
      "+ provider registry.terraform.io/hashicorp/aws v5.6.2\n",
      "\n",
      "Your version of Terraform is out of date! The latest version\n",
      "is 1.9.7. You can update by downloading from https://www.terraform.io/downloads.html\n"
     ]
    }
   ],
   "source": [
    "terraform version"
   ]
  },
  {
   "cell_type": "code",
   "execution_count": 4,
   "metadata": {
    "dotnet_interactive": {
     "language": "pwsh"
    },
    "polyglot_notebook": {
     "kernelName": "pwsh"
    }
   },
   "outputs": [
    {
     "name": "stdout",
     "output_type": "stream",
     "text": [
      "terraform {\n",
      "  required_version = \">= 1.9.5, < 2.0\"\n",
      "\n",
      "  required_providers {\n",
      "    aws = {\n",
      "      source = \"hashicorp/aws\"\n",
      "    }\n",
      "  }\n",
      "}\n",
      "\n",
      "provider \"aws\" {\n",
      "  region = var.aws_region\n",
      "}\n",
      "\n",
      "# --- --- --- --- --- --- --- --- --- --- #\n",
      "\n",
      "locals {\n",
      "  vpc_name = \"TF-VPC1\"\n",
      "}\n",
      "\n",
      "# --- --- --- --- --- --- --- --- --- --- #\n",
      "\n",
      "# Get ami_id\n",
      "data \"aws_ami\" \"ami\" {\n",
      "  most_recent = true\n",
      "  owners      = [\"137112412989\"] #Amazon\n",
      "  filter {\n",
      "    name   = \"name\"\n",
      "    values = [\"al2023-ami-2023.5*\"] #Amazon_Linux_2023\n",
      "  }\n",
      "}\n",
      "\n",
      "# --- --- --- --- --- --- --- --- --- --- #\n",
      "\n",
      "module \"webserver_cluster\" {\n",
      "\n",
      "  source = \"git::https://github.com/aksenov-fx/terraform-modules.git//configurations_modules/webserver_cluster\"\n",
      "  #source = \"../../configurations_modules/webserv_cluster\"\n",
      "\n",
      "  user_data = base64encode(templatefile(\"${path.module}/user-data.sh\", {\n",
      "    http_port   = var.http_port\n",
      "    server_text = var.server_text\n",
      "  }))\n",
      "\n",
      "  environment = var.environment\n",
      "\n",
      "  instance_type      = \"t2.micro\"\n",
      "  min_size           = 2\n",
      "  max_size           = 3\n",
      "  enable_autoscaling = false\n",
      "  ami                = data.aws_ami.ami.id\n",
      "\n",
      "  http_port     = var.http_port\n",
      "  LB_http_port  = var.LB_http_port\n",
      "  enable_egress = var.enable_egress\n",
      "\n",
      "  vpc_name                   = local.vpc_name\n",
      "  private_subnet_name_prefix = \"${local.vpc_name}-private\"\n",
      "  public_subnet_name_prefix  = \"${local.vpc_name}-public\"\n",
      "\n",
      "  custom_tags = { first_tag = \"first_tag_value\" }\n",
      "\n",
      "}\n"
     ]
    }
   ],
   "source": [
    "#Root module configuration\n",
    "cat .\\main.tf"
   ]
  },
  {
   "cell_type": "code",
   "execution_count": 5,
   "metadata": {
    "dotnet_interactive": {
     "language": "pwsh"
    },
    "polyglot_notebook": {
     "kernelName": "pwsh"
    }
   },
   "outputs": [
    {
     "name": "stdout",
     "output_type": "stream",
     "text": [
      "data.aws_ami.ami\n",
      "module.webserver_cluster.data.aws_subnet.subnets[\"subnet-0075ecc8eac5c3cdd\"]\n",
      "module.webserver_cluster.data.aws_subnet.subnets[\"subnet-05c781f49cb7a7b5e\"]\n",
      "module.webserver_cluster.data.aws_subnet.subnets[\"subnet-07373a76cf5740bbb\"]\n",
      "module.webserver_cluster.data.aws_subnet.subnets[\"subnet-07a06d61b264fbaeb\"]\n",
      "module.webserver_cluster.data.aws_subnet.subnets[\"subnet-0c13b6812ab6e3f89\"]\n",
      "module.webserver_cluster.data.aws_subnet.subnets[\"subnet-0e6c5590894f5f7cd\"]\n",
      "module.webserver_cluster.data.aws_subnets.vpc_subnets\n",
      "module.webserver_cluster.data.aws_vpc.existing_vpc\n",
      "module.webserver_cluster.aws_lb_listener_rule.asg\n",
      "module.webserver_cluster.aws_lb_target_group.asg\n",
      "module.webserver_cluster.module.alb.aws_lb.example\n",
      "module.webserver_cluster.module.alb.aws_lb_listener.http\n",
      "module.webserver_cluster.module.alb.aws_security_group.alb\n",
      "module.webserver_cluster.module.alb.aws_security_group_rule.allow_all_outbound\n",
      "module.webserver_cluster.module.alb.aws_security_group_rule.allow_http_inbound\n",
      "module.webserver_cluster.module.asg.data.aws_ec2_instance_type.instance\n",
      "module.webserver_cluster.module.asg.aws_autoscaling_group.example\n",
      "module.webserver_cluster.module.asg.aws_cloudwatch_metric_alarm.high_cpu_utilization\n",
      "module.webserver_cluster.module.asg.aws_cloudwatch_metric_alarm.low_cpu_credit_balance[0]\n",
      "module.webserver_cluster.module.asg.aws_launch_configuration.example\n",
      "module.webserver_cluster.module.asg.aws_security_group.instance\n",
      "module.webserver_cluster.module.asg.aws_security_group_rule.allow_server_http_inbound\n"
     ]
    }
   ],
   "source": [
    "($resources = terraform state list) | Out-Host"
   ]
  },
  {
   "cell_type": "code",
   "execution_count": null,
   "metadata": {
    "dotnet_interactive": {
     "language": "pwsh"
    },
    "polyglot_notebook": {
     "kernelName": "pwsh"
    }
   },
   "outputs": [],
   "source": [
    "foreach ($resource in $resources) { terraform state show $resource }"
   ]
  },
  {
   "cell_type": "code",
   "execution_count": 6,
   "metadata": {
    "dotnet_interactive": {
     "language": "pwsh"
    },
    "polyglot_notebook": {
     "kernelName": "pwsh"
    }
   },
   "outputs": [
    {
     "name": "stdout",
     "output_type": "stream",
     "text": [
      "LB_http_port = 80\n",
      "public_ip = \"hello-world-prod-1828154032.us-east-2.elb.amazonaws.com\"\n"
     ]
    }
   ],
   "source": [
    "terraform output"
   ]
  },
  {
   "cell_type": "markdown",
   "metadata": {},
   "source": [
    "#### Troubleshooting ####"
   ]
  },
  {
   "cell_type": "code",
   "execution_count": null,
   "metadata": {
    "dotnet_interactive": {
     "language": "pwsh"
    },
    "polyglot_notebook": {
     "kernelName": "pwsh"
    }
   },
   "outputs": [],
   "source": [
    "#$env:TF_LOG = \"TRACE\"\n",
    "#$env:TF_LOG_PATH = \"log.txt\"\n",
    "#$env:TF_LOG = \"\""
   ]
  },
  {
   "cell_type": "code",
   "execution_count": null,
   "metadata": {
    "dotnet_interactive": {
     "language": "pwsh"
    },
    "polyglot_notebook": {
     "kernelName": "pwsh"
    }
   },
   "outputs": [],
   "source": [
    "tf apply -refresh-only -auto-approve"
   ]
  }
 ],
 "metadata": {
  "kernelspec": {
   "display_name": ".NET (C#)",
   "language": "C#",
   "name": ".net-csharp"
  },
  "language_info": {
   "name": "polyglot-notebook"
  },
  "polyglot_notebook": {
   "kernelInfo": {
    "defaultKernelName": "csharp",
    "items": [
     {
      "aliases": [],
      "name": "csharp"
     }
    ]
   }
  }
 },
 "nbformat": 4,
 "nbformat_minor": 2
}
