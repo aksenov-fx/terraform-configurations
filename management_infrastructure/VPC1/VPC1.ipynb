{
 "cells": [
  {
   "cell_type": "markdown",
   "metadata": {},
   "source": [
    "#### Initialize ####"
   ]
  },
  {
   "cell_type": "code",
   "execution_count": 17,
   "metadata": {
    "dotnet_interactive": {
     "language": "pwsh"
    },
    "polyglot_notebook": {
     "kernelName": "pwsh"
    }
   },
   "outputs": [],
   "source": [
    "function tf {aws-vault exec terraform_user -- terraform $args}\n",
    "\n",
    "function prompt_to_confirm { \n",
    "    $user_response = Read-host \"Continue? y/n or 1/0\"\n",
    "    if ($user_response -ne \"y\" -and $user_response -ne 1) {break}\n",
    "}"
   ]
  },
  {
   "cell_type": "code",
   "execution_count": 18,
   "metadata": {
    "dotnet_interactive": {
     "language": "pwsh"
    },
    "polyglot_notebook": {
     "kernelName": "pwsh"
    }
   },
   "outputs": [],
   "source": [
    "$aws_region = \"us-east-2\"\n",
    "$env:AWS_REGION=$aws_region #for aws_vault\n",
    "$env:TF_VAR_aws_region=$aws_region #for terraform"
   ]
  },
  {
   "cell_type": "code",
   "execution_count": null,
   "metadata": {
    "dotnet_interactive": {
     "language": "pwsh"
    },
    "polyglot_notebook": {
     "kernelName": "pwsh"
    }
   },
   "outputs": [],
   "source": [
    "(pwd).path"
   ]
  },
  {
   "cell_type": "code",
   "execution_count": null,
   "metadata": {
    "dotnet_interactive": {
     "language": "pwsh"
    },
    "polyglot_notebook": {
     "kernelName": "pwsh"
    }
   },
   "outputs": [],
   "source": [
    "terraform init #-upgrade"
   ]
  },
  {
   "cell_type": "markdown",
   "metadata": {},
   "source": [
    "#### Workflow ####"
   ]
  },
  {
   "cell_type": "code",
   "execution_count": null,
   "metadata": {
    "dotnet_interactive": {
     "language": "pwsh"
    },
    "polyglot_notebook": {
     "kernelName": "pwsh"
    }
   },
   "outputs": [],
   "source": [
    "terraform fmt"
   ]
  },
  {
   "cell_type": "code",
   "execution_count": 19,
   "metadata": {
    "dotnet_interactive": {
     "language": "pwsh"
    },
    "polyglot_notebook": {
     "kernelName": "pwsh"
    }
   },
   "outputs": [
    {
     "name": "stdout",
     "output_type": "stream",
     "text": [
      "\u001b[32m\u001b[1mSuccess!\u001b[0m The configuration is valid.\n",
      "\u001b[0m\n"
     ]
    }
   ],
   "source": [
    "terraform validate"
   ]
  },
  {
   "cell_type": "code",
   "execution_count": null,
   "metadata": {
    "dotnet_interactive": {
     "language": "pwsh"
    },
    "polyglot_notebook": {
     "kernelName": "pwsh"
    }
   },
   "outputs": [],
   "source": [
    "tf plan -out=tfplan\n",
    "terraform show -json tfplan > plan.json"
   ]
  },
  {
   "cell_type": "code",
   "execution_count": null,
   "metadata": {
    "dotnet_interactive": {
     "language": "pwsh"
    },
    "polyglot_notebook": {
     "kernelName": "pwsh"
    }
   },
   "outputs": [],
   "source": [
    "#Output planned resource addresses and their names in the cloud\n",
    "\n",
    "$plan = Get-Content -Raw -Path \"plan.json\" | ConvertFrom-Json\n",
    "\n",
    "$resourcesToDeploy = $plan.resource_changes | Where-Object { \n",
    "    $_.change.actions -contains \"create\" -or $_.change.actions -contains \"update\" \n",
    "} | ForEach-Object { \n",
    "    \"Type: \" + $_.type\n",
    "    \"TF name: \" + $_.name\n",
    "    \"Cloud name: \" + $_.change.after.name\n",
    "    \"Name tag: \" + $_.change.after.tags_all.name\n",
    "    \"\"\n",
    "}\n",
    "\n",
    "$resourcesToDeploy\n",
    "Get-Date"
   ]
  },
  {
   "cell_type": "code",
   "execution_count": 20,
   "metadata": {
    "dotnet_interactive": {
     "language": "pwsh"
    },
    "polyglot_notebook": {
     "kernelName": "pwsh"
    }
   },
   "outputs": [
    {
     "name": "stdout",
     "output_type": "stream",
     "text": [
      "\u001b[0m\u001b[1mdata.aws_availability_zones.available: Reading...\u001b[0m\u001b[0m\n",
      "\u001b[0m\u001b[1mmodule.vpc.aws_vpc.this[0]: Refreshing state... [id=vpc-0deaf554d8149cc66]\u001b[0m\n",
      "\u001b[0m\u001b[1mdata.aws_availability_zones.available: Read complete after 1s [id=us-east-2]\u001b[0m\n",
      "\u001b[0m\u001b[1mmodule.vpc.aws_default_route_table.default[0]: Refreshing state... [id=rtb-0a5a93db1e4018fc0]\u001b[0m\n",
      "\u001b[0m\u001b[1mmodule.vpc.aws_route_table.private[1]: Refreshing state... [id=rtb-03a61d04945264052]\u001b[0m\n",
      "\u001b[0m\u001b[1mmodule.vpc.aws_default_security_group.this[0]: Refreshing state... [id=sg-002c2448065bba87d]\u001b[0m\n",
      "\u001b[0m\u001b[1mmodule.vpc.aws_subnet.private[0]: Refreshing state... [id=subnet-0885bccad6bef5df1]\u001b[0m\n",
      "\u001b[0m\u001b[1mmodule.vpc.aws_subnet.private[2]: Refreshing state... [id=subnet-089fd6c9ad7ecdd2e]\u001b[0m\n",
      "\u001b[0m\u001b[1mmodule.vpc.aws_subnet.private[1]: Refreshing state... [id=subnet-053639f36fbe824cb]\u001b[0m\n",
      "\u001b[0m\u001b[1mmodule.vpc.aws_default_network_acl.this[0]: Refreshing state... [id=acl-0ac42142e6664208e]\u001b[0m\n",
      "\u001b[0m\u001b[1mmodule.vpc.aws_route_table.private[2]: Refreshing state... [id=rtb-06bc091d46f3da1b1]\u001b[0m\n",
      "\u001b[0m\u001b[1mmodule.vpc.aws_route_table.private[0]: Refreshing state... [id=rtb-04619841f4db39717]\u001b[0m\n",
      "\u001b[0m\u001b[1mmodule.vpc.aws_route_table.public[0]: Refreshing state... [id=rtb-046abfbbe0223ca87]\u001b[0m\n",
      "\u001b[0m\u001b[1mmodule.vpc.aws_subnet.public[1]: Refreshing state... [id=subnet-050a7a6df48d5a127]\u001b[0m\n",
      "\u001b[0m\u001b[1mmodule.vpc.aws_subnet.public[2]: Refreshing state... [id=subnet-04a6f1bad967a4a20]\u001b[0m\n",
      "\u001b[0m\u001b[1mmodule.vpc.aws_subnet.public[0]: Refreshing state... [id=subnet-0e7ced3a3063a9760]\u001b[0m\n",
      "\u001b[0m\u001b[1mmodule.vpc.aws_internet_gateway.this[0]: Refreshing state... [id=igw-049b0e5e85b97d887]\u001b[0m\n",
      "\u001b[0m\u001b[1mmodule.vpc.aws_route_table_association.private[2]: Refreshing state... [id=rtbassoc-0cf78ceca4a3ae41b]\u001b[0m\n",
      "\u001b[0m\u001b[1mmodule.vpc.aws_route_table_association.private[0]: Refreshing state... [id=rtbassoc-08814375f10ed6093]\u001b[0m\n",
      "\u001b[0m\u001b[1mmodule.vpc.aws_route_table_association.private[1]: Refreshing state... [id=rtbassoc-01567dafd997bfa3d]\u001b[0m\n",
      "\u001b[0m\u001b[1mmodule.vpc.aws_route.public_internet_gateway[0]: Refreshing state... [id=r-rtb-046abfbbe0223ca871080289494]\u001b[0m\n",
      "\u001b[0m\u001b[1mmodule.vpc.aws_route_table_association.public[2]: Refreshing state... [id=rtbassoc-08aa0ebd41763a7ad]\u001b[0m\n",
      "\u001b[0m\u001b[1mmodule.vpc.aws_route_table_association.public[0]: Refreshing state... [id=rtbassoc-0d96991f0e25519a9]\u001b[0m\n",
      "\u001b[0m\u001b[1mmodule.vpc.aws_route_table_association.public[1]: Refreshing state... [id=rtbassoc-08a8492174da54e21]\u001b[0m\n",
      "\n",
      "Terraform used the selected providers to generate the following execution\n",
      "plan. Resource actions are indicated with the following symbols:\n",
      "  \u001b[32m+\u001b[0m create\u001b[0m\n",
      "\n",
      "Terraform will perform the following actions:\n",
      "\n",
      "\u001b[1m  # aws_vpc_endpoint.s3\u001b[0m will be created\n",
      "\u001b[0m  \u001b[32m+\u001b[0m\u001b[0m resource \"aws_vpc_endpoint\" \"s3\" {\n",
      "      \u001b[32m+\u001b[0m\u001b[0m arn                   = (known after apply)\n",
      "      \u001b[32m+\u001b[0m\u001b[0m cidr_blocks           = (known after apply)\n",
      "      \u001b[32m+\u001b[0m\u001b[0m dns_entry             = (known after apply)\n",
      "      \u001b[32m+\u001b[0m\u001b[0m id                    = (known after apply)\n",
      "      \u001b[32m+\u001b[0m\u001b[0m ip_address_type       = (known after apply)\n",
      "      \u001b[32m+\u001b[0m\u001b[0m network_interface_ids = (known after apply)\n",
      "      \u001b[32m+\u001b[0m\u001b[0m owner_id              = (known after apply)\n",
      "      \u001b[32m+\u001b[0m\u001b[0m policy                = (known after apply)\n",
      "      \u001b[32m+\u001b[0m\u001b[0m prefix_list_id        = (known after apply)\n",
      "      \u001b[32m+\u001b[0m\u001b[0m private_dns_enabled   = (known after apply)\n",
      "      \u001b[32m+\u001b[0m\u001b[0m requester_managed     = (known after apply)\n",
      "      \u001b[32m+\u001b[0m\u001b[0m route_table_ids       = [\n",
      "          \u001b[32m+\u001b[0m\u001b[0m \"rtb-03a61d04945264052\",\n",
      "          \u001b[32m+\u001b[0m\u001b[0m \"rtb-04619841f4db39717\",\n",
      "          \u001b[32m+\u001b[0m\u001b[0m \"rtb-06bc091d46f3da1b1\",\n",
      "        ]\n",
      "      \u001b[32m+\u001b[0m\u001b[0m security_group_ids    = (known after apply)\n",
      "      \u001b[32m+\u001b[0m\u001b[0m service_name          = \"com.amazonaws.us-east-2.s3\"\n",
      "      \u001b[32m+\u001b[0m\u001b[0m state                 = (known after apply)\n",
      "      \u001b[32m+\u001b[0m\u001b[0m subnet_ids            = (known after apply)\n",
      "      \u001b[32m+\u001b[0m\u001b[0m tags                  = {\n",
      "          \u001b[32m+\u001b[0m\u001b[0m \"Name\" = \"s3-vpc-endpoint\"\n",
      "        }\n",
      "      \u001b[32m+\u001b[0m\u001b[0m tags_all              = {\n",
      "          \u001b[32m+\u001b[0m\u001b[0m \"Name\" = \"s3-vpc-endpoint\"\n",
      "        }\n",
      "      \u001b[32m+\u001b[0m\u001b[0m vpc_endpoint_type     = \"Gateway\"\n",
      "      \u001b[32m+\u001b[0m\u001b[0m vpc_id                = \"vpc-0deaf554d8149cc66\"\n",
      "\n",
      "      \u001b[32m+\u001b[0m\u001b[0m dns_options (known after apply)\n",
      "\n",
      "      \u001b[32m+\u001b[0m\u001b[0m subnet_configuration (known after apply)\n",
      "    }\n",
      "\n",
      "\u001b[1mPlan:\u001b[0m 1 to add, 0 to change, 0 to destroy.\n",
      "\u001b[0m\u001b[90m\n",
      "─────────────────────────────────────────────────────────────────────────────\u001b[0m\n",
      "\n",
      "Note: You didn't use the -out option to save this plan, so Terraform can't\n",
      "guarantee to take exactly these actions if you run \"terraform apply\" now.\n",
      "\n",
      "Thursday, October 10, 2024 3:29:46 PM\n",
      "\n"
     ]
    }
   ],
   "source": [
    "###      ###\n",
    "### PLAN ###\n",
    "###      ###\n",
    "\n",
    "tf plan\n",
    "Get-Date"
   ]
  },
  {
   "cell_type": "code",
   "execution_count": 21,
   "metadata": {
    "dotnet_interactive": {
     "language": "pwsh"
    },
    "polyglot_notebook": {
     "kernelName": "pwsh"
    }
   },
   "outputs": [
    {
     "name": "stdout",
     "output_type": "stream",
     "text": [
      "\u001b[0m\u001b[1mdata.aws_availability_zones.available: Reading...\u001b[0m\u001b[0m\n",
      "\u001b[0m\u001b[1mmodule.vpc.aws_vpc.this[0]: Refreshing state... [id=vpc-0deaf554d8149cc66]\u001b[0m\n",
      "\u001b[0m\u001b[1mdata.aws_availability_zones.available: Read complete after 1s [id=us-east-2]\u001b[0m\n",
      "\u001b[0m\u001b[1mmodule.vpc.aws_default_route_table.default[0]: Refreshing state... [id=rtb-0a5a93db1e4018fc0]\u001b[0m\n",
      "\u001b[0m\u001b[1mmodule.vpc.aws_default_security_group.this[0]: Refreshing state... [id=sg-002c2448065bba87d]\u001b[0m\n",
      "\u001b[0m\u001b[1mmodule.vpc.aws_route_table.public[0]: Refreshing state... [id=rtb-046abfbbe0223ca87]\u001b[0m\n",
      "\u001b[0m\u001b[1mmodule.vpc.aws_default_network_acl.this[0]: Refreshing state... [id=acl-0ac42142e6664208e]\u001b[0m\n",
      "\u001b[0m\u001b[1mmodule.vpc.aws_internet_gateway.this[0]: Refreshing state... [id=igw-049b0e5e85b97d887]\u001b[0m\n",
      "\u001b[0m\u001b[1mmodule.vpc.aws_subnet.private[1]: Refreshing state... [id=subnet-053639f36fbe824cb]\u001b[0m\n",
      "\u001b[0m\u001b[1mmodule.vpc.aws_subnet.private[2]: Refreshing state... [id=subnet-089fd6c9ad7ecdd2e]\u001b[0m\n",
      "\u001b[0m\u001b[1mmodule.vpc.aws_subnet.private[0]: Refreshing state... [id=subnet-0885bccad6bef5df1]\u001b[0m\n",
      "\u001b[0m\u001b[1mmodule.vpc.aws_route_table.private[1]: Refreshing state... [id=rtb-03a61d04945264052]\u001b[0m\n",
      "\u001b[0m\u001b[1mmodule.vpc.aws_route_table.private[0]: Refreshing state... [id=rtb-04619841f4db39717]\u001b[0m\n",
      "\u001b[0m\u001b[1mmodule.vpc.aws_route_table.private[2]: Refreshing state... [id=rtb-06bc091d46f3da1b1]\u001b[0m\n",
      "\u001b[0m\u001b[1mmodule.vpc.aws_subnet.public[0]: Refreshing state... [id=subnet-0e7ced3a3063a9760]\u001b[0m\n",
      "\u001b[0m\u001b[1mmodule.vpc.aws_subnet.public[1]: Refreshing state... [id=subnet-050a7a6df48d5a127]\u001b[0m\n",
      "\u001b[0m\u001b[1mmodule.vpc.aws_subnet.public[2]: Refreshing state... [id=subnet-04a6f1bad967a4a20]\u001b[0m\n",
      "\u001b[0m\u001b[1mmodule.vpc.aws_route.public_internet_gateway[0]: Refreshing state... [id=r-rtb-046abfbbe0223ca871080289494]\u001b[0m\n",
      "\u001b[0m\u001b[1mmodule.vpc.aws_route_table_association.private[0]: Refreshing state... [id=rtbassoc-08814375f10ed6093]\u001b[0m\n",
      "\u001b[0m\u001b[1mmodule.vpc.aws_route_table_association.private[1]: Refreshing state... [id=rtbassoc-01567dafd997bfa3d]\u001b[0m\n",
      "\u001b[0m\u001b[1mmodule.vpc.aws_route_table_association.private[2]: Refreshing state... [id=rtbassoc-0cf78ceca4a3ae41b]\u001b[0m\n",
      "\u001b[0m\u001b[1mmodule.vpc.aws_route_table_association.public[0]: Refreshing state... [id=rtbassoc-0d96991f0e25519a9]\u001b[0m\n",
      "\u001b[0m\u001b[1mmodule.vpc.aws_route_table_association.public[1]: Refreshing state... [id=rtbassoc-08a8492174da54e21]\u001b[0m\n",
      "\u001b[0m\u001b[1mmodule.vpc.aws_route_table_association.public[2]: Refreshing state... [id=rtbassoc-08aa0ebd41763a7ad]\u001b[0m\n",
      "\n",
      "Terraform used the selected providers to generate the following execution\n",
      "plan. Resource actions are indicated with the following symbols:\n",
      "  \u001b[32m+\u001b[0m create\u001b[0m\n",
      "\n",
      "Terraform will perform the following actions:\n",
      "\n",
      "\u001b[1m  # aws_vpc_endpoint.s3\u001b[0m will be created\n",
      "\u001b[0m  \u001b[32m+\u001b[0m\u001b[0m resource \"aws_vpc_endpoint\" \"s3\" {\n",
      "      \u001b[32m+\u001b[0m\u001b[0m arn                   = (known after apply)\n",
      "      \u001b[32m+\u001b[0m\u001b[0m cidr_blocks           = (known after apply)\n",
      "      \u001b[32m+\u001b[0m\u001b[0m dns_entry             = (known after apply)\n",
      "      \u001b[32m+\u001b[0m\u001b[0m id                    = (known after apply)\n",
      "      \u001b[32m+\u001b[0m\u001b[0m ip_address_type       = (known after apply)\n",
      "      \u001b[32m+\u001b[0m\u001b[0m network_interface_ids = (known after apply)\n",
      "      \u001b[32m+\u001b[0m\u001b[0m owner_id              = (known after apply)\n",
      "      \u001b[32m+\u001b[0m\u001b[0m policy                = (known after apply)\n",
      "      \u001b[32m+\u001b[0m\u001b[0m prefix_list_id        = (known after apply)\n",
      "      \u001b[32m+\u001b[0m\u001b[0m private_dns_enabled   = (known after apply)\n",
      "      \u001b[32m+\u001b[0m\u001b[0m requester_managed     = (known after apply)\n",
      "      \u001b[32m+\u001b[0m\u001b[0m route_table_ids       = [\n",
      "          \u001b[32m+\u001b[0m\u001b[0m \"rtb-03a61d04945264052\",\n",
      "          \u001b[32m+\u001b[0m\u001b[0m \"rtb-04619841f4db39717\",\n",
      "          \u001b[32m+\u001b[0m\u001b[0m \"rtb-06bc091d46f3da1b1\",\n",
      "        ]\n",
      "      \u001b[32m+\u001b[0m\u001b[0m security_group_ids    = (known after apply)\n",
      "      \u001b[32m+\u001b[0m\u001b[0m service_name          = \"com.amazonaws.us-east-2.s3\"\n",
      "      \u001b[32m+\u001b[0m\u001b[0m state                 = (known after apply)\n",
      "      \u001b[32m+\u001b[0m\u001b[0m subnet_ids            = (known after apply)\n",
      "      \u001b[32m+\u001b[0m\u001b[0m tags                  = {\n",
      "          \u001b[32m+\u001b[0m\u001b[0m \"Name\" = \"s3-vpc-endpoint\"\n",
      "        }\n",
      "      \u001b[32m+\u001b[0m\u001b[0m tags_all              = {\n",
      "          \u001b[32m+\u001b[0m\u001b[0m \"Name\" = \"s3-vpc-endpoint\"\n",
      "        }\n",
      "      \u001b[32m+\u001b[0m\u001b[0m vpc_endpoint_type     = \"Gateway\"\n",
      "      \u001b[32m+\u001b[0m\u001b[0m vpc_id                = \"vpc-0deaf554d8149cc66\"\n",
      "\n",
      "      \u001b[32m+\u001b[0m\u001b[0m dns_options (known after apply)\n",
      "\n",
      "      \u001b[32m+\u001b[0m\u001b[0m subnet_configuration (known after apply)\n",
      "    }\n",
      "\n",
      "\u001b[1mPlan:\u001b[0m 1 to add, 0 to change, 0 to destroy.\n",
      "\u001b[0m\u001b[0m\u001b[1maws_vpc_endpoint.s3: Creating...\u001b[0m\u001b[0m\n",
      "\u001b[0m\u001b[1maws_vpc_endpoint.s3: Creation complete after 6s [id=vpce-0138968457129aa89]\u001b[0m\n",
      "\u001b[0m\u001b[1m\u001b[32m\n",
      "Apply complete! Resources: 1 added, 0 changed, 0 destroyed.\n",
      "\u001b[0m\u001b[0m\u001b[1m\u001b[32m\n",
      "Outputs:\n",
      "\n",
      "\u001b[0mpublic_subnets = [\n",
      "  \"subnet-0e7ced3a3063a9760\",\n",
      "  \"subnet-050a7a6df48d5a127\",\n",
      "  \"subnet-04a6f1bad967a4a20\",\n",
      "]\n",
      "vpc_id = \"vpc-0deaf554d8149cc66\"\n",
      "\n",
      "Thursday, October 10, 2024 3:31:01 PM\n",
      "\n"
     ]
    }
   ],
   "source": [
    "###       ###\n",
    "### APPLY ###\n",
    "###       ###\n",
    "\n",
    "#try {prompt_to_confirm} catch {break}\n",
    "tf apply -auto-approve\n",
    "Get-Date"
   ]
  },
  {
   "cell_type": "code",
   "execution_count": null,
   "metadata": {
    "dotnet_interactive": {
     "language": "pwsh"
    },
    "polyglot_notebook": {
     "kernelName": "pwsh"
    }
   },
   "outputs": [],
   "source": [
    "###         ###\n",
    "### DESTROY ###\n",
    "###         ###\n",
    "\n",
    "try {prompt_to_confirm} catch {break}\n",
    "tf destroy -auto-approve\n",
    "Get-Date"
   ]
  },
  {
   "cell_type": "markdown",
   "metadata": {},
   "source": [
    "#### Info ####"
   ]
  },
  {
   "cell_type": "code",
   "execution_count": null,
   "metadata": {
    "dotnet_interactive": {
     "language": "pwsh"
    },
    "polyglot_notebook": {
     "kernelName": "pwsh"
    }
   },
   "outputs": [],
   "source": [
    "terraform version"
   ]
  },
  {
   "cell_type": "code",
   "execution_count": null,
   "metadata": {
    "dotnet_interactive": {
     "language": "pwsh"
    },
    "polyglot_notebook": {
     "kernelName": "pwsh"
    }
   },
   "outputs": [],
   "source": [
    "#Root module configuration\n",
    "cat .\\main.tf"
   ]
  },
  {
   "cell_type": "code",
   "execution_count": null,
   "metadata": {
    "dotnet_interactive": {
     "language": "pwsh"
    },
    "polyglot_notebook": {
     "kernelName": "pwsh"
    }
   },
   "outputs": [],
   "source": [
    "($resources = terraform state list) | Out-Host"
   ]
  },
  {
   "cell_type": "code",
   "execution_count": null,
   "metadata": {
    "dotnet_interactive": {
     "language": "pwsh"
    },
    "polyglot_notebook": {
     "kernelName": "pwsh"
    }
   },
   "outputs": [],
   "source": [
    "foreach ($resource in $resources) { terraform state show $resource }"
   ]
  },
  {
   "cell_type": "code",
   "execution_count": null,
   "metadata": {
    "dotnet_interactive": {
     "language": "pwsh"
    },
    "polyglot_notebook": {
     "kernelName": "pwsh"
    }
   },
   "outputs": [],
   "source": [
    "terraform output"
   ]
  },
  {
   "cell_type": "markdown",
   "metadata": {},
   "source": [
    "#### Troubleshooting ####"
   ]
  },
  {
   "cell_type": "code",
   "execution_count": null,
   "metadata": {
    "dotnet_interactive": {
     "language": "pwsh"
    },
    "polyglot_notebook": {
     "kernelName": "pwsh"
    }
   },
   "outputs": [],
   "source": [
    "#$env:TF_LOG = \"TRACE\"\n",
    "#$env:TF_LOG_PATH = \"log.txt\"\n",
    "#$env:TF_LOG = \"\""
   ]
  },
  {
   "cell_type": "code",
   "execution_count": null,
   "metadata": {
    "dotnet_interactive": {
     "language": "pwsh"
    },
    "polyglot_notebook": {
     "kernelName": "pwsh"
    }
   },
   "outputs": [],
   "source": [
    "tf apply -refresh-only -auto-approve"
   ]
  }
 ],
 "metadata": {
  "kernelspec": {
   "display_name": ".NET (C#)",
   "language": "C#",
   "name": ".net-csharp"
  },
  "language_info": {
   "name": "polyglot-notebook"
  },
  "polyglot_notebook": {
   "kernelInfo": {
    "defaultKernelName": "csharp",
    "items": [
     {
      "aliases": [],
      "name": "csharp"
     }
    ]
   }
  }
 },
 "nbformat": 4,
 "nbformat_minor": 2
}
