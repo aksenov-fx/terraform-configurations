{
 "cells": [
  {
   "cell_type": "markdown",
   "metadata": {},
   "source": [
    "#### Initialize ####"
   ]
  },
  {
   "cell_type": "code",
   "execution_count": 5,
   "metadata": {
    "dotnet_interactive": {
     "language": "pwsh"
    },
    "polyglot_notebook": {
     "kernelName": "pwsh"
    }
   },
   "outputs": [],
   "source": [
    "function tf {aws-vault exec terraform_user -- terraform $args}\n",
    "\n",
    "function prompt_to_confirm { \n",
    "    $user_response = Read-host \"Continue? y/n or 1/0\"\n",
    "    if ($user_response -ne \"y\" -and $user_response -ne 1) {break}\n",
    "}"
   ]
  },
  {
   "cell_type": "code",
   "execution_count": 4,
   "metadata": {
    "dotnet_interactive": {
     "language": "pwsh"
    },
    "polyglot_notebook": {
     "kernelName": "pwsh"
    }
   },
   "outputs": [],
   "source": [
    "$aws_region = \"us-east-2\"\n",
    "$env:AWS_REGION=$aws_region #for aws_vault\n",
    "$env:TF_VAR_aws_region=$aws_region #for terraform"
   ]
  },
  {
   "cell_type": "code",
   "execution_count": 2,
   "metadata": {
    "dotnet_interactive": {
     "language": "pwsh"
    },
    "polyglot_notebook": {
     "kernelName": "pwsh"
    }
   },
   "outputs": [
    {
     "name": "stdout",
     "output_type": "stream",
     "text": [
      "C:\\Users\\NOAksenov\\OneDrive - DXC Production\\Documents\\_My\\Code Repo\\terraform\\management_infrastructure\\VPC1\r\n"
     ]
    }
   ],
   "source": [
    "(pwd).path"
   ]
  },
  {
   "cell_type": "code",
   "execution_count": 3,
   "metadata": {
    "dotnet_interactive": {
     "language": "pwsh"
    },
    "polyglot_notebook": {
     "kernelName": "pwsh"
    }
   },
   "outputs": [
    {
     "name": "stdout",
     "output_type": "stream",
     "text": [
      "\u001b[0m\u001b[1mInitializing the backend...\u001b[0m\n",
      "\u001b[0m\u001b[1mInitializing modules...\u001b[0m\n",
      "Downloading registry.terraform.io/terraform-aws-modules/vpc/aws 5.13.0 for vpc...\n",
      "- vpc in .terraform\\modules\\vpc\n",
      "\u001b[0m\u001b[1mInitializing provider plugins...\u001b[0m\n",
      "- Finding hashicorp/aws versions matching \">= 5.46.0\"...\n",
      "- Installing hashicorp/aws v5.70.0...\n",
      "- Installed hashicorp/aws v5.70.0 (signed by HashiCorp)\n",
      "Terraform has created a lock file \u001b[1m.terraform.lock.hcl\u001b[0m to record the provider\n",
      "selections it made above. Include this file in your version control repository\n",
      "so that Terraform can guarantee to make the same selections by default when\n",
      "you run \"terraform init\" in the future.\u001b[0m\n",
      "\n",
      "\u001b[0m\u001b[1m\u001b[32mTerraform has been successfully initialized!\u001b[0m\u001b[32m\u001b[0m\n",
      "\u001b[0m\u001b[32m\n",
      "You may now begin working with Terraform. Try running \"terraform plan\" to see\n",
      "any changes that are required for your infrastructure. All Terraform commands\n",
      "should now work.\n",
      "\n",
      "If you ever set or change modules or backend configuration for Terraform,\n",
      "rerun this command to reinitialize your working directory. If you forget, other\n",
      "commands will detect it and remind you to do so if necessary.\u001b[0m\n"
     ]
    }
   ],
   "source": [
    "terraform init #-upgrade"
   ]
  },
  {
   "cell_type": "markdown",
   "metadata": {},
   "source": [
    "#### Workflow ####"
   ]
  },
  {
   "cell_type": "code",
   "execution_count": 6,
   "metadata": {
    "dotnet_interactive": {
     "language": "pwsh"
    },
    "polyglot_notebook": {
     "kernelName": "pwsh"
    }
   },
   "outputs": [
    {
     "name": "stdout",
     "output_type": "stream",
     "text": [
      "main.tf\r\n"
     ]
    }
   ],
   "source": [
    "terraform fmt"
   ]
  },
  {
   "cell_type": "code",
   "execution_count": 8,
   "metadata": {
    "dotnet_interactive": {
     "language": "pwsh"
    },
    "polyglot_notebook": {
     "kernelName": "pwsh"
    }
   },
   "outputs": [
    {
     "name": "stdout",
     "output_type": "stream",
     "text": [
      "\u001b[32m\u001b[1mSuccess!\u001b[0m The configuration is valid.\n",
      "\u001b[0m\n"
     ]
    }
   ],
   "source": [
    "terraform validate"
   ]
  },
  {
   "cell_type": "code",
   "execution_count": null,
   "metadata": {
    "dotnet_interactive": {
     "language": "pwsh"
    },
    "polyglot_notebook": {
     "kernelName": "pwsh"
    }
   },
   "outputs": [],
   "source": [
    "tf plan -out=tfplan\n",
    "terraform show -json tfplan > plan.json"
   ]
  },
  {
   "cell_type": "code",
   "execution_count": null,
   "metadata": {
    "dotnet_interactive": {
     "language": "pwsh"
    },
    "polyglot_notebook": {
     "kernelName": "pwsh"
    }
   },
   "outputs": [],
   "source": [
    "#Output planned resource addresses and their names in the cloud\n",
    "\n",
    "$plan = Get-Content -Raw -Path \"plan.json\" | ConvertFrom-Json\n",
    "\n",
    "$resourcesToDeploy = $plan.resource_changes | Where-Object { \n",
    "    $_.change.actions -contains \"create\" -or $_.change.actions -contains \"update\" \n",
    "} | ForEach-Object { \n",
    "    \"Type: \" + $_.type\n",
    "    \"TF name: \" + $_.name\n",
    "    \"Cloud name: \" + $_.change.after.name\n",
    "    \"Name tag: \" + $_.change.after.tags_all.name\n",
    "    \"\"\n",
    "}\n",
    "\n",
    "$resourcesToDeploy\n",
    "Get-Date"
   ]
  },
  {
   "cell_type": "code",
   "execution_count": 9,
   "metadata": {
    "dotnet_interactive": {
     "language": "pwsh"
    },
    "polyglot_notebook": {
     "kernelName": "pwsh"
    }
   },
   "outputs": [
    {
     "name": "stdout",
     "output_type": "stream",
     "text": [
      "\u001b[0m\u001b[1mdata.aws_availability_zones.available: Reading...\u001b[0m\u001b[0m\n",
      "\u001b[0m\u001b[1mdata.aws_availability_zones.available: Read complete after 1s [id=us-east-2]\u001b[0m\n",
      "\n",
      "Terraform used the selected providers to generate the following execution\n",
      "plan. Resource actions are indicated with the following symbols:\n",
      "  \u001b[32m+\u001b[0m create\u001b[0m\n",
      "\n",
      "Terraform will perform the following actions:\n",
      "\n",
      "\u001b[1m  # module.vpc.aws_default_network_acl.this[0]\u001b[0m will be created\n",
      "\u001b[0m  \u001b[32m+\u001b[0m\u001b[0m resource \"aws_default_network_acl\" \"this\" {\n",
      "      \u001b[32m+\u001b[0m\u001b[0m arn                    = (known after apply)\n",
      "      \u001b[32m+\u001b[0m\u001b[0m default_network_acl_id = (known after apply)\n",
      "      \u001b[32m+\u001b[0m\u001b[0m id                     = (known after apply)\n",
      "      \u001b[32m+\u001b[0m\u001b[0m owner_id               = (known after apply)\n",
      "      \u001b[32m+\u001b[0m\u001b[0m tags                   = {\n",
      "          \u001b[32m+\u001b[0m\u001b[0m \"Example\" = \"example_tag\"\n",
      "          \u001b[32m+\u001b[0m\u001b[0m \"Name\"    = \"ex-VPC1-default\"\n",
      "        }\n",
      "      \u001b[32m+\u001b[0m\u001b[0m tags_all               = {\n",
      "          \u001b[32m+\u001b[0m\u001b[0m \"Example\" = \"example_tag\"\n",
      "          \u001b[32m+\u001b[0m\u001b[0m \"Name\"    = \"ex-VPC1-default\"\n",
      "        }\n",
      "      \u001b[32m+\u001b[0m\u001b[0m vpc_id                 = (known after apply)\n",
      "\n",
      "      \u001b[32m+\u001b[0m\u001b[0m egress {\n",
      "          \u001b[32m+\u001b[0m\u001b[0m action          = \"allow\"\n",
      "          \u001b[32m+\u001b[0m\u001b[0m from_port       = 0\n",
      "          \u001b[32m+\u001b[0m\u001b[0m ipv6_cidr_block = \"::/0\"\n",
      "          \u001b[32m+\u001b[0m\u001b[0m protocol        = \"-1\"\n",
      "          \u001b[32m+\u001b[0m\u001b[0m rule_no         = 101\n",
      "          \u001b[32m+\u001b[0m\u001b[0m to_port         = 0\n",
      "            \u001b[90m# (1 unchanged attribute hidden)\u001b[0m\u001b[0m\n",
      "        }\n",
      "      \u001b[32m+\u001b[0m\u001b[0m egress {\n",
      "          \u001b[32m+\u001b[0m\u001b[0m action          = \"allow\"\n",
      "          \u001b[32m+\u001b[0m\u001b[0m cidr_block      = \"0.0.0.0/0\"\n",
      "          \u001b[32m+\u001b[0m\u001b[0m from_port       = 0\n",
      "          \u001b[32m+\u001b[0m\u001b[0m protocol        = \"-1\"\n",
      "          \u001b[32m+\u001b[0m\u001b[0m rule_no         = 100\n",
      "          \u001b[32m+\u001b[0m\u001b[0m to_port         = 0\n",
      "            \u001b[90m# (1 unchanged attribute hidden)\u001b[0m\u001b[0m\n",
      "        }\n",
      "\n",
      "      \u001b[32m+\u001b[0m\u001b[0m ingress {\n",
      "          \u001b[32m+\u001b[0m\u001b[0m action          = \"allow\"\n",
      "          \u001b[32m+\u001b[0m\u001b[0m from_port       = 0\n",
      "          \u001b[32m+\u001b[0m\u001b[0m ipv6_cidr_block = \"::/0\"\n",
      "          \u001b[32m+\u001b[0m\u001b[0m protocol        = \"-1\"\n",
      "          \u001b[32m+\u001b[0m\u001b[0m rule_no         = 101\n",
      "          \u001b[32m+\u001b[0m\u001b[0m to_port         = 0\n",
      "            \u001b[90m# (1 unchanged attribute hidden)\u001b[0m\u001b[0m\n",
      "        }\n",
      "      \u001b[32m+\u001b[0m\u001b[0m ingress {\n",
      "          \u001b[32m+\u001b[0m\u001b[0m action          = \"allow\"\n",
      "          \u001b[32m+\u001b[0m\u001b[0m cidr_block      = \"0.0.0.0/0\"\n",
      "          \u001b[32m+\u001b[0m\u001b[0m from_port       = 0\n",
      "          \u001b[32m+\u001b[0m\u001b[0m protocol        = \"-1\"\n",
      "          \u001b[32m+\u001b[0m\u001b[0m rule_no         = 100\n",
      "          \u001b[32m+\u001b[0m\u001b[0m to_port         = 0\n",
      "            \u001b[90m# (1 unchanged attribute hidden)\u001b[0m\u001b[0m\n",
      "        }\n",
      "    }\n",
      "\n",
      "\u001b[1m  # module.vpc.aws_default_route_table.default[0]\u001b[0m will be created\n",
      "\u001b[0m  \u001b[32m+\u001b[0m\u001b[0m resource \"aws_default_route_table\" \"default\" {\n",
      "      \u001b[32m+\u001b[0m\u001b[0m arn                    = (known after apply)\n",
      "      \u001b[32m+\u001b[0m\u001b[0m default_route_table_id = (known after apply)\n",
      "      \u001b[32m+\u001b[0m\u001b[0m id                     = (known after apply)\n",
      "      \u001b[32m+\u001b[0m\u001b[0m owner_id               = (known after apply)\n",
      "      \u001b[32m+\u001b[0m\u001b[0m route                  = (known after apply)\n",
      "      \u001b[32m+\u001b[0m\u001b[0m tags                   = {\n",
      "          \u001b[32m+\u001b[0m\u001b[0m \"Example\" = \"example_tag\"\n",
      "          \u001b[32m+\u001b[0m\u001b[0m \"Name\"    = \"ex-VPC1-default\"\n",
      "        }\n",
      "      \u001b[32m+\u001b[0m\u001b[0m tags_all               = {\n",
      "          \u001b[32m+\u001b[0m\u001b[0m \"Example\" = \"example_tag\"\n",
      "          \u001b[32m+\u001b[0m\u001b[0m \"Name\"    = \"ex-VPC1-default\"\n",
      "        }\n",
      "      \u001b[32m+\u001b[0m\u001b[0m vpc_id                 = (known after apply)\n",
      "\n",
      "      \u001b[32m+\u001b[0m\u001b[0m timeouts {\n",
      "          \u001b[32m+\u001b[0m\u001b[0m create = \"5m\"\n",
      "          \u001b[32m+\u001b[0m\u001b[0m update = \"5m\"\n",
      "        }\n",
      "    }\n",
      "\n",
      "\u001b[1m  # module.vpc.aws_default_security_group.this[0]\u001b[0m will be created\n",
      "\u001b[0m  \u001b[32m+\u001b[0m\u001b[0m resource \"aws_default_security_group\" \"this\" {\n",
      "      \u001b[32m+\u001b[0m\u001b[0m arn                    = (known after apply)\n",
      "      \u001b[32m+\u001b[0m\u001b[0m description            = (known after apply)\n",
      "      \u001b[32m+\u001b[0m\u001b[0m egress                 = (known after apply)\n",
      "      \u001b[32m+\u001b[0m\u001b[0m id                     = (known after apply)\n",
      "      \u001b[32m+\u001b[0m\u001b[0m ingress                = (known after apply)\n",
      "      \u001b[32m+\u001b[0m\u001b[0m name                   = (known after apply)\n",
      "      \u001b[32m+\u001b[0m\u001b[0m name_prefix            = (known after apply)\n",
      "      \u001b[32m+\u001b[0m\u001b[0m owner_id               = (known after apply)\n",
      "      \u001b[32m+\u001b[0m\u001b[0m revoke_rules_on_delete = false\n",
      "      \u001b[32m+\u001b[0m\u001b[0m tags                   = {\n",
      "          \u001b[32m+\u001b[0m\u001b[0m \"Example\" = \"example_tag\"\n",
      "          \u001b[32m+\u001b[0m\u001b[0m \"Name\"    = \"ex-VPC1-default\"\n",
      "        }\n",
      "      \u001b[32m+\u001b[0m\u001b[0m tags_all               = {\n",
      "          \u001b[32m+\u001b[0m\u001b[0m \"Example\" = \"example_tag\"\n",
      "          \u001b[32m+\u001b[0m\u001b[0m \"Name\"    = \"ex-VPC1-default\"\n",
      "        }\n",
      "      \u001b[32m+\u001b[0m\u001b[0m vpc_id                 = (known after apply)\n",
      "    }\n",
      "\n",
      "\u001b[1m  # module.vpc.aws_route_table.private[0]\u001b[0m will be created\n",
      "\u001b[0m  \u001b[32m+\u001b[0m\u001b[0m resource \"aws_route_table\" \"private\" {\n",
      "      \u001b[32m+\u001b[0m\u001b[0m arn              = (known after apply)\n",
      "      \u001b[32m+\u001b[0m\u001b[0m id               = (known after apply)\n",
      "      \u001b[32m+\u001b[0m\u001b[0m owner_id         = (known after apply)\n",
      "      \u001b[32m+\u001b[0m\u001b[0m propagating_vgws = (known after apply)\n",
      "      \u001b[32m+\u001b[0m\u001b[0m route            = (known after apply)\n",
      "      \u001b[32m+\u001b[0m\u001b[0m tags             = {\n",
      "          \u001b[32m+\u001b[0m\u001b[0m \"Example\" = \"example_tag\"\n",
      "          \u001b[32m+\u001b[0m\u001b[0m \"Name\"    = \"ex-VPC1-private-us-east-2a\"\n",
      "        }\n",
      "      \u001b[32m+\u001b[0m\u001b[0m tags_all         = {\n",
      "          \u001b[32m+\u001b[0m\u001b[0m \"Example\" = \"example_tag\"\n",
      "          \u001b[32m+\u001b[0m\u001b[0m \"Name\"    = \"ex-VPC1-private-us-east-2a\"\n",
      "        }\n",
      "      \u001b[32m+\u001b[0m\u001b[0m vpc_id           = (known after apply)\n",
      "    }\n",
      "\n",
      "\u001b[1m  # module.vpc.aws_route_table.private[1]\u001b[0m will be created\n",
      "\u001b[0m  \u001b[32m+\u001b[0m\u001b[0m resource \"aws_route_table\" \"private\" {\n",
      "      \u001b[32m+\u001b[0m\u001b[0m arn              = (known after apply)\n",
      "      \u001b[32m+\u001b[0m\u001b[0m id               = (known after apply)\n",
      "      \u001b[32m+\u001b[0m\u001b[0m owner_id         = (known after apply)\n",
      "      \u001b[32m+\u001b[0m\u001b[0m propagating_vgws = (known after apply)\n",
      "      \u001b[32m+\u001b[0m\u001b[0m route            = (known after apply)\n",
      "      \u001b[32m+\u001b[0m\u001b[0m tags             = {\n",
      "          \u001b[32m+\u001b[0m\u001b[0m \"Example\" = \"example_tag\"\n",
      "          \u001b[32m+\u001b[0m\u001b[0m \"Name\"    = \"ex-VPC1-private-us-east-2b\"\n",
      "        }\n",
      "      \u001b[32m+\u001b[0m\u001b[0m tags_all         = {\n",
      "          \u001b[32m+\u001b[0m\u001b[0m \"Example\" = \"example_tag\"\n",
      "          \u001b[32m+\u001b[0m\u001b[0m \"Name\"    = \"ex-VPC1-private-us-east-2b\"\n",
      "        }\n",
      "      \u001b[32m+\u001b[0m\u001b[0m vpc_id           = (known after apply)\n",
      "    }\n",
      "\n",
      "\u001b[1m  # module.vpc.aws_route_table.private[2]\u001b[0m will be created\n",
      "\u001b[0m  \u001b[32m+\u001b[0m\u001b[0m resource \"aws_route_table\" \"private\" {\n",
      "      \u001b[32m+\u001b[0m\u001b[0m arn              = (known after apply)\n",
      "      \u001b[32m+\u001b[0m\u001b[0m id               = (known after apply)\n",
      "      \u001b[32m+\u001b[0m\u001b[0m owner_id         = (known after apply)\n",
      "      \u001b[32m+\u001b[0m\u001b[0m propagating_vgws = (known after apply)\n",
      "      \u001b[32m+\u001b[0m\u001b[0m route            = (known after apply)\n",
      "      \u001b[32m+\u001b[0m\u001b[0m tags             = {\n",
      "          \u001b[32m+\u001b[0m\u001b[0m \"Example\" = \"example_tag\"\n",
      "          \u001b[32m+\u001b[0m\u001b[0m \"Name\"    = \"ex-VPC1-private-us-east-2c\"\n",
      "        }\n",
      "      \u001b[32m+\u001b[0m\u001b[0m tags_all         = {\n",
      "          \u001b[32m+\u001b[0m\u001b[0m \"Example\" = \"example_tag\"\n",
      "          \u001b[32m+\u001b[0m\u001b[0m \"Name\"    = \"ex-VPC1-private-us-east-2c\"\n",
      "        }\n",
      "      \u001b[32m+\u001b[0m\u001b[0m vpc_id           = (known after apply)\n",
      "    }\n",
      "\n",
      "\u001b[1m  # module.vpc.aws_route_table_association.private[0]\u001b[0m will be created\n",
      "\u001b[0m  \u001b[32m+\u001b[0m\u001b[0m resource \"aws_route_table_association\" \"private\" {\n",
      "      \u001b[32m+\u001b[0m\u001b[0m id             = (known after apply)\n",
      "      \u001b[32m+\u001b[0m\u001b[0m route_table_id = (known after apply)\n",
      "      \u001b[32m+\u001b[0m\u001b[0m subnet_id      = (known after apply)\n",
      "    }\n",
      "\n",
      "\u001b[1m  # module.vpc.aws_route_table_association.private[1]\u001b[0m will be created\n",
      "\u001b[0m  \u001b[32m+\u001b[0m\u001b[0m resource \"aws_route_table_association\" \"private\" {\n",
      "      \u001b[32m+\u001b[0m\u001b[0m id             = (known after apply)\n",
      "      \u001b[32m+\u001b[0m\u001b[0m route_table_id = (known after apply)\n",
      "      \u001b[32m+\u001b[0m\u001b[0m subnet_id      = (known after apply)\n",
      "    }\n",
      "\n",
      "\u001b[1m  # module.vpc.aws_route_table_association.private[2]\u001b[0m will be created\n",
      "\u001b[0m  \u001b[32m+\u001b[0m\u001b[0m resource \"aws_route_table_association\" \"private\" {\n",
      "      \u001b[32m+\u001b[0m\u001b[0m id             = (known after apply)\n",
      "      \u001b[32m+\u001b[0m\u001b[0m route_table_id = (known after apply)\n",
      "      \u001b[32m+\u001b[0m\u001b[0m subnet_id      = (known after apply)\n",
      "    }\n",
      "\n",
      "\u001b[1m  # module.vpc.aws_subnet.private[0]\u001b[0m will be created\n",
      "\u001b[0m  \u001b[32m+\u001b[0m\u001b[0m resource \"aws_subnet\" \"private\" {\n",
      "      \u001b[32m+\u001b[0m\u001b[0m arn                                            = (known after apply)\n",
      "      \u001b[32m+\u001b[0m\u001b[0m assign_ipv6_address_on_creation                = false\n",
      "      \u001b[32m+\u001b[0m\u001b[0m availability_zone                              = \"us-east-2a\"\n",
      "      \u001b[32m+\u001b[0m\u001b[0m availability_zone_id                           = (known after apply)\n",
      "      \u001b[32m+\u001b[0m\u001b[0m cidr_block                                     = \"10.1.0.0/24\"\n",
      "      \u001b[32m+\u001b[0m\u001b[0m enable_dns64                                   = false\n",
      "      \u001b[32m+\u001b[0m\u001b[0m enable_resource_name_dns_a_record_on_launch    = false\n",
      "      \u001b[32m+\u001b[0m\u001b[0m enable_resource_name_dns_aaaa_record_on_launch = false\n",
      "      \u001b[32m+\u001b[0m\u001b[0m id                                             = (known after apply)\n",
      "      \u001b[32m+\u001b[0m\u001b[0m ipv6_cidr_block_association_id                 = (known after apply)\n",
      "      \u001b[32m+\u001b[0m\u001b[0m ipv6_native                                    = false\n",
      "      \u001b[32m+\u001b[0m\u001b[0m map_public_ip_on_launch                        = false\n",
      "      \u001b[32m+\u001b[0m\u001b[0m owner_id                                       = (known after apply)\n",
      "      \u001b[32m+\u001b[0m\u001b[0m private_dns_hostname_type_on_launch            = (known after apply)\n",
      "      \u001b[32m+\u001b[0m\u001b[0m tags                                           = {\n",
      "          \u001b[32m+\u001b[0m\u001b[0m \"Example\" = \"example_tag\"\n",
      "          \u001b[32m+\u001b[0m\u001b[0m \"Name\"    = \"ex-VPC1-private-us-east-2a\"\n",
      "        }\n",
      "      \u001b[32m+\u001b[0m\u001b[0m tags_all                                       = {\n",
      "          \u001b[32m+\u001b[0m\u001b[0m \"Example\" = \"example_tag\"\n",
      "          \u001b[32m+\u001b[0m\u001b[0m \"Name\"    = \"ex-VPC1-private-us-east-2a\"\n",
      "        }\n",
      "      \u001b[32m+\u001b[0m\u001b[0m vpc_id                                         = (known after apply)\n",
      "    }\n",
      "\n",
      "\u001b[1m  # module.vpc.aws_subnet.private[1]\u001b[0m will be created\n",
      "\u001b[0m  \u001b[32m+\u001b[0m\u001b[0m resource \"aws_subnet\" \"private\" {\n",
      "      \u001b[32m+\u001b[0m\u001b[0m arn                                            = (known after apply)\n",
      "      \u001b[32m+\u001b[0m\u001b[0m assign_ipv6_address_on_creation                = false\n",
      "      \u001b[32m+\u001b[0m\u001b[0m availability_zone                              = \"us-east-2b\"\n",
      "      \u001b[32m+\u001b[0m\u001b[0m availability_zone_id                           = (known after apply)\n",
      "      \u001b[32m+\u001b[0m\u001b[0m cidr_block                                     = \"10.1.1.0/24\"\n",
      "      \u001b[32m+\u001b[0m\u001b[0m enable_dns64                                   = false\n",
      "      \u001b[32m+\u001b[0m\u001b[0m enable_resource_name_dns_a_record_on_launch    = false\n",
      "      \u001b[32m+\u001b[0m\u001b[0m enable_resource_name_dns_aaaa_record_on_launch = false\n",
      "      \u001b[32m+\u001b[0m\u001b[0m id                                             = (known after apply)\n",
      "      \u001b[32m+\u001b[0m\u001b[0m ipv6_cidr_block_association_id                 = (known after apply)\n",
      "      \u001b[32m+\u001b[0m\u001b[0m ipv6_native                                    = false\n",
      "      \u001b[32m+\u001b[0m\u001b[0m map_public_ip_on_launch                        = false\n",
      "      \u001b[32m+\u001b[0m\u001b[0m owner_id                                       = (known after apply)\n",
      "      \u001b[32m+\u001b[0m\u001b[0m private_dns_hostname_type_on_launch            = (known after apply)\n",
      "      \u001b[32m+\u001b[0m\u001b[0m tags                                           = {\n",
      "          \u001b[32m+\u001b[0m\u001b[0m \"Example\" = \"example_tag\"\n",
      "          \u001b[32m+\u001b[0m\u001b[0m \"Name\"    = \"ex-VPC1-private-us-east-2b\"\n",
      "        }\n",
      "      \u001b[32m+\u001b[0m\u001b[0m tags_all                                       = {\n",
      "          \u001b[32m+\u001b[0m\u001b[0m \"Example\" = \"example_tag\"\n",
      "          \u001b[32m+\u001b[0m\u001b[0m \"Name\"    = \"ex-VPC1-private-us-east-2b\"\n",
      "        }\n",
      "      \u001b[32m+\u001b[0m\u001b[0m vpc_id                                         = (known after apply)\n",
      "    }\n",
      "\n",
      "\u001b[1m  # module.vpc.aws_subnet.private[2]\u001b[0m will be created\n",
      "\u001b[0m  \u001b[32m+\u001b[0m\u001b[0m resource \"aws_subnet\" \"private\" {\n",
      "      \u001b[32m+\u001b[0m\u001b[0m arn                                            = (known after apply)\n",
      "      \u001b[32m+\u001b[0m\u001b[0m assign_ipv6_address_on_creation                = false\n",
      "      \u001b[32m+\u001b[0m\u001b[0m availability_zone                              = \"us-east-2c\"\n",
      "      \u001b[32m+\u001b[0m\u001b[0m availability_zone_id                           = (known after apply)\n",
      "      \u001b[32m+\u001b[0m\u001b[0m cidr_block                                     = \"10.1.2.0/24\"\n",
      "      \u001b[32m+\u001b[0m\u001b[0m enable_dns64                                   = false\n",
      "      \u001b[32m+\u001b[0m\u001b[0m enable_resource_name_dns_a_record_on_launch    = false\n",
      "      \u001b[32m+\u001b[0m\u001b[0m enable_resource_name_dns_aaaa_record_on_launch = false\n",
      "      \u001b[32m+\u001b[0m\u001b[0m id                                             = (known after apply)\n",
      "      \u001b[32m+\u001b[0m\u001b[0m ipv6_cidr_block_association_id                 = (known after apply)\n",
      "      \u001b[32m+\u001b[0m\u001b[0m ipv6_native                                    = false\n",
      "      \u001b[32m+\u001b[0m\u001b[0m map_public_ip_on_launch                        = false\n",
      "      \u001b[32m+\u001b[0m\u001b[0m owner_id                                       = (known after apply)\n",
      "      \u001b[32m+\u001b[0m\u001b[0m private_dns_hostname_type_on_launch            = (known after apply)\n",
      "      \u001b[32m+\u001b[0m\u001b[0m tags                                           = {\n",
      "          \u001b[32m+\u001b[0m\u001b[0m \"Example\" = \"example_tag\"\n",
      "          \u001b[32m+\u001b[0m\u001b[0m \"Name\"    = \"ex-VPC1-private-us-east-2c\"\n",
      "        }\n",
      "      \u001b[32m+\u001b[0m\u001b[0m tags_all                                       = {\n",
      "          \u001b[32m+\u001b[0m\u001b[0m \"Example\" = \"example_tag\"\n",
      "          \u001b[32m+\u001b[0m\u001b[0m \"Name\"    = \"ex-VPC1-private-us-east-2c\"\n",
      "        }\n",
      "      \u001b[32m+\u001b[0m\u001b[0m vpc_id                                         = (known after apply)\n",
      "    }\n",
      "\n",
      "\u001b[1m  # module.vpc.aws_vpc.this[0]\u001b[0m will be created\n",
      "\u001b[0m  \u001b[32m+\u001b[0m\u001b[0m resource \"aws_vpc\" \"this\" {\n",
      "      \u001b[32m+\u001b[0m\u001b[0m arn                                  = (known after apply)\n",
      "      \u001b[32m+\u001b[0m\u001b[0m cidr_block                           = \"10.1.0.0/16\"\n",
      "      \u001b[32m+\u001b[0m\u001b[0m default_network_acl_id               = (known after apply)\n",
      "      \u001b[32m+\u001b[0m\u001b[0m default_route_table_id               = (known after apply)\n",
      "      \u001b[32m+\u001b[0m\u001b[0m default_security_group_id            = (known after apply)\n",
      "      \u001b[32m+\u001b[0m\u001b[0m dhcp_options_id                      = (known after apply)\n",
      "      \u001b[32m+\u001b[0m\u001b[0m enable_dns_hostnames                 = true\n",
      "      \u001b[32m+\u001b[0m\u001b[0m enable_dns_support                   = true\n",
      "      \u001b[32m+\u001b[0m\u001b[0m enable_network_address_usage_metrics = (known after apply)\n",
      "      \u001b[32m+\u001b[0m\u001b[0m id                                   = (known after apply)\n",
      "      \u001b[32m+\u001b[0m\u001b[0m instance_tenancy                     = \"default\"\n",
      "      \u001b[32m+\u001b[0m\u001b[0m ipv6_association_id                  = (known after apply)\n",
      "      \u001b[32m+\u001b[0m\u001b[0m ipv6_cidr_block                      = (known after apply)\n",
      "      \u001b[32m+\u001b[0m\u001b[0m ipv6_cidr_block_network_border_group = (known after apply)\n",
      "      \u001b[32m+\u001b[0m\u001b[0m main_route_table_id                  = (known after apply)\n",
      "      \u001b[32m+\u001b[0m\u001b[0m owner_id                             = (known after apply)\n",
      "      \u001b[32m+\u001b[0m\u001b[0m tags                                 = {\n",
      "          \u001b[32m+\u001b[0m\u001b[0m \"Example\" = \"example_tag\"\n",
      "          \u001b[32m+\u001b[0m\u001b[0m \"Name\"    = \"ex-VPC1\"\n",
      "        }\n",
      "      \u001b[32m+\u001b[0m\u001b[0m tags_all                             = {\n",
      "          \u001b[32m+\u001b[0m\u001b[0m \"Example\" = \"example_tag\"\n",
      "          \u001b[32m+\u001b[0m\u001b[0m \"Name\"    = \"ex-VPC1\"\n",
      "        }\n",
      "    }\n",
      "\n",
      "\u001b[1mPlan:\u001b[0m 13 to add, 0 to change, 0 to destroy.\n",
      "\u001b[0m\u001b[90m\n",
      "─────────────────────────────────────────────────────────────────────────────\u001b[0m\n",
      "\n",
      "Note: You didn't use the -out option to save this plan, so Terraform can't\n",
      "guarantee to take exactly these actions if you run \"terraform apply\" now.\n",
      "\n",
      "Thursday, October 10, 2024 12:38:22 AM\n",
      "\n"
     ]
    }
   ],
   "source": [
    "###      ###\n",
    "### PLAN ###\n",
    "###      ###\n",
    "\n",
    "tf plan\n",
    "Get-Date"
   ]
  },
  {
   "cell_type": "code",
   "execution_count": null,
   "metadata": {
    "dotnet_interactive": {
     "language": "pwsh"
    },
    "polyglot_notebook": {
     "kernelName": "pwsh"
    }
   },
   "outputs": [],
   "source": [
    "###       ###\n",
    "### APPLY ###\n",
    "###       ###\n",
    "\n",
    "try {prompt_to_confirm} catch {break}\n",
    "tf apply -auto-approve\n",
    "Get-Date"
   ]
  },
  {
   "cell_type": "code",
   "execution_count": null,
   "metadata": {
    "dotnet_interactive": {
     "language": "pwsh"
    },
    "polyglot_notebook": {
     "kernelName": "pwsh"
    }
   },
   "outputs": [],
   "source": [
    "###         ###\n",
    "### DESTROY ###\n",
    "###         ###\n",
    "\n",
    "try {prompt_to_confirm} catch {break}\n",
    "tf destroy -auto-approve\n",
    "Get-Date"
   ]
  },
  {
   "cell_type": "markdown",
   "metadata": {},
   "source": [
    "#### Info ####"
   ]
  },
  {
   "cell_type": "code",
   "execution_count": null,
   "metadata": {
    "dotnet_interactive": {
     "language": "pwsh"
    },
    "polyglot_notebook": {
     "kernelName": "pwsh"
    }
   },
   "outputs": [],
   "source": [
    "terraform version"
   ]
  },
  {
   "cell_type": "code",
   "execution_count": null,
   "metadata": {
    "dotnet_interactive": {
     "language": "pwsh"
    },
    "polyglot_notebook": {
     "kernelName": "pwsh"
    }
   },
   "outputs": [],
   "source": [
    "#Root module configuration\n",
    "cat .\\main.tf"
   ]
  },
  {
   "cell_type": "code",
   "execution_count": null,
   "metadata": {
    "dotnet_interactive": {
     "language": "pwsh"
    },
    "polyglot_notebook": {
     "kernelName": "pwsh"
    }
   },
   "outputs": [],
   "source": [
    "($resources = terraform state list) | Out-Host"
   ]
  },
  {
   "cell_type": "code",
   "execution_count": null,
   "metadata": {
    "dotnet_interactive": {
     "language": "pwsh"
    },
    "polyglot_notebook": {
     "kernelName": "pwsh"
    }
   },
   "outputs": [],
   "source": [
    "foreach ($resource in $resources) { terraform state show $resource }"
   ]
  },
  {
   "cell_type": "code",
   "execution_count": null,
   "metadata": {
    "dotnet_interactive": {
     "language": "pwsh"
    },
    "polyglot_notebook": {
     "kernelName": "pwsh"
    }
   },
   "outputs": [],
   "source": [
    "terraform output"
   ]
  },
  {
   "cell_type": "markdown",
   "metadata": {},
   "source": [
    "#### Troubleshooting ####"
   ]
  },
  {
   "cell_type": "code",
   "execution_count": null,
   "metadata": {
    "dotnet_interactive": {
     "language": "pwsh"
    },
    "polyglot_notebook": {
     "kernelName": "pwsh"
    }
   },
   "outputs": [],
   "source": [
    "#$env:TF_LOG = \"TRACE\"\n",
    "#$env:TF_LOG_PATH = \"log.txt\"\n",
    "#$env:TF_LOG = \"\""
   ]
  },
  {
   "cell_type": "code",
   "execution_count": null,
   "metadata": {
    "dotnet_interactive": {
     "language": "pwsh"
    },
    "polyglot_notebook": {
     "kernelName": "pwsh"
    }
   },
   "outputs": [],
   "source": [
    "tf apply -refresh-only -auto-approve"
   ]
  }
 ],
 "metadata": {
  "kernelspec": {
   "display_name": ".NET (C#)",
   "language": "C#",
   "name": ".net-csharp"
  },
  "language_info": {
   "name": "polyglot-notebook"
  },
  "polyglot_notebook": {
   "kernelInfo": {
    "defaultKernelName": "csharp",
    "items": [
     {
      "aliases": [],
      "name": "csharp"
     }
    ]
   }
  }
 },
 "nbformat": 4,
 "nbformat_minor": 2
}
